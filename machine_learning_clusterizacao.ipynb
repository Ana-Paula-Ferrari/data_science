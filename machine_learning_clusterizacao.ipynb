{
  "nbformat": 4,
  "nbformat_minor": 0,
  "metadata": {
    "colab": {
      "provenance": [],
      "authorship_tag": "ABX9TyOhcuebLK/FsjstY0f6h6B7"
    },
    "kernelspec": {
      "name": "python3",
      "display_name": "Python 3"
    },
    "language_info": {
      "name": "python"
    }
  },
  "cells": [
    {
      "cell_type": "markdown",
      "source": [
        "#**Agrupamento ou Clusterização**\n",
        "\n",
        "Cria grupos a partir de atributos(caracteristicas) das instâncias"
      ],
      "metadata": {
        "id": "vtD5o02kNWlH"
      }
    },
    {
      "cell_type": "markdown",
      "source": [
        "**K-means**\n",
        "\n",
        "Divide o conjunto de dados em K grupos distintos com base em suas características ou similaridades."
      ],
      "metadata": {
        "id": "F5OP2OTF_fl0"
      }
    },
    {
      "cell_type": "code",
      "source": [
        "import pandas as pd\n",
        "from sklearn import datasets\n",
        "import numpy as np\n",
        "from sklearn.metrics import confusion_matrix\n",
        "import matplotlib.pyplot as plt\n",
        "from sklearn.cluster import KMeans"
      ],
      "metadata": {
        "id": "7xAcV-Kp_kPA"
      },
      "execution_count": 1,
      "outputs": []
    },
    {
      "cell_type": "code",
      "source": [
        "iris = datasets.load_iris()\n",
        "iris"
      ],
      "metadata": {
        "colab": {
          "base_uri": "https://localhost:8080/"
        },
        "id": "-wUwWqKmDK8z",
        "outputId": "f154888f-0b32-4ae7-9be2-ccc02fb27247"
      },
      "execution_count": 2,
      "outputs": [
        {
          "output_type": "execute_result",
          "data": {
            "text/plain": [
              "{'data': array([[5.1, 3.5, 1.4, 0.2],\n",
              "        [4.9, 3. , 1.4, 0.2],\n",
              "        [4.7, 3.2, 1.3, 0.2],\n",
              "        [4.6, 3.1, 1.5, 0.2],\n",
              "        [5. , 3.6, 1.4, 0.2],\n",
              "        [5.4, 3.9, 1.7, 0.4],\n",
              "        [4.6, 3.4, 1.4, 0.3],\n",
              "        [5. , 3.4, 1.5, 0.2],\n",
              "        [4.4, 2.9, 1.4, 0.2],\n",
              "        [4.9, 3.1, 1.5, 0.1],\n",
              "        [5.4, 3.7, 1.5, 0.2],\n",
              "        [4.8, 3.4, 1.6, 0.2],\n",
              "        [4.8, 3. , 1.4, 0.1],\n",
              "        [4.3, 3. , 1.1, 0.1],\n",
              "        [5.8, 4. , 1.2, 0.2],\n",
              "        [5.7, 4.4, 1.5, 0.4],\n",
              "        [5.4, 3.9, 1.3, 0.4],\n",
              "        [5.1, 3.5, 1.4, 0.3],\n",
              "        [5.7, 3.8, 1.7, 0.3],\n",
              "        [5.1, 3.8, 1.5, 0.3],\n",
              "        [5.4, 3.4, 1.7, 0.2],\n",
              "        [5.1, 3.7, 1.5, 0.4],\n",
              "        [4.6, 3.6, 1. , 0.2],\n",
              "        [5.1, 3.3, 1.7, 0.5],\n",
              "        [4.8, 3.4, 1.9, 0.2],\n",
              "        [5. , 3. , 1.6, 0.2],\n",
              "        [5. , 3.4, 1.6, 0.4],\n",
              "        [5.2, 3.5, 1.5, 0.2],\n",
              "        [5.2, 3.4, 1.4, 0.2],\n",
              "        [4.7, 3.2, 1.6, 0.2],\n",
              "        [4.8, 3.1, 1.6, 0.2],\n",
              "        [5.4, 3.4, 1.5, 0.4],\n",
              "        [5.2, 4.1, 1.5, 0.1],\n",
              "        [5.5, 4.2, 1.4, 0.2],\n",
              "        [4.9, 3.1, 1.5, 0.2],\n",
              "        [5. , 3.2, 1.2, 0.2],\n",
              "        [5.5, 3.5, 1.3, 0.2],\n",
              "        [4.9, 3.6, 1.4, 0.1],\n",
              "        [4.4, 3. , 1.3, 0.2],\n",
              "        [5.1, 3.4, 1.5, 0.2],\n",
              "        [5. , 3.5, 1.3, 0.3],\n",
              "        [4.5, 2.3, 1.3, 0.3],\n",
              "        [4.4, 3.2, 1.3, 0.2],\n",
              "        [5. , 3.5, 1.6, 0.6],\n",
              "        [5.1, 3.8, 1.9, 0.4],\n",
              "        [4.8, 3. , 1.4, 0.3],\n",
              "        [5.1, 3.8, 1.6, 0.2],\n",
              "        [4.6, 3.2, 1.4, 0.2],\n",
              "        [5.3, 3.7, 1.5, 0.2],\n",
              "        [5. , 3.3, 1.4, 0.2],\n",
              "        [7. , 3.2, 4.7, 1.4],\n",
              "        [6.4, 3.2, 4.5, 1.5],\n",
              "        [6.9, 3.1, 4.9, 1.5],\n",
              "        [5.5, 2.3, 4. , 1.3],\n",
              "        [6.5, 2.8, 4.6, 1.5],\n",
              "        [5.7, 2.8, 4.5, 1.3],\n",
              "        [6.3, 3.3, 4.7, 1.6],\n",
              "        [4.9, 2.4, 3.3, 1. ],\n",
              "        [6.6, 2.9, 4.6, 1.3],\n",
              "        [5.2, 2.7, 3.9, 1.4],\n",
              "        [5. , 2. , 3.5, 1. ],\n",
              "        [5.9, 3. , 4.2, 1.5],\n",
              "        [6. , 2.2, 4. , 1. ],\n",
              "        [6.1, 2.9, 4.7, 1.4],\n",
              "        [5.6, 2.9, 3.6, 1.3],\n",
              "        [6.7, 3.1, 4.4, 1.4],\n",
              "        [5.6, 3. , 4.5, 1.5],\n",
              "        [5.8, 2.7, 4.1, 1. ],\n",
              "        [6.2, 2.2, 4.5, 1.5],\n",
              "        [5.6, 2.5, 3.9, 1.1],\n",
              "        [5.9, 3.2, 4.8, 1.8],\n",
              "        [6.1, 2.8, 4. , 1.3],\n",
              "        [6.3, 2.5, 4.9, 1.5],\n",
              "        [6.1, 2.8, 4.7, 1.2],\n",
              "        [6.4, 2.9, 4.3, 1.3],\n",
              "        [6.6, 3. , 4.4, 1.4],\n",
              "        [6.8, 2.8, 4.8, 1.4],\n",
              "        [6.7, 3. , 5. , 1.7],\n",
              "        [6. , 2.9, 4.5, 1.5],\n",
              "        [5.7, 2.6, 3.5, 1. ],\n",
              "        [5.5, 2.4, 3.8, 1.1],\n",
              "        [5.5, 2.4, 3.7, 1. ],\n",
              "        [5.8, 2.7, 3.9, 1.2],\n",
              "        [6. , 2.7, 5.1, 1.6],\n",
              "        [5.4, 3. , 4.5, 1.5],\n",
              "        [6. , 3.4, 4.5, 1.6],\n",
              "        [6.7, 3.1, 4.7, 1.5],\n",
              "        [6.3, 2.3, 4.4, 1.3],\n",
              "        [5.6, 3. , 4.1, 1.3],\n",
              "        [5.5, 2.5, 4. , 1.3],\n",
              "        [5.5, 2.6, 4.4, 1.2],\n",
              "        [6.1, 3. , 4.6, 1.4],\n",
              "        [5.8, 2.6, 4. , 1.2],\n",
              "        [5. , 2.3, 3.3, 1. ],\n",
              "        [5.6, 2.7, 4.2, 1.3],\n",
              "        [5.7, 3. , 4.2, 1.2],\n",
              "        [5.7, 2.9, 4.2, 1.3],\n",
              "        [6.2, 2.9, 4.3, 1.3],\n",
              "        [5.1, 2.5, 3. , 1.1],\n",
              "        [5.7, 2.8, 4.1, 1.3],\n",
              "        [6.3, 3.3, 6. , 2.5],\n",
              "        [5.8, 2.7, 5.1, 1.9],\n",
              "        [7.1, 3. , 5.9, 2.1],\n",
              "        [6.3, 2.9, 5.6, 1.8],\n",
              "        [6.5, 3. , 5.8, 2.2],\n",
              "        [7.6, 3. , 6.6, 2.1],\n",
              "        [4.9, 2.5, 4.5, 1.7],\n",
              "        [7.3, 2.9, 6.3, 1.8],\n",
              "        [6.7, 2.5, 5.8, 1.8],\n",
              "        [7.2, 3.6, 6.1, 2.5],\n",
              "        [6.5, 3.2, 5.1, 2. ],\n",
              "        [6.4, 2.7, 5.3, 1.9],\n",
              "        [6.8, 3. , 5.5, 2.1],\n",
              "        [5.7, 2.5, 5. , 2. ],\n",
              "        [5.8, 2.8, 5.1, 2.4],\n",
              "        [6.4, 3.2, 5.3, 2.3],\n",
              "        [6.5, 3. , 5.5, 1.8],\n",
              "        [7.7, 3.8, 6.7, 2.2],\n",
              "        [7.7, 2.6, 6.9, 2.3],\n",
              "        [6. , 2.2, 5. , 1.5],\n",
              "        [6.9, 3.2, 5.7, 2.3],\n",
              "        [5.6, 2.8, 4.9, 2. ],\n",
              "        [7.7, 2.8, 6.7, 2. ],\n",
              "        [6.3, 2.7, 4.9, 1.8],\n",
              "        [6.7, 3.3, 5.7, 2.1],\n",
              "        [7.2, 3.2, 6. , 1.8],\n",
              "        [6.2, 2.8, 4.8, 1.8],\n",
              "        [6.1, 3. , 4.9, 1.8],\n",
              "        [6.4, 2.8, 5.6, 2.1],\n",
              "        [7.2, 3. , 5.8, 1.6],\n",
              "        [7.4, 2.8, 6.1, 1.9],\n",
              "        [7.9, 3.8, 6.4, 2. ],\n",
              "        [6.4, 2.8, 5.6, 2.2],\n",
              "        [6.3, 2.8, 5.1, 1.5],\n",
              "        [6.1, 2.6, 5.6, 1.4],\n",
              "        [7.7, 3. , 6.1, 2.3],\n",
              "        [6.3, 3.4, 5.6, 2.4],\n",
              "        [6.4, 3.1, 5.5, 1.8],\n",
              "        [6. , 3. , 4.8, 1.8],\n",
              "        [6.9, 3.1, 5.4, 2.1],\n",
              "        [6.7, 3.1, 5.6, 2.4],\n",
              "        [6.9, 3.1, 5.1, 2.3],\n",
              "        [5.8, 2.7, 5.1, 1.9],\n",
              "        [6.8, 3.2, 5.9, 2.3],\n",
              "        [6.7, 3.3, 5.7, 2.5],\n",
              "        [6.7, 3. , 5.2, 2.3],\n",
              "        [6.3, 2.5, 5. , 1.9],\n",
              "        [6.5, 3. , 5.2, 2. ],\n",
              "        [6.2, 3.4, 5.4, 2.3],\n",
              "        [5.9, 3. , 5.1, 1.8]]),\n",
              " 'target': array([0, 0, 0, 0, 0, 0, 0, 0, 0, 0, 0, 0, 0, 0, 0, 0, 0, 0, 0, 0, 0, 0,\n",
              "        0, 0, 0, 0, 0, 0, 0, 0, 0, 0, 0, 0, 0, 0, 0, 0, 0, 0, 0, 0, 0, 0,\n",
              "        0, 0, 0, 0, 0, 0, 1, 1, 1, 1, 1, 1, 1, 1, 1, 1, 1, 1, 1, 1, 1, 1,\n",
              "        1, 1, 1, 1, 1, 1, 1, 1, 1, 1, 1, 1, 1, 1, 1, 1, 1, 1, 1, 1, 1, 1,\n",
              "        1, 1, 1, 1, 1, 1, 1, 1, 1, 1, 1, 1, 2, 2, 2, 2, 2, 2, 2, 2, 2, 2,\n",
              "        2, 2, 2, 2, 2, 2, 2, 2, 2, 2, 2, 2, 2, 2, 2, 2, 2, 2, 2, 2, 2, 2,\n",
              "        2, 2, 2, 2, 2, 2, 2, 2, 2, 2, 2, 2, 2, 2, 2, 2, 2, 2]),\n",
              " 'frame': None,\n",
              " 'target_names': array(['setosa', 'versicolor', 'virginica'], dtype='<U10'),\n",
              " 'DESCR': '.. _iris_dataset:\\n\\nIris plants dataset\\n--------------------\\n\\n**Data Set Characteristics:**\\n\\n    :Number of Instances: 150 (50 in each of three classes)\\n    :Number of Attributes: 4 numeric, predictive attributes and the class\\n    :Attribute Information:\\n        - sepal length in cm\\n        - sepal width in cm\\n        - petal length in cm\\n        - petal width in cm\\n        - class:\\n                - Iris-Setosa\\n                - Iris-Versicolour\\n                - Iris-Virginica\\n                \\n    :Summary Statistics:\\n\\n    ============== ==== ==== ======= ===== ====================\\n                    Min  Max   Mean    SD   Class Correlation\\n    ============== ==== ==== ======= ===== ====================\\n    sepal length:   4.3  7.9   5.84   0.83    0.7826\\n    sepal width:    2.0  4.4   3.05   0.43   -0.4194\\n    petal length:   1.0  6.9   3.76   1.76    0.9490  (high!)\\n    petal width:    0.1  2.5   1.20   0.76    0.9565  (high!)\\n    ============== ==== ==== ======= ===== ====================\\n\\n    :Missing Attribute Values: None\\n    :Class Distribution: 33.3% for each of 3 classes.\\n    :Creator: R.A. Fisher\\n    :Donor: Michael Marshall (MARSHALL%PLU@io.arc.nasa.gov)\\n    :Date: July, 1988\\n\\nThe famous Iris database, first used by Sir R.A. Fisher. The dataset is taken\\nfrom Fisher\\'s paper. Note that it\\'s the same as in R, but not as in the UCI\\nMachine Learning Repository, which has two wrong data points.\\n\\nThis is perhaps the best known database to be found in the\\npattern recognition literature.  Fisher\\'s paper is a classic in the field and\\nis referenced frequently to this day.  (See Duda & Hart, for example.)  The\\ndata set contains 3 classes of 50 instances each, where each class refers to a\\ntype of iris plant.  One class is linearly separable from the other 2; the\\nlatter are NOT linearly separable from each other.\\n\\n.. topic:: References\\n\\n   - Fisher, R.A. \"The use of multiple measurements in taxonomic problems\"\\n     Annual Eugenics, 7, Part II, 179-188 (1936); also in \"Contributions to\\n     Mathematical Statistics\" (John Wiley, NY, 1950).\\n   - Duda, R.O., & Hart, P.E. (1973) Pattern Classification and Scene Analysis.\\n     (Q327.D83) John Wiley & Sons.  ISBN 0-471-22361-1.  See page 218.\\n   - Dasarathy, B.V. (1980) \"Nosing Around the Neighborhood: A New System\\n     Structure and Classification Rule for Recognition in Partially Exposed\\n     Environments\".  IEEE Transactions on Pattern Analysis and Machine\\n     Intelligence, Vol. PAMI-2, No. 1, 67-71.\\n   - Gates, G.W. (1972) \"The Reduced Nearest Neighbor Rule\".  IEEE Transactions\\n     on Information Theory, May 1972, 431-433.\\n   - See also: 1988 MLC Proceedings, 54-64.  Cheeseman et al\"s AUTOCLASS II\\n     conceptual clustering system finds 3 classes in the data.\\n   - Many, many more ...',\n",
              " 'feature_names': ['sepal length (cm)',\n",
              "  'sepal width (cm)',\n",
              "  'petal length (cm)',\n",
              "  'petal width (cm)'],\n",
              " 'filename': 'iris.csv',\n",
              " 'data_module': 'sklearn.datasets.data'}"
            ]
          },
          "metadata": {},
          "execution_count": 2
        }
      ]
    },
    {
      "cell_type": "code",
      "source": [
        "#valores unicos na coluna class\n",
        "unicos, quantidade = np.unique(iris.target, return_counts =True)\n",
        "unicos"
      ],
      "metadata": {
        "colab": {
          "base_uri": "https://localhost:8080/"
        },
        "id": "HzQeRb4UM0qW",
        "outputId": "64587197-5804-4613-f662-9ca25ed377ce"
      },
      "execution_count": 3,
      "outputs": [
        {
          "output_type": "execute_result",
          "data": {
            "text/plain": [
              "array([0, 1, 2])"
            ]
          },
          "metadata": {},
          "execution_count": 3
        }
      ]
    },
    {
      "cell_type": "code",
      "source": [
        "#registros por classe\n",
        "quantidade"
      ],
      "metadata": {
        "colab": {
          "base_uri": "https://localhost:8080/"
        },
        "id": "_Fl_yU1aDfa4",
        "outputId": "66575511-ea8d-4f05-fb15-b725863edf47"
      },
      "execution_count": 4,
      "outputs": [
        {
          "output_type": "execute_result",
          "data": {
            "text/plain": [
              "array([50, 50, 50])"
            ]
          },
          "metadata": {},
          "execution_count": 4
        }
      ]
    },
    {
      "cell_type": "code",
      "source": [
        "#agrupamento  utilizando 3 clusters\n",
        "cluster = KMeans(n_clusters = 3)\n",
        "cluster.fit(iris.data)"
      ],
      "metadata": {
        "colab": {
          "base_uri": "https://localhost:8080/",
          "height": 109
        },
        "id": "Rg_88n4CDj94",
        "outputId": "8b40894f-09f5-4d51-fc08-4991cc98bc36"
      },
      "execution_count": 5,
      "outputs": [
        {
          "output_type": "stream",
          "name": "stderr",
          "text": [
            "/usr/local/lib/python3.10/dist-packages/sklearn/cluster/_kmeans.py:870: FutureWarning: The default value of `n_init` will change from 10 to 'auto' in 1.4. Set the value of `n_init` explicitly to suppress the warning\n",
            "  warnings.warn(\n"
          ]
        },
        {
          "output_type": "execute_result",
          "data": {
            "text/plain": [
              "KMeans(n_clusters=3)"
            ],
            "text/html": [
              "<style>#sk-container-id-1 {color: black;background-color: white;}#sk-container-id-1 pre{padding: 0;}#sk-container-id-1 div.sk-toggleable {background-color: white;}#sk-container-id-1 label.sk-toggleable__label {cursor: pointer;display: block;width: 100%;margin-bottom: 0;padding: 0.3em;box-sizing: border-box;text-align: center;}#sk-container-id-1 label.sk-toggleable__label-arrow:before {content: \"▸\";float: left;margin-right: 0.25em;color: #696969;}#sk-container-id-1 label.sk-toggleable__label-arrow:hover:before {color: black;}#sk-container-id-1 div.sk-estimator:hover label.sk-toggleable__label-arrow:before {color: black;}#sk-container-id-1 div.sk-toggleable__content {max-height: 0;max-width: 0;overflow: hidden;text-align: left;background-color: #f0f8ff;}#sk-container-id-1 div.sk-toggleable__content pre {margin: 0.2em;color: black;border-radius: 0.25em;background-color: #f0f8ff;}#sk-container-id-1 input.sk-toggleable__control:checked~div.sk-toggleable__content {max-height: 200px;max-width: 100%;overflow: auto;}#sk-container-id-1 input.sk-toggleable__control:checked~label.sk-toggleable__label-arrow:before {content: \"▾\";}#sk-container-id-1 div.sk-estimator input.sk-toggleable__control:checked~label.sk-toggleable__label {background-color: #d4ebff;}#sk-container-id-1 div.sk-label input.sk-toggleable__control:checked~label.sk-toggleable__label {background-color: #d4ebff;}#sk-container-id-1 input.sk-hidden--visually {border: 0;clip: rect(1px 1px 1px 1px);clip: rect(1px, 1px, 1px, 1px);height: 1px;margin: -1px;overflow: hidden;padding: 0;position: absolute;width: 1px;}#sk-container-id-1 div.sk-estimator {font-family: monospace;background-color: #f0f8ff;border: 1px dotted black;border-radius: 0.25em;box-sizing: border-box;margin-bottom: 0.5em;}#sk-container-id-1 div.sk-estimator:hover {background-color: #d4ebff;}#sk-container-id-1 div.sk-parallel-item::after {content: \"\";width: 100%;border-bottom: 1px solid gray;flex-grow: 1;}#sk-container-id-1 div.sk-label:hover label.sk-toggleable__label {background-color: #d4ebff;}#sk-container-id-1 div.sk-serial::before {content: \"\";position: absolute;border-left: 1px solid gray;box-sizing: border-box;top: 0;bottom: 0;left: 50%;z-index: 0;}#sk-container-id-1 div.sk-serial {display: flex;flex-direction: column;align-items: center;background-color: white;padding-right: 0.2em;padding-left: 0.2em;position: relative;}#sk-container-id-1 div.sk-item {position: relative;z-index: 1;}#sk-container-id-1 div.sk-parallel {display: flex;align-items: stretch;justify-content: center;background-color: white;position: relative;}#sk-container-id-1 div.sk-item::before, #sk-container-id-1 div.sk-parallel-item::before {content: \"\";position: absolute;border-left: 1px solid gray;box-sizing: border-box;top: 0;bottom: 0;left: 50%;z-index: -1;}#sk-container-id-1 div.sk-parallel-item {display: flex;flex-direction: column;z-index: 1;position: relative;background-color: white;}#sk-container-id-1 div.sk-parallel-item:first-child::after {align-self: flex-end;width: 50%;}#sk-container-id-1 div.sk-parallel-item:last-child::after {align-self: flex-start;width: 50%;}#sk-container-id-1 div.sk-parallel-item:only-child::after {width: 0;}#sk-container-id-1 div.sk-dashed-wrapped {border: 1px dashed gray;margin: 0 0.4em 0.5em 0.4em;box-sizing: border-box;padding-bottom: 0.4em;background-color: white;}#sk-container-id-1 div.sk-label label {font-family: monospace;font-weight: bold;display: inline-block;line-height: 1.2em;}#sk-container-id-1 div.sk-label-container {text-align: center;}#sk-container-id-1 div.sk-container {/* jupyter's `normalize.less` sets `[hidden] { display: none; }` but bootstrap.min.css set `[hidden] { display: none !important; }` so we also need the `!important` here to be able to override the default hidden behavior on the sphinx rendered scikit-learn.org. See: https://github.com/scikit-learn/scikit-learn/issues/21755 */display: inline-block !important;position: relative;}#sk-container-id-1 div.sk-text-repr-fallback {display: none;}</style><div id=\"sk-container-id-1\" class=\"sk-top-container\"><div class=\"sk-text-repr-fallback\"><pre>KMeans(n_clusters=3)</pre><b>In a Jupyter environment, please rerun this cell to show the HTML representation or trust the notebook. <br />On GitHub, the HTML representation is unable to render, please try loading this page with nbviewer.org.</b></div><div class=\"sk-container\" hidden><div class=\"sk-item\"><div class=\"sk-estimator sk-toggleable\"><input class=\"sk-toggleable__control sk-hidden--visually\" id=\"sk-estimator-id-1\" type=\"checkbox\" checked><label for=\"sk-estimator-id-1\" class=\"sk-toggleable__label sk-toggleable__label-arrow\">KMeans</label><div class=\"sk-toggleable__content\"><pre>KMeans(n_clusters=3)</pre></div></div></div></div></div>"
            ]
          },
          "metadata": {},
          "execution_count": 5
        }
      ]
    },
    {
      "cell_type": "code",
      "source": [
        "#O algoritmo K-means começa selecionando K pontos iniciais, chamados de centróides, que representam o centro dos clusters. \n",
        "#Em seguida, cada ponto de dados é associado ao centróide mais próximo, criando assim K clusters\n",
        "#visualizando as três centroides\n",
        "centroides = cluster.cluster_centers_\n",
        "centroides"
      ],
      "metadata": {
        "colab": {
          "base_uri": "https://localhost:8080/"
        },
        "id": "rRlPHEK7D9P3",
        "outputId": "9fef5cd7-7871-4a54-8be9-339be1e8abdd"
      },
      "execution_count": 6,
      "outputs": [
        {
          "output_type": "execute_result",
          "data": {
            "text/plain": [
              "array([[5.9016129 , 2.7483871 , 4.39354839, 1.43387097],\n",
              "       [5.006     , 3.428     , 1.462     , 0.246     ],\n",
              "       [6.85      , 3.07368421, 5.74210526, 2.07105263]])"
            ]
          },
          "metadata": {},
          "execution_count": 6
        }
      ]
    },
    {
      "cell_type": "code",
      "source": [
        "#visualização dos grupos que cada registro foi associado\n",
        "previsoes = cluster.labels_\n",
        "previsoes"
      ],
      "metadata": {
        "colab": {
          "base_uri": "https://localhost:8080/"
        },
        "id": "j4jR6gZaEHbP",
        "outputId": "4a86cda8-4750-4a00-cc59-504195237116"
      },
      "execution_count": 7,
      "outputs": [
        {
          "output_type": "execute_result",
          "data": {
            "text/plain": [
              "array([1, 1, 1, 1, 1, 1, 1, 1, 1, 1, 1, 1, 1, 1, 1, 1, 1, 1, 1, 1, 1, 1,\n",
              "       1, 1, 1, 1, 1, 1, 1, 1, 1, 1, 1, 1, 1, 1, 1, 1, 1, 1, 1, 1, 1, 1,\n",
              "       1, 1, 1, 1, 1, 1, 0, 0, 2, 0, 0, 0, 0, 0, 0, 0, 0, 0, 0, 0, 0, 0,\n",
              "       0, 0, 0, 0, 0, 0, 0, 0, 0, 0, 0, 2, 0, 0, 0, 0, 0, 0, 0, 0, 0, 0,\n",
              "       0, 0, 0, 0, 0, 0, 0, 0, 0, 0, 0, 0, 2, 0, 2, 2, 2, 2, 0, 2, 2, 2,\n",
              "       2, 2, 2, 0, 0, 2, 2, 2, 2, 0, 2, 0, 2, 0, 2, 2, 0, 0, 2, 2, 2, 2,\n",
              "       2, 0, 2, 2, 2, 2, 0, 2, 2, 2, 0, 2, 2, 2, 0, 2, 2, 0], dtype=int32)"
            ]
          },
          "metadata": {},
          "execution_count": 7
        }
      ]
    },
    {
      "cell_type": "code",
      "source": [
        "#contagem dos registros por classe\n",
        "unicos2, quantidade2 = np.unique(previsoes, return_counts = True)\n",
        "print(unicos2)\n",
        "print(quantidade2)"
      ],
      "metadata": {
        "colab": {
          "base_uri": "https://localhost:8080/"
        },
        "id": "hlFY6yicEp8S",
        "outputId": "95b68bb1-dd1b-4aca-d3dd-de5b0e455d08"
      },
      "execution_count": 8,
      "outputs": [
        {
          "output_type": "stream",
          "name": "stdout",
          "text": [
            "[0 1 2]\n",
            "[62 50 38]\n"
          ]
        }
      ]
    },
    {
      "cell_type": "code",
      "source": [
        "#gerando matriz de contingência para comparar os grupos com a base de dados\n",
        "resultados = confusion_matrix(iris.target, previsoes)\n",
        "resultados\n"
      ],
      "metadata": {
        "colab": {
          "base_uri": "https://localhost:8080/"
        },
        "id": "M-J1-xYxasy8",
        "outputId": "63d18e00-6d69-4f23-bb02-69497a1419bc"
      },
      "execution_count": 9,
      "outputs": [
        {
          "output_type": "execute_result",
          "data": {
            "text/plain": [
              "array([[ 0, 50,  0],\n",
              "       [48,  0,  2],\n",
              "       [14,  0, 36]])"
            ]
          },
          "metadata": {},
          "execution_count": 9
        }
      ]
    },
    {
      "cell_type": "code",
      "source": [
        "#geração do gráfico com os clusters gerado, considerando (0, 1, 2)\n",
        "#usamos somente as colunas 0 e 1 da base de dados original para termos 2 dimensões\n",
        "plt.scatter(iris.data[previsoes == 0, 0], iris.data[previsoes == 0, 1],\n",
        "            c = 'green', label ='Setosa' ) \n",
        "plt.scatter(iris.data[previsoes == 1, 0], iris.data[previsoes == 1, 1],\n",
        "            c = 'red', label ='Versicolor' )\n",
        "plt.scatter(iris.data[previsoes == 2, 0], iris.data[previsoes == 2, 1],\n",
        "            c = 'blue', label ='Virgica' )  \n",
        "plt.legend()"
      ],
      "metadata": {
        "colab": {
          "base_uri": "https://localhost:8080/",
          "height": 450
        },
        "id": "9Bv5F0d7E8sF",
        "outputId": "ad566443-7444-4a33-d09e-426104dd2a63"
      },
      "execution_count": 10,
      "outputs": [
        {
          "output_type": "execute_result",
          "data": {
            "text/plain": [
              "<matplotlib.legend.Legend at 0x7ff77bbaefe0>"
            ]
          },
          "metadata": {},
          "execution_count": 10
        },
        {
          "output_type": "display_data",
          "data": {
            "text/plain": [
              "<Figure size 640x480 with 1 Axes>"
            ],
            "image/png": "[encoded data removed]"
          },
          "metadata": {}
        }
      ]
    },
    {
      "cell_type": "markdown",
      "source": [
        "**C-Means** ou **Fuzzy C-Means**\n",
        "\n",
        "O C-means é semelhante ao K-means, mas em vez de atribuir cada ponto de dados a um único cluster, ele atribui graus de pertencimento a cada cluster. Isso significa que cada ponto de dados pode pertencer a mais de um cluster simultaneamente, com diferentes graus de pertencimento."
      ],
      "metadata": {
        "id": "GJxw-4qlgAuh"
      }
    },
    {
      "cell_type": "code",
      "source": [
        "pip install -U scikit-fuzzy"
      ],
      "metadata": {
        "colab": {
          "base_uri": "https://localhost:8080/"
        },
        "id": "uOeVao4fhXrV",
        "outputId": "2af9cac0-05a0-4883-e6ae-a85094d0448b"
      },
      "execution_count": 11,
      "outputs": [
        {
          "output_type": "stream",
          "name": "stdout",
          "text": [
            "Looking in indexes: https://pypi.org/simple, https://us-python.pkg.dev/colab-wheels/public/simple/\n",
            "Collecting scikit-fuzzy\n",
            "  Downloading scikit-fuzzy-0.4.2.tar.gz (993 kB)\n",
            "\u001b[2K     \u001b[90m━━━━━━━━━━━━━━━━━━━━━━━━━━━━━━━━━━━━━━\u001b[0m \u001b[32m994.0/994.0 kB\u001b[0m \u001b[31m10.8 MB/s\u001b[0m eta \u001b[36m0:00:00\u001b[0m\n",
            "\u001b[?25h  Preparing metadata (setup.py) ... \u001b[?25l\u001b[?25hdone\n",
            "Requirement already satisfied: numpy>=1.6.0 in /usr/local/lib/python3.10/dist-packages (from scikit-fuzzy) (1.22.4)\n",
            "Requirement already satisfied: scipy>=0.9.0 in /usr/local/lib/python3.10/dist-packages (from scikit-fuzzy) (1.10.1)\n",
            "Requirement already satisfied: networkx>=1.9.0 in /usr/local/lib/python3.10/dist-packages (from scikit-fuzzy) (3.1)\n",
            "Building wheels for collected packages: scikit-fuzzy\n",
            "  Building wheel for scikit-fuzzy (setup.py) ... \u001b[?25l\u001b[?25hdone\n",
            "  Created wheel for scikit-fuzzy: filename=scikit_fuzzy-0.4.2-py3-none-any.whl size=894073 sha256=fa5aa2f37ff0312eb107ceb43a4ed9b5bcae9ca8b3d83d52965380eb05457e6a\n",
            "  Stored in directory: /root/.cache/pip/wheels/4f/86/1b/dfd97134a2c8313e519bcebd95d3fedc7be7944db022094bc8\n",
            "Successfully built scikit-fuzzy\n",
            "Installing collected packages: scikit-fuzzy\n",
            "Successfully installed scikit-fuzzy-0.4.2\n"
          ]
        }
      ]
    },
    {
      "cell_type": "code",
      "source": [
        "import skfuzzy"
      ],
      "metadata": {
        "id": "nP5RjvL7cgbN"
      },
      "execution_count": 12,
      "outputs": []
    },
    {
      "cell_type": "code",
      "source": [
        "#definindo três clusters( c = 3) e passando a matriz transposta(iris.data.T), demais parâmetros são obrigatórios e são default indicados na documentação\n",
        "r = skfuzzy.cmeans(data = iris.data.T, c = 3, m = 2, error = 0.005, maxiter = 1000, init = None)"
      ],
      "metadata": {
        "id": "kHG3QOrXicom"
      },
      "execution_count": 13,
      "outputs": []
    },
    {
      "cell_type": "code",
      "source": [
        "#obtendo a porcentagem de um registro pertencer a um cluster, que está na posição 1 da matriz\n",
        "previsoes_porcentagem = r[1]"
      ],
      "metadata": {
        "id": "FGiWVTfrjIAl"
      },
      "execution_count": 14,
      "outputs": []
    },
    {
      "cell_type": "code",
      "source": [
        "#visualização da probabilidade de um registro pertencer a cada um dos cluster (o somatório é 1.0 que indica 100%)\n",
        "for x in range(150):\n",
        "  print(previsoes_porcentagem[0][x], previsoes_porcentagem[1][x], previsoes_porcentagem[2][x])"
      ],
      "metadata": {
        "colab": {
          "base_uri": "https://localhost:8080/"
        },
        "id": "p5VWEKxhjXc7",
        "outputId": "d80bbcf0-2ddf-4e8b-d007-1b2abfa16621"
      },
      "execution_count": 15,
      "outputs": [
        {
          "output_type": "stream",
          "name": "stdout",
          "text": [
            "0.0023044378179094705 0.9966236312784161 0.0010719309036744127\n",
            "0.01665921830312519 0.9758396028895682 0.007501178807306735\n",
            "0.01376584060181882 0.9798174927422232 0.00641666665595807\n",
            "0.02247792440022627 0.9674103053124212 0.010111770287352533\n",
            "0.0037620588826463445 0.9944700476683199 0.0017678934490337212\n",
            "0.04482650976119014 0.9345464323530914 0.02062705788571843\n",
            "0.014010376860514056 0.9794829099376243 0.006506713201861783\n",
            "0.0003117077422711431 0.999547027331748 0.0001412649259806495\n",
            "0.04774241830287087 0.9303471459810801 0.021910435716048858\n",
            "0.011942790475906935 0.9827131966117602 0.005344012912332793\n",
            "0.02176568217364265 0.9680302409693282 0.010204076857029143\n",
            "0.005435372273162478 0.9921323167732489 0.002432310953588754\n",
            "0.02019371506638389 0.9706254755019509 0.009180809431665252\n",
            "0.051816171405508406 0.9229402524899003 0.025243576104591246\n",
            "0.07263171800091191 0.8897270384757625 0.03764124352332567\n",
            "0.1043797638534265 0.841299934704699 0.05432030144187461\n",
            "0.03559148216071485 0.9469082116834148 0.017500306155870508\n",
            "0.00228883732878969 0.9966523397767423 0.0010588228944679674\n",
            "0.06558509532413163 0.9040964749856646 0.030318429690203774\n",
            "0.014162636436416768 0.9791819144029981 0.006655449160585103\n",
            "0.021868498652918004 0.9685868105125608 0.009544690834521178\n",
            "0.010377624301981943 0.984827013611298 0.004795362086720063\n",
            "0.027517860069291526 0.9586463042941316 0.013835835636577013\n",
            "0.014472739643835879 0.9794118866937879 0.006115373662376331\n",
            "0.02325888563495976 0.9668977441956882 0.009843370169352121\n",
            "0.018471379051503683 0.9735509885147896 0.007977632433706831\n",
            "0.003584726057404477 0.9948407311187832 0.0015745428238123594\n",
            "0.004566935476954907 0.9933457209933939 0.0020873435296512124\n",
            "0.0043295796069306195 0.9936739968849015 0.0019964235081678136\n",
            "0.01421037754877956 0.9795040126675078 0.006285609783712863\n",
            "0.014808921279786294 0.9787142879318566 0.0064767907883571466\n",
            "0.017705788080855323 0.974351448347518 0.007942763571626578\n",
            "0.04115929839459962 0.9385012241885413 0.02033947741685917\n",
            "0.06350165552476407 0.9041416543140185 0.032356690161217436\n",
            "0.010347545824397196 0.9850561503924029 0.004596303783199893\n",
            "0.010205082270103727 0.9849885049505205 0.004806412779375724\n",
            "0.024260802992854255 0.9641718395126533 0.011567357494492525\n",
            "0.006183747417015007 0.9908894392890998 0.0029268132938851613\n",
            "0.04110320666033018 0.9396576834654007 0.019239109874269147\n",
            "0.0011783624635754294 0.9982881773825768 0.0005334601538477533\n",
            "0.003584242925195885 0.9947274681908366 0.001688288883967456\n",
            "0.10231922862717496 0.8506711335314284 0.04700963784139652\n",
            "0.03219107114934288 0.9525955561844125 0.015213372666244571\n",
            "0.014391819760016529 0.9792755607627562 0.006332619477227216\n",
            "0.03814943658896977 0.9452428521859836 0.016607711225046604\n",
            "0.019233462846286558 0.9721313336807834 0.008635203472930047\n",
            "0.015848579636377792 0.9767842582042583 0.007367162159363816\n",
            "0.017661344674324682 0.9742089306884234 0.008129724637251834\n",
            "0.015526205188156774 0.9772121774280835 0.007261617383759668\n",
            "0.002008968002453144 0.9970714964858396 0.0009195355117072649\n",
            "0.453743195721883 0.04457378963338569 0.5016830146447313\n",
            "0.7634609095076942 0.029195895657034735 0.20734319483527103\n",
            "0.36812147147805174 0.0312552023573269 0.6006233261646214\n",
            "0.8704035752335094 0.04924905495820451 0.08034736980828613\n",
            "0.7580666801103408 0.024141359359311176 0.21779196053034805\n",
            "0.9737935242190394 0.005735403666498917 0.02047107211446159\n",
            "0.6722466955332604 0.029820847469089362 0.29793245699765014\n",
            "0.5827660576860926 0.2849480066997104 0.13228593561419694\n",
            "0.7204452683308179 0.03125945661363671 0.24829527505554544\n",
            "0.8307540510274543 0.07463131819002602 0.09461463078251975\n",
            "0.6367363545966721 0.21823245082815593 0.14503119457517194\n",
            "0.9620682609075337 0.009179797663073799 0.02875194142939241\n",
            "0.8433755286642507 0.05555482749903161 0.1010696438367178\n",
            "0.8991494207510566 0.012156868033744534 0.08869371121519883\n",
            "0.8164130034710801 0.09148729920544559 0.09209969732347435\n",
            "0.6893996125495396 0.04174083578837142 0.26885955166208897\n",
            "0.9330878875740631 0.014157750459206482 0.052754361966730286\n",
            "0.925920345625693 0.025813797009280565 0.048265857365026484\n",
            "0.835191058523402 0.02715806955789117 0.1376508719187067\n",
            "0.8779173677246401 0.05142925424255203 0.07065337803280779\n",
            "0.7209663387426196 0.027644051113078397 0.251389610144302\n",
            "0.9343526491046927 0.019456961608947953 0.046190389286359324\n",
            "0.7046945847418734 0.023995747754738596 0.2713096675033878\n",
            "0.9023944621414247 0.013966180216287242 0.08363935764228796\n",
            "0.8756659246704603 0.022928427154340025 0.10140564817519965\n",
            "0.7543176652698608 0.03396820855777213 0.21171412617236707\n",
            "0.5229656571290734 0.033610576368351235 0.44342376650257537\n",
            "0.30550730491975386 0.021164558088241178 0.6733281369920049\n",
            "0.9686280132374371 0.004969463083016346 0.02640252367954672\n",
            "0.7672913885340311 0.12812843465029616 0.10458017681567276\n",
            "0.8325594009060769 0.07765511500737124 0.0897854840865518\n",
            "0.7957421352872768 0.10360685982159822 0.10065100489112494\n",
            "0.9189296306772284 0.030882113196259824 0.050188256126511795\n",
            "0.6554715837680551 0.02399007063689497 0.32053834559504996\n",
            "0.8911299886607059 0.02636905253579731 0.08250095880349663\n",
            "0.7967601721361219 0.03217047517179909 0.17106935269207899\n",
            "0.5546736824285162 0.03346273861675921 0.41186357895472464\n",
            "0.8574900242968513 0.026872377245243925 0.11563759845790487\n",
            "0.9290771299276745 0.024023914745228334 0.046898955327097196\n",
            "0.8996623309108494 0.038074670168982375 0.06226299892016835\n",
            "0.9312596075813898 0.01958348615844867 0.04915690626016134\n",
            "0.9152525992843092 0.011657954808723964 0.07308944590696673\n",
            "0.9358962791417953 0.022433497336528614 0.04167022352167617\n",
            "0.5985801987121729 0.2687064829894643 0.13271331829836272\n",
            "0.9590475193180896 0.012619690882886649 0.028332789799023674\n",
            "0.9456610686283167 0.016734354948154406 0.03760457642352904\n",
            "0.9675395389036053 0.009531952481521758 0.022928508614872833\n",
            "0.9437403268542031 0.011421412627886528 0.044838260517910435\n",
            "0.5203883269499235 0.3551076048571017 0.1245040681929747\n",
            "0.9607471861256225 0.01262536899223979 0.026627444882137672\n",
            "0.12069345042236372 0.019367017365065273 0.859939532212571\n",
            "0.6148604694978659 0.029308491659725554 0.3558310388424086\n",
            "0.03826283365467869 0.006098669388617695 0.9556384969567037\n",
            "0.1414708471587459 0.012499361170571547 0.8460297916706826\n",
            "0.037590045517478236 0.004752905517997301 0.9576570489645244\n",
            "0.15275540760534062 0.035500164965726756 0.8117444274289326\n",
            "0.759989418366182 0.07293138244647349 0.16707919918734468\n",
            "0.11521629804035087 0.021928267978386106 0.862855433981263\n",
            "0.1171757543842842 0.013987171575751143 0.8688370740399647\n",
            "0.1146791634682753 0.024452326643126233 0.8608685098885985\n",
            "0.2091840969759831 0.016733003839060956 0.7740828991849559\n",
            "0.22238425296057096 0.015726111677449178 0.7618896353619797\n",
            "0.009943052207250497 0.0011590477731985255 0.988897900019551\n",
            "0.6594279611506365 0.034376356718059796 0.3061956821313036\n",
            "0.46042457840518514 0.03836279291737529 0.5012126286774395\n",
            "0.13566905712812147 0.014038558303800373 0.8502923845680782\n",
            "0.07921078152753828 0.007134028295040839 0.9136551901774209\n",
            "0.18587872475631664 0.05063198787789053 0.7634892873657928\n",
            "0.19330720148151218 0.04922139014033316 0.7574714083781547\n",
            "0.7102557261324003 0.03220228100965531 0.25754199285794427\n",
            "0.025769848409248113 0.0038417862788355174 0.9703883653119164\n",
            "0.7064725739459956 0.033656766083686576 0.2598706599703178\n",
            "0.17489113338891998 0.04200965030403242 0.7830992163070476\n",
            "0.5947367071447844 0.022813369828036396 0.38244992302717906\n",
            "0.02174823579271186 0.002917194466420421 0.9753345697408676\n",
            "0.07525310906278547 0.012932746714646693 0.9118141442225678\n",
            "0.7068435282121801 0.021006447387884465 0.27215002439993546\n",
            "0.6459227631733226 0.023110962419103546 0.33096627440757376\n",
            "0.08270516394524935 0.008337590723064664 0.9089572453316861\n",
            "0.09474740897636746 0.014458138202782852 0.8907944528208497\n",
            "0.10752183374479896 0.019814627813590755 0.8726635384416103\n",
            "0.1890456333700033 0.05094514678555301 0.7600092198444437\n",
            "0.08457877386115599 0.008938520210480262 0.9064827059283638\n",
            "0.5392010434694552 0.02339490655561018 0.4374040499749346\n",
            "0.39215049825314974 0.031174235295371718 0.5766752664514785\n",
            "0.1318597687467267 0.02869887411745279 0.8394413571358205\n",
            "0.12850977735102997 0.01721786446879922 0.8542723581801709\n",
            "0.1096072400808904 0.009755079673498994 0.8806376802456106\n",
            "0.7491078380862897 0.02175618456041438 0.22913597735329594\n",
            "0.028869683197820163 0.0034819747401381687 0.9676483420620418\n",
            "0.03765332038490517 0.005078957785797564 0.9572677218292973\n",
            "0.1292050906534823 0.015385463865644464 0.8554094454808733\n",
            "0.6148604694978659 0.029308491659725554 0.3558310388424086\n",
            "0.03382404523648937 0.005268231638212031 0.9609077231252986\n",
            "0.06318957262074566 0.009711257644997699 0.9270991697342568\n",
            "0.10605054810885195 0.011240276337258239 0.8827091755538898\n",
            "0.506639359979774 0.025796408992688872 0.4675642310275371\n",
            "0.15575309646712024 0.012079147148260761 0.832167756384619\n",
            "0.18865928853479297 0.021562036943161656 0.7897786745220453\n",
            "0.5809114355369759 0.026929373482475257 0.3921591909805488\n"
          ]
        }
      ]
    },
    {
      "cell_type": "code",
      "source": [
        "#geração da matriz de contigência para comparação com as classes originais da base de dados\n",
        "previsoes = previsoes_porcentagem.argmax(axis=0)\n",
        "resultados = confusion_matrix(iris.target, previsoes)\n",
        "resultados"
      ],
      "metadata": {
        "colab": {
          "base_uri": "https://localhost:8080/"
        },
        "id": "rJKkBLt5kHOQ",
        "outputId": "b3d8bf51-af50-4c74-e78a-276dc861024e"
      },
      "execution_count": 16,
      "outputs": [
        {
          "output_type": "execute_result",
          "data": {
            "text/plain": [
              "array([[ 0, 50,  0],\n",
              "       [47,  0,  3],\n",
              "       [13,  0, 37]])"
            ]
          },
          "metadata": {},
          "execution_count": 16
        }
      ]
    },
    {
      "cell_type": "code",
      "source": [
        "#contagem dos registros por classe\n",
        "unicos2, quantidade2 = np.unique(previsoes, return_counts = True)\n",
        "print(unicos2)\n",
        "print(quantidade2)"
      ],
      "metadata": {
        "colab": {
          "base_uri": "https://localhost:8080/"
        },
        "id": "K6drqoE2kiel",
        "outputId": "573492f2-3c0e-43e3-bb84-18b75df42c02"
      },
      "execution_count": 17,
      "outputs": [
        {
          "output_type": "stream",
          "name": "stdout",
          "text": [
            "[0 1 2]\n",
            "[60 50 40]\n"
          ]
        }
      ]
    },
    {
      "cell_type": "markdown",
      "source": [
        "**K-Medoids**\n",
        "\n",
        "conhecido como Partitioning Around Medoids (PAM), é baseado em objetos selecionados - os medoids.\n",
        "\n",
        " K-Medoids usa uma **técnica de seleção** de medoids baseada em algoritmos genéticos para **encontrar o conjunto de medoids que melhor representa o conjunto de dados**.\n",
        "\n",
        "\n"
      ],
      "metadata": {
        "id": "IF4FhwxNmfe4"
      }
    },
    {
      "cell_type": "code",
      "source": [
        "pip install pyclustering\n"
      ],
      "metadata": {
        "id": "fJkEnD5G77Wx",
        "colab": {
          "base_uri": "https://localhost:8080/"
        },
        "outputId": "d4be22ed-8510-4293-f56a-92e178adccf4"
      },
      "execution_count": 18,
      "outputs": [
        {
          "output_type": "stream",
          "name": "stdout",
          "text": [
            "Looking in indexes: https://pypi.org/simple, https://us-python.pkg.dev/colab-wheels/public/simple/\n",
            "Collecting pyclustering\n",
            "  Downloading pyclustering-0.10.1.2.tar.gz (2.6 MB)\n",
            "\u001b[2K     \u001b[90m━━━━━━━━━━━━━━━━━━━━━━━━━━━━━━━━━━━━━━━━\u001b[0m \u001b[32m2.6/2.6 MB\u001b[0m \u001b[31m19.7 MB/s\u001b[0m eta \u001b[36m0:00:00\u001b[0m\n",
            "\u001b[?25h  Preparing metadata (setup.py) ... \u001b[?25l\u001b[?25hdone\n",
            "Requirement already satisfied: scipy>=1.1.0 in /usr/local/lib/python3.10/dist-packages (from pyclustering) (1.10.1)\n",
            "Requirement already satisfied: matplotlib>=3.0.0 in /usr/local/lib/python3.10/dist-packages (from pyclustering) (3.7.1)\n",
            "Requirement already satisfied: numpy>=1.15.2 in /usr/local/lib/python3.10/dist-packages (from pyclustering) (1.22.4)\n",
            "Requirement already satisfied: Pillow>=5.2.0 in /usr/local/lib/python3.10/dist-packages (from pyclustering) (8.4.0)\n",
            "Requirement already satisfied: contourpy>=1.0.1 in /usr/local/lib/python3.10/dist-packages (from matplotlib>=3.0.0->pyclustering) (1.0.7)\n",
            "Requirement already satisfied: cycler>=0.10 in /usr/local/lib/python3.10/dist-packages (from matplotlib>=3.0.0->pyclustering) (0.11.0)\n",
            "Requirement already satisfied: fonttools>=4.22.0 in /usr/local/lib/python3.10/dist-packages (from matplotlib>=3.0.0->pyclustering) (4.39.3)\n",
            "Requirement already satisfied: kiwisolver>=1.0.1 in /usr/local/lib/python3.10/dist-packages (from matplotlib>=3.0.0->pyclustering) (1.4.4)\n",
            "Requirement already satisfied: packaging>=20.0 in /usr/local/lib/python3.10/dist-packages (from matplotlib>=3.0.0->pyclustering) (23.1)\n",
            "Requirement already satisfied: pyparsing>=2.3.1 in /usr/local/lib/python3.10/dist-packages (from matplotlib>=3.0.0->pyclustering) (3.0.9)\n",
            "Requirement already satisfied: python-dateutil>=2.7 in /usr/local/lib/python3.10/dist-packages (from matplotlib>=3.0.0->pyclustering) (2.8.2)\n",
            "Requirement already satisfied: six>=1.5 in /usr/local/lib/python3.10/dist-packages (from python-dateutil>=2.7->matplotlib>=3.0.0->pyclustering) (1.16.0)\n",
            "Building wheels for collected packages: pyclustering\n",
            "  Building wheel for pyclustering (setup.py) ... \u001b[?25l\u001b[?25hdone\n",
            "  Created wheel for pyclustering: filename=pyclustering-0.10.1.2-py3-none-any.whl size=2395106 sha256=406ef8b535b41e82a25573c98e19e01446e10faf0aa2404a1b2cf6c3c1eaab10\n",
            "  Stored in directory: /root/.cache/pip/wheels/b5/42/97/11eee99f5c1e4fdfc170f0a54f9c9eb195df66edb4cf69f449\n",
            "Successfully built pyclustering\n",
            "Installing collected packages: pyclustering\n",
            "Successfully installed pyclustering-0.10.1.2\n"
          ]
        }
      ]
    },
    {
      "cell_type": "code",
      "source": [
        "from pyclustering.cluster.kmedoids import kmedoids\n",
        "from pyclustering.cluster import cluster_visualizer"
      ],
      "metadata": {
        "id": "kgDMhbCeht3Y"
      },
      "execution_count": 19,
      "outputs": []
    },
    {
      "cell_type": "code",
      "source": [
        "#Configurando os parâmetros k-medoids, utilizando somente as duas primeiras colunas da base de dados ´por causa da visualização apenas\n",
        "#3, 12 e 20 são indices aleatórios de registros d a base de dados(inicialização)\n",
        "cluster = kmedoids(iris.data[: , 0:2], [3,12,20])\n",
        "#visualização dos pontos escolhidos\n",
        "cluster.get_medoids()"
      ],
      "metadata": {
        "colab": {
          "base_uri": "https://localhost:8080/"
        },
        "id": "gd64oa83HybZ",
        "outputId": "54e6ab7e-061a-438f-98ce-9ea29aeb38ac"
      },
      "execution_count": 20,
      "outputs": [
        {
          "output_type": "execute_result",
          "data": {
            "text/plain": [
              "[3, 12, 20]"
            ]
          },
          "metadata": {},
          "execution_count": 20
        }
      ]
    },
    {
      "cell_type": "code",
      "source": [
        "#aplicação do algoritmo para agrupamento\n",
        "cluster.process() \n",
        "previsoes = cluster.get_clusters() #previsores - gera 3 lista com os indices de registros do cluster\n",
        "medoides = cluster.get_medoids() #3, 12, 20\n"
      ],
      "metadata": {
        "id": "CNpcR_6BIvHB"
      },
      "execution_count": 21,
      "outputs": []
    },
    {
      "cell_type": "code",
      "source": [
        "#visualização do agrupamento\n",
        "v = cluster_visualizer()\n",
        "v.append_clusters(previsoes, iris.data[:, 0:2])\n",
        "v.append_cluster(medoides, data = iris.data[:, 0:2], marker = \"*\", markersize = 15)\n",
        "v.show()\n"
      ],
      "metadata": {
        "colab": {
          "base_uri": "https://localhost:8080/",
          "height": 805
        },
        "id": "1C6MgsW9Jb72",
        "outputId": "a9843be7-0e88-4f57-feec-9e31ae69cfb2"
      },
      "execution_count": 22,
      "outputs": [
        {
          "output_type": "display_data",
          "data": {
            "text/plain": [
              "<Figure size 640x480 with 1 Axes>"
            ],
            "image/png": "[encoded data removed]"
          },
          "metadata": {}
        },
        {
          "output_type": "execute_result",
          "data": {
            "text/plain": [
              "<Figure size 640x480 with 1 Axes>"
            ],
            "image/png": "[encoded data removed]"
          },
          "metadata": {},
          "execution_count": 22
        }
      ]
    },
    {
      "cell_type": "code",
      "source": [
        "#Criar duas listas, uma com os grupos reais da base de dados e outra com os valores dos grupos, utilizada par visualização da matriz de contingência\n",
        "lista_previsoes = []\n",
        "lista_real = []\n",
        "for i in range(len(previsoes)):\n",
        "  for j in range(len(previsoes[i])):\n",
        "    lista_previsoes.append(i)\n",
        "    lista_real.append(iris.target[previsoes[i][j]])"
      ],
      "metadata": {
        "id": "R5sBxISZJ8mA"
      },
      "execution_count": 23,
      "outputs": []
    },
    {
      "cell_type": "code",
      "source": [
        "#matriz de contingência\n",
        "lista_previsoes = np.asarray(lista_previsoes)\n",
        "lista_real = np.asarray(lista_real)\n",
        "resultados = confusion_matrix(lista_real, lista_previsoes)\n",
        "resultados"
      ],
      "metadata": {
        "colab": {
          "base_uri": "https://localhost:8080/"
        },
        "id": "MVU4vSkfLk_y",
        "outputId": "f1bcafb4-4b8a-4b1a-e11c-7c11f293aa76"
      },
      "execution_count": 24,
      "outputs": [
        {
          "output_type": "execute_result",
          "data": {
            "text/plain": [
              "array([[ 0,  0, 50],\n",
              "       [12, 38,  0],\n",
              "       [35, 14,  1]])"
            ]
          },
          "metadata": {},
          "execution_count": 24
        }
      ]
    }
  ]
}