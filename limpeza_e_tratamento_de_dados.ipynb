{
  "nbformat": 4,
  "nbformat_minor": 0,
  "metadata": {
    "colab": {
      "provenance": []
    },
    "kernelspec": {
      "name": "python3",
      "display_name": "Python 3"
    },
    "language_info": {
      "name": "python"
    }
  },
  "cells": [
    {
      "cell_type": "code",
      "source": [
        "import pandas as pd\n",
        "import statistics as sts"
      ],
      "metadata": {
        "id": "ys_aw0eN4bFh"
      },
      "execution_count": null,
      "outputs": []
    },
    {
      "cell_type": "code",
      "execution_count": null,
      "metadata": {
        "id": "y53qPiGD1BYp"
      },
      "outputs": [],
      "source": [
        "dados = pd.read_csv('/content/tempo.csv', sep=\";\")"
      ]
    },
    {
      "cell_type": "code",
      "source": [
        "dados.shape"
      ],
      "metadata": {
        "colab": {
          "base_uri": "https://localhost:8080/"
        },
        "id": "vOUr5mKz4mo4",
        "outputId": "557f32ed-b66b-45e3-bfeb-0ee09cdcb72d"
      },
      "execution_count": null,
      "outputs": [
        {
          "output_type": "execute_result",
          "data": {
            "text/plain": [
              "(14, 5)"
            ]
          },
          "metadata": {},
          "execution_count": 18
        }
      ]
    },
    {
      "cell_type": "code",
      "source": [
        "dados.head(10)"
      ],
      "metadata": {
        "colab": {
          "base_uri": "https://localhost:8080/",
          "height": 363
        },
        "id": "Woyx5u_H42Qn",
        "outputId": "2108cd2a-4d76-49f6-d2a3-272da2576020"
      },
      "execution_count": null,
      "outputs": [
        {
          "output_type": "execute_result",
          "data": {
            "text/plain": [
              "  Aparencia  Temperatura  Umidade       Vento Jogar\n",
              "0       sol           85     85.0       FALSO   nao\n",
              "1       sol           80     90.0  VERDADEIRO   nao\n",
              "2   nublado           83     86.0       FALSO   sim\n",
              "3     chuva           70      NaN       FALSO   sim\n",
              "4     chuva           68     80.0       FALSO   sim\n",
              "5     chuva           65     70.0  VERDADEIRO   nao\n",
              "6     menos           64     65.0  VERDADEIRO   sim\n",
              "7       sol         1220     95.0       FALSO   nao\n",
              "8       sol           69     70.0       FALSO   sim\n",
              "9     chuva           75    200.0         NaN   sim"
            ],
            "text/html": [
              "\n",
              "  <div id=\"df-49f2536d-def0-4c6c-9972-600965487b83\">\n",
              "    <div class=\"colab-df-container\">\n",
              "      <div>\n",
              "<style scoped>\n",
              "    .dataframe tbody tr th:only-of-type {\n",
              "        vertical-align: middle;\n",
              "    }\n",
              "\n",
              "    .dataframe tbody tr th {\n",
              "        vertical-align: top;\n",
              "    }\n",
              "\n",
              "    .dataframe thead th {\n",
              "        text-align: right;\n",
              "    }\n",
              "</style>\n",
              "<table border=\"1\" class=\"dataframe\">\n",
              "  <thead>\n",
              "    <tr style=\"text-align: right;\">\n",
              "      <th></th>\n",
              "      <th>Aparencia</th>\n",
              "      <th>Temperatura</th>\n",
              "      <th>Umidade</th>\n",
              "      <th>Vento</th>\n",
              "      <th>Jogar</th>\n",
              "    </tr>\n",
              "  </thead>\n",
              "  <tbody>\n",
              "    <tr>\n",
              "      <th>0</th>\n",
              "      <td>sol</td>\n",
              "      <td>85</td>\n",
              "      <td>85.0</td>\n",
              "      <td>FALSO</td>\n",
              "      <td>nao</td>\n",
              "    </tr>\n",
              "    <tr>\n",
              "      <th>1</th>\n",
              "      <td>sol</td>\n",
              "      <td>80</td>\n",
              "      <td>90.0</td>\n",
              "      <td>VERDADEIRO</td>\n",
              "      <td>nao</td>\n",
              "    </tr>\n",
              "    <tr>\n",
              "      <th>2</th>\n",
              "      <td>nublado</td>\n",
              "      <td>83</td>\n",
              "      <td>86.0</td>\n",
              "      <td>FALSO</td>\n",
              "      <td>sim</td>\n",
              "    </tr>\n",
              "    <tr>\n",
              "      <th>3</th>\n",
              "      <td>chuva</td>\n",
              "      <td>70</td>\n",
              "      <td>NaN</td>\n",
              "      <td>FALSO</td>\n",
              "      <td>sim</td>\n",
              "    </tr>\n",
              "    <tr>\n",
              "      <th>4</th>\n",
              "      <td>chuva</td>\n",
              "      <td>68</td>\n",
              "      <td>80.0</td>\n",
              "      <td>FALSO</td>\n",
              "      <td>sim</td>\n",
              "    </tr>\n",
              "    <tr>\n",
              "      <th>5</th>\n",
              "      <td>chuva</td>\n",
              "      <td>65</td>\n",
              "      <td>70.0</td>\n",
              "      <td>VERDADEIRO</td>\n",
              "      <td>nao</td>\n",
              "    </tr>\n",
              "    <tr>\n",
              "      <th>6</th>\n",
              "      <td>menos</td>\n",
              "      <td>64</td>\n",
              "      <td>65.0</td>\n",
              "      <td>VERDADEIRO</td>\n",
              "      <td>sim</td>\n",
              "    </tr>\n",
              "    <tr>\n",
              "      <th>7</th>\n",
              "      <td>sol</td>\n",
              "      <td>1220</td>\n",
              "      <td>95.0</td>\n",
              "      <td>FALSO</td>\n",
              "      <td>nao</td>\n",
              "    </tr>\n",
              "    <tr>\n",
              "      <th>8</th>\n",
              "      <td>sol</td>\n",
              "      <td>69</td>\n",
              "      <td>70.0</td>\n",
              "      <td>FALSO</td>\n",
              "      <td>sim</td>\n",
              "    </tr>\n",
              "    <tr>\n",
              "      <th>9</th>\n",
              "      <td>chuva</td>\n",
              "      <td>75</td>\n",
              "      <td>200.0</td>\n",
              "      <td>NaN</td>\n",
              "      <td>sim</td>\n",
              "    </tr>\n",
              "  </tbody>\n",
              "</table>\n",
              "</div>\n",
              "      <button class=\"colab-df-convert\" onclick=\"convertToInteractive('df-49f2536d-def0-4c6c-9972-600965487b83')\"\n",
              "              title=\"Convert this dataframe to an interactive table.\"\n",
              "              style=\"display:none;\">\n",
              "        \n",
              "  <svg xmlns=\"http://www.w3.org/2000/svg\" height=\"24px\"viewBox=\"0 0 24 24\"\n",
              "       width=\"24px\">\n",
              "    <path d=\"M0 0h24v24H0V0z\" fill=\"none\"/>\n",
              "    <path d=\"M18.56 5.44l.94 2.06.94-2.06 2.06-.94-2.06-.94-.94-2.06-.94 2.06-2.06.94zm-11 1L8.5 8.5l.94-2.06 2.06-.94-2.06-.94L8.5 2.5l-.94 2.06-2.06.94zm10 10l.94 2.06.94-2.06 2.06-.94-2.06-.94-.94-2.06-.94 2.06-2.06.94z\"/><path d=\"M17.41 7.96l-1.37-1.37c-.4-.4-.92-.59-1.43-.59-.52 0-1.04.2-1.43.59L10.3 9.45l-7.72 7.72c-.78.78-.78 2.05 0 2.83L4 21.41c.39.39.9.59 1.41.59.51 0 1.02-.2 1.41-.59l7.78-7.78 2.81-2.81c.8-.78.8-2.07 0-2.86zM5.41 20L4 18.59l7.72-7.72 1.47 1.35L5.41 20z\"/>\n",
              "  </svg>\n",
              "      </button>\n",
              "      \n",
              "  <style>\n",
              "    .colab-df-container {\n",
              "      display:flex;\n",
              "      flex-wrap:wrap;\n",
              "      gap: 12px;\n",
              "    }\n",
              "\n",
              "    .colab-df-convert {\n",
              "      background-color: #E8F0FE;\n",
              "      border: none;\n",
              "      border-radius: 50%;\n",
              "      cursor: pointer;\n",
              "      display: none;\n",
              "      fill: #1967D2;\n",
              "      height: 32px;\n",
              "      padding: 0 0 0 0;\n",
              "      width: 32px;\n",
              "    }\n",
              "\n",
              "    .colab-df-convert:hover {\n",
              "      background-color: #E2EBFA;\n",
              "      box-shadow: 0px 1px 2px rgba(60, 64, 67, 0.3), 0px 1px 3px 1px rgba(60, 64, 67, 0.15);\n",
              "      fill: #174EA6;\n",
              "    }\n",
              "\n",
              "    [theme=dark] .colab-df-convert {\n",
              "      background-color: #3B4455;\n",
              "      fill: #D2E3FC;\n",
              "    }\n",
              "\n",
              "    [theme=dark] .colab-df-convert:hover {\n",
              "      background-color: #434B5C;\n",
              "      box-shadow: 0px 1px 3px 1px rgba(0, 0, 0, 0.15);\n",
              "      filter: drop-shadow(0px 1px 2px rgba(0, 0, 0, 0.3));\n",
              "      fill: #FFFFFF;\n",
              "    }\n",
              "  </style>\n",
              "\n",
              "      <script>\n",
              "        const buttonEl =\n",
              "          document.querySelector('#df-49f2536d-def0-4c6c-9972-600965487b83 button.colab-df-convert');\n",
              "        buttonEl.style.display =\n",
              "          google.colab.kernel.accessAllowed ? 'block' : 'none';\n",
              "\n",
              "        async function convertToInteractive(key) {\n",
              "          const element = document.querySelector('#df-49f2536d-def0-4c6c-9972-600965487b83');\n",
              "          const dataTable =\n",
              "            await google.colab.kernel.invokeFunction('convertToInteractive',\n",
              "                                                     [key], {});\n",
              "          if (!dataTable) return;\n",
              "\n",
              "          const docLinkHtml = 'Like what you see? Visit the ' +\n",
              "            '<a target=\"_blank\" href=https://colab.research.google.com/notebooks/data_table.ipynb>data table notebook</a>'\n",
              "            + ' to learn more about interactive tables.';\n",
              "          element.innerHTML = '';\n",
              "          dataTable['output_type'] = 'display_data';\n",
              "          await google.colab.output.renderOutput(dataTable, element);\n",
              "          const docLink = document.createElement('div');\n",
              "          docLink.innerHTML = docLinkHtml;\n",
              "          element.appendChild(docLink);\n",
              "        }\n",
              "      </script>\n",
              "    </div>\n",
              "  </div>\n",
              "  "
            ]
          },
          "metadata": {},
          "execution_count": 19
        }
      ]
    },
    {
      "cell_type": "code",
      "source": [
        "agrupamento = dados.groupby(['Aparencia']).size()\n",
        "agrupamento\n",
        "\n",
        "#Problema: palavra fora do padrão \"menos\""
      ],
      "metadata": {
        "colab": {
          "base_uri": "https://localhost:8080/"
        },
        "id": "b98x1B9J44Tl",
        "outputId": "22b29d00-b784-413d-fcbf-7a98af1d43cc"
      },
      "execution_count": null,
      "outputs": [
        {
          "output_type": "execute_result",
          "data": {
            "text/plain": [
              "Aparencia\n",
              "chuva      5\n",
              "menos      1\n",
              "nublado    3\n",
              "sol        5\n",
              "dtype: int64"
            ]
          },
          "metadata": {},
          "execution_count": 26
        }
      ]
    },
    {
      "cell_type": "code",
      "source": [
        "#Solução substituindo pelo clima mais agradável\n",
        "dados.loc[dados['Aparencia'] == \"menos\", 'Aparencia'] = \"sol\""
      ],
      "metadata": {
        "id": "tACxX2El8IWT"
      },
      "execution_count": null,
      "outputs": []
    },
    {
      "cell_type": "code",
      "source": [
        "#Verificando a correção\n",
        "agrupamento = dados.groupby(['Aparencia']).size()\n",
        "agrupamento"
      ],
      "metadata": {
        "colab": {
          "base_uri": "https://localhost:8080/"
        },
        "id": "1wAiZ3Th89Vh",
        "outputId": "c2650692-fc10-4e85-870d-f1a54a1db49c"
      },
      "execution_count": null,
      "outputs": [
        {
          "output_type": "execute_result",
          "data": {
            "text/plain": [
              "Aparencia\n",
              "chuva      5\n",
              "nublado    3\n",
              "sol        6\n",
              "dtype: int64"
            ]
          },
          "metadata": {},
          "execution_count": 36
        }
      ]
    },
    {
      "cell_type": "code",
      "source": [
        "agrupamento = dados.groupby(['Temperatura']).size()\n",
        "agrupamento\n",
        "#Problema: valor maior que 130F"
      ],
      "metadata": {
        "colab": {
          "base_uri": "https://localhost:8080/"
        },
        "id": "6BEnqj0M5hKZ",
        "outputId": "9e01beef-573c-451b-9d00-85f87b57e433"
      },
      "execution_count": null,
      "outputs": [
        {
          "output_type": "execute_result",
          "data": {
            "text/plain": [
              "Temperatura\n",
              "64      1\n",
              "65      1\n",
              "68      1\n",
              "69      1\n",
              "70      1\n",
              "71      1\n",
              "72      1\n",
              "75      2\n",
              "80      1\n",
              "81      1\n",
              "83      1\n",
              "85      1\n",
              "1220    1\n",
              "dtype: int64"
            ]
          },
          "metadata": {},
          "execution_count": 30
        }
      ]
    },
    {
      "cell_type": "code",
      "source": [
        "#Solucao substituir pela mediana\n",
        "mediana = sts.median(dados['Temperatura'])\n",
        "mediana"
      ],
      "metadata": {
        "colab": {
          "base_uri": "https://localhost:8080/"
        },
        "id": "vzR9qoEa92SJ",
        "outputId": "47798c5e-736f-433e-8747-583396180f3e"
      },
      "execution_count": null,
      "outputs": [
        {
          "output_type": "execute_result",
          "data": {
            "text/plain": [
              "73.5"
            ]
          },
          "metadata": {},
          "execution_count": 41
        }
      ]
    },
    {
      "cell_type": "code",
      "source": [
        "dados.loc[dados['Temperatura'] > 130, 'Temperatura'] = 73.5"
      ],
      "metadata": {
        "id": "802yrZeA-qET"
      },
      "execution_count": null,
      "outputs": []
    },
    {
      "cell_type": "code",
      "source": [
        "#Verificando a correção\n",
        "agrupamento = dados.groupby(['Temperatura']).size()\n",
        "agrupamento"
      ],
      "metadata": {
        "colab": {
          "base_uri": "https://localhost:8080/"
        },
        "id": "OHMAhmtb--xU",
        "outputId": "4bd9c067-0416-4d70-e58d-cb6e4d7c9640"
      },
      "execution_count": null,
      "outputs": [
        {
          "output_type": "execute_result",
          "data": {
            "text/plain": [
              "Temperatura\n",
              "64.0    1\n",
              "65.0    1\n",
              "68.0    1\n",
              "69.0    1\n",
              "70.0    1\n",
              "71.0    1\n",
              "72.0    1\n",
              "73.5    1\n",
              "75.0    2\n",
              "80.0    1\n",
              "81.0    1\n",
              "83.0    1\n",
              "85.0    1\n",
              "dtype: int64"
            ]
          },
          "metadata": {},
          "execution_count": 48
        }
      ]
    },
    {
      "cell_type": "code",
      "source": [
        "agrupamento = dados.groupby(['Umidade']).size()\n",
        "agrupamento\n",
        "#Problema: Fora do padrão, umidade maior que 100"
      ],
      "metadata": {
        "colab": {
          "base_uri": "https://localhost:8080/"
        },
        "id": "Fl26qSfa7LBB",
        "outputId": "dd6d800a-3151-479c-e47d-d5949600756d"
      },
      "execution_count": null,
      "outputs": [
        {
          "output_type": "execute_result",
          "data": {
            "text/plain": [
              "Umidade\n",
              "65.0     1\n",
              "70.0     3\n",
              "75.0     1\n",
              "80.0     1\n",
              "85.0     1\n",
              "86.0     1\n",
              "90.0     2\n",
              "91.0     1\n",
              "95.0     1\n",
              "200.0    1\n",
              "dtype: int64"
            ]
          },
          "metadata": {},
          "execution_count": 31
        }
      ]
    },
    {
      "cell_type": "code",
      "source": [
        "#Solução substituir pela mediana\n",
        "mediana = sts.median(dados['Umidade'])\n",
        "mediana"
      ],
      "metadata": {
        "colab": {
          "base_uri": "https://localhost:8080/"
        },
        "id": "JC5uGyloAKZW",
        "outputId": "a1b10232-60e9-44c4-864a-1252e1701775"
      },
      "execution_count": null,
      "outputs": [
        {
          "output_type": "execute_result",
          "data": {
            "text/plain": [
              "85.5"
            ]
          },
          "metadata": {},
          "execution_count": 49
        }
      ]
    },
    {
      "cell_type": "code",
      "source": [
        "dados.loc[dados['Umidade'] > 100, 'Umidade'] = 85.5"
      ],
      "metadata": {
        "id": "QAIN96ak_sSA"
      },
      "execution_count": null,
      "outputs": []
    },
    {
      "cell_type": "code",
      "source": [
        "#Verificando a correção\n",
        "agrupamento = dados.groupby(['Umidade']).size()\n",
        "agrupamento"
      ],
      "metadata": {
        "colab": {
          "base_uri": "https://localhost:8080/"
        },
        "id": "n2BsZUCiAZCT",
        "outputId": "702f158d-9573-4bf2-e119-eafea016e74b"
      },
      "execution_count": null,
      "outputs": [
        {
          "output_type": "execute_result",
          "data": {
            "text/plain": [
              "Umidade\n",
              "65.0    1\n",
              "70.0    3\n",
              "75.0    1\n",
              "80.0    1\n",
              "85.0    1\n",
              "85.5    1\n",
              "86.0    1\n",
              "90.0    2\n",
              "91.0    1\n",
              "95.0    1\n",
              "dtype: int64"
            ]
          },
          "metadata": {},
          "execution_count": 53
        }
      ]
    },
    {
      "cell_type": "code",
      "source": [
        "agrupamento = dados.groupby(['Jogar']).size()\n",
        "agrupamento\n",
        "#Dentro do padrão"
      ],
      "metadata": {
        "colab": {
          "base_uri": "https://localhost:8080/"
        },
        "id": "l5Fz9E787VK2",
        "outputId": "bac7fb40-8bf4-4e73-933b-ac97f113daec"
      },
      "execution_count": null,
      "outputs": [
        {
          "output_type": "execute_result",
          "data": {
            "text/plain": [
              "Jogar\n",
              "nao    5\n",
              "sim    9\n",
              "dtype: int64"
            ]
          },
          "metadata": {},
          "execution_count": 33
        }
      ]
    },
    {
      "cell_type": "code",
      "source": [
        "agrupamento = dados.groupby(['Vento']).size()\n",
        "agrupamento\n",
        "#explorar valores faltantes"
      ],
      "metadata": {
        "colab": {
          "base_uri": "https://localhost:8080/"
        },
        "id": "8UsVcc2W_ZQM",
        "outputId": "7cf13fb3-a228-4a30-9194-485aeeb76b1e"
      },
      "execution_count": null,
      "outputs": [
        {
          "output_type": "execute_result",
          "data": {
            "text/plain": [
              "Vento\n",
              "FALSO         7\n",
              "VERDADEIRO    6\n",
              "dtype: int64"
            ]
          },
          "metadata": {},
          "execution_count": 44
        }
      ]
    },
    {
      "cell_type": "code",
      "source": [
        "dados.isnull().sum()\n",
        "#problema: Umidade e Vento possue valores Nan"
      ],
      "metadata": {
        "colab": {
          "base_uri": "https://localhost:8080/"
        },
        "id": "cwkOiLUG7kEw",
        "outputId": "7f5b1ab6-3ede-4287-c4b6-26e19abce1e4"
      },
      "execution_count": null,
      "outputs": [
        {
          "output_type": "execute_result",
          "data": {
            "text/plain": [
              "Aparencia      0\n",
              "Temperatura    0\n",
              "Umidade        1\n",
              "Vento          1\n",
              "Jogar          0\n",
              "dtype: int64"
            ]
          },
          "metadata": {},
          "execution_count": 54
        }
      ]
    },
    {
      "cell_type": "code",
      "source": [
        "#Solução: substituindo pela moda\n",
        "dados['Vento'].fillna('FALSO', inplace=True)"
      ],
      "metadata": {
        "id": "SBM7ZjR0BRhA"
      },
      "execution_count": null,
      "outputs": []
    },
    {
      "cell_type": "code",
      "source": [
        "dados.isnull().sum()\n",
        "#problema: Umidade possue valor Nan"
      ],
      "metadata": {
        "colab": {
          "base_uri": "https://localhost:8080/"
        },
        "id": "5uQFWQRSCC7i",
        "outputId": "321dab5c-e5df-463d-e019-1c26f9a3050a"
      },
      "execution_count": null,
      "outputs": [
        {
          "output_type": "execute_result",
          "data": {
            "text/plain": [
              "Aparencia      0\n",
              "Temperatura    0\n",
              "Umidade        1\n",
              "Vento          0\n",
              "Jogar          0\n",
              "dtype: int64"
            ]
          },
          "metadata": {},
          "execution_count": 57
        }
      ]
    },
    {
      "cell_type": "code",
      "source": [
        "#Calculando a mediana\n",
        "mediana = sts.median(dados['Umidade'])\n",
        "mediana"
      ],
      "metadata": {
        "colab": {
          "base_uri": "https://localhost:8080/"
        },
        "id": "Rnq5DCaACNTG",
        "outputId": "47e535c3-760a-4dd1-8cac-ed6a3c918fcf"
      },
      "execution_count": null,
      "outputs": [
        {
          "output_type": "execute_result",
          "data": {
            "text/plain": [
              "85.5"
            ]
          },
          "metadata": {},
          "execution_count": 58
        }
      ]
    },
    {
      "cell_type": "code",
      "source": [
        "#Solução: substituir valor faltante pela mediana\n",
        "dados['Umidade'].fillna(mediana, inplace=True)\n"
      ],
      "metadata": {
        "id": "93qhBA2bCWjQ"
      },
      "execution_count": null,
      "outputs": []
    },
    {
      "cell_type": "code",
      "source": [
        "#Verificando a correção\n",
        "dados.isnull().sum()"
      ],
      "metadata": {
        "colab": {
          "base_uri": "https://localhost:8080/"
        },
        "id": "wTO5TqoSDqZO",
        "outputId": "349ff8d7-fce2-4015-a31b-65814567e501"
      },
      "execution_count": null,
      "outputs": [
        {
          "output_type": "execute_result",
          "data": {
            "text/plain": [
              "Aparencia      0\n",
              "Temperatura    0\n",
              "Umidade        0\n",
              "Vento          0\n",
              "Jogar          0\n",
              "dtype: int64"
            ]
          },
          "metadata": {},
          "execution_count": 60
        }
      ]
    }
  ]
}