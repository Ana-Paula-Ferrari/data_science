{
  "nbformat": 4,
  "nbformat_minor": 0,
  "metadata": {
    "colab": {
      "provenance": [],
      "authorship_tag": "ABX9TyOjg6PYY1dD9IZgi+LchEJB"
    },
    "kernelspec": {
      "name": "python3",
      "display_name": "Python 3"
    },
    "language_info": {
      "name": "python"
    }
  },
  "cells": [
    {
      "cell_type": "markdown",
      "source": [
        "# **Classificação** \n",
        "\n",
        "Utilizado para descrever ou prever um atributo especial chamado class(classe)\n",
        "\n",
        "# **Regressão** \n",
        "\n",
        "Semelhante a classificação, porém a classe possui dado numérico\n",
        "\n"
      ],
      "metadata": {
        "id": "ALmnn-PFSzFk"
      }
    },
    {
      "cell_type": "markdown",
      "source": [
        "**Naive Bayes** - algoritmo baseado na teoria das probabilidades"
      ],
      "metadata": {
        "id": "cgw_zUDW_Kil"
      }
    },
    {
      "cell_type": "code",
      "execution_count": null,
      "metadata": {
        "id": "my_ravu2Sp3X"
      },
      "outputs": [],
      "source": [
        "import pandas as pd\n",
        "from sklearn.preprocessing import LabelEncoder\n",
        "from sklearn.model_selection import train_test_split\n",
        "from sklearn.naive_bayes import GaussianNB\n",
        "from sklearn.metrics import confusion_matrix, accuracy_score\n",
        "from yellowbrick.classifier import ConfusionMatrix"
      ]
    },
    {
      "cell_type": "code",
      "source": [
        "credito = pd.read_csv('Credit.csv')\n",
        "credito.shape"
      ],
      "metadata": {
        "colab": {
          "base_uri": "https://localhost:8080/"
        },
        "id": "t_DSBjfOthgb",
        "outputId": "e66b6a49-9780-4429-fff7-b3316af262a5"
      },
      "execution_count": null,
      "outputs": [
        {
          "output_type": "execute_result",
          "data": {
            "text/plain": [
              "(1000, 21)"
            ]
          },
          "metadata": {},
          "execution_count": 2
        }
      ]
    },
    {
      "cell_type": "code",
      "source": [
        "credito.head()"
      ],
      "metadata": {
        "colab": {
          "base_uri": "https://localhost:8080/",
          "height": 369
        },
        "id": "MCZRYO-8uEVL",
        "outputId": "e83b9a51-bc53-40e8-d343-3ea0ebd05e9f"
      },
      "execution_count": null,
      "outputs": [
        {
          "output_type": "execute_result",
          "data": {
            "text/plain": [
              "  checking_status  duration                    credit_history  \\\n",
              "0              <0         6  'critical/other existing credit'   \n",
              "1        0<=X<200        48                   'existing paid'   \n",
              "2   'no checking'        12  'critical/other existing credit'   \n",
              "3              <0        42                   'existing paid'   \n",
              "4              <0        24              'delayed previously'   \n",
              "\n",
              "               purpose  credit_amount      savings_status employment  \\\n",
              "0             radio/tv           1169  'no known savings'        >=7   \n",
              "1             radio/tv           5951                <100     1<=X<4   \n",
              "2            education           2096                <100     4<=X<7   \n",
              "3  furniture/equipment           7882                <100     4<=X<7   \n",
              "4            'new car'           4870                <100     1<=X<4   \n",
              "\n",
              "   installment_commitment       personal_status other_parties  ...  \\\n",
              "0                       4         'male single'          none  ...   \n",
              "1                       2  'female div/dep/mar'          none  ...   \n",
              "2                       2         'male single'          none  ...   \n",
              "3                       2         'male single'     guarantor  ...   \n",
              "4                       3         'male single'          none  ...   \n",
              "\n",
              "    property_magnitude age  other_payment_plans     housing existing_credits  \\\n",
              "0        'real estate'  67                 none         own                2   \n",
              "1        'real estate'  22                 none         own                1   \n",
              "2        'real estate'  49                 none         own                1   \n",
              "3     'life insurance'  45                 none  'for free'                1   \n",
              "4  'no known property'  53                 none  'for free'                2   \n",
              "\n",
              "                    job num_dependents  own_telephone foreign_worker class  \n",
              "0               skilled              1            yes            yes  good  \n",
              "1               skilled              1           none            yes   bad  \n",
              "2  'unskilled resident'              2           none            yes  good  \n",
              "3               skilled              2           none            yes  good  \n",
              "4               skilled              2           none            yes   bad  \n",
              "\n",
              "[5 rows x 21 columns]"
            ],
            "text/html": [
              "\n",
              "  <div id=\"df-e4e58675-3c4b-423c-a6cf-377cacad7849\">\n",
              "    <div class=\"colab-df-container\">\n",
              "      <div>\n",
              "<style scoped>\n",
              "    .dataframe tbody tr th:only-of-type {\n",
              "        vertical-align: middle;\n",
              "    }\n",
              "\n",
              "    .dataframe tbody tr th {\n",
              "        vertical-align: top;\n",
              "    }\n",
              "\n",
              "    .dataframe thead th {\n",
              "        text-align: right;\n",
              "    }\n",
              "</style>\n",
              "<table border=\"1\" class=\"dataframe\">\n",
              "  <thead>\n",
              "    <tr style=\"text-align: right;\">\n",
              "      <th></th>\n",
              "      <th>checking_status</th>\n",
              "      <th>duration</th>\n",
              "      <th>credit_history</th>\n",
              "      <th>purpose</th>\n",
              "      <th>credit_amount</th>\n",
              "      <th>savings_status</th>\n",
              "      <th>employment</th>\n",
              "      <th>installment_commitment</th>\n",
              "      <th>personal_status</th>\n",
              "      <th>other_parties</th>\n",
              "      <th>...</th>\n",
              "      <th>property_magnitude</th>\n",
              "      <th>age</th>\n",
              "      <th>other_payment_plans</th>\n",
              "      <th>housing</th>\n",
              "      <th>existing_credits</th>\n",
              "      <th>job</th>\n",
              "      <th>num_dependents</th>\n",
              "      <th>own_telephone</th>\n",
              "      <th>foreign_worker</th>\n",
              "      <th>class</th>\n",
              "    </tr>\n",
              "  </thead>\n",
              "  <tbody>\n",
              "    <tr>\n",
              "      <th>0</th>\n",
              "      <td>&lt;0</td>\n",
              "      <td>6</td>\n",
              "      <td>'critical/other existing credit'</td>\n",
              "      <td>radio/tv</td>\n",
              "      <td>1169</td>\n",
              "      <td>'no known savings'</td>\n",
              "      <td>&gt;=7</td>\n",
              "      <td>4</td>\n",
              "      <td>'male single'</td>\n",
              "      <td>none</td>\n",
              "      <td>...</td>\n",
              "      <td>'real estate'</td>\n",
              "      <td>67</td>\n",
              "      <td>none</td>\n",
              "      <td>own</td>\n",
              "      <td>2</td>\n",
              "      <td>skilled</td>\n",
              "      <td>1</td>\n",
              "      <td>yes</td>\n",
              "      <td>yes</td>\n",
              "      <td>good</td>\n",
              "    </tr>\n",
              "    <tr>\n",
              "      <th>1</th>\n",
              "      <td>0&lt;=X&lt;200</td>\n",
              "      <td>48</td>\n",
              "      <td>'existing paid'</td>\n",
              "      <td>radio/tv</td>\n",
              "      <td>5951</td>\n",
              "      <td>&lt;100</td>\n",
              "      <td>1&lt;=X&lt;4</td>\n",
              "      <td>2</td>\n",
              "      <td>'female div/dep/mar'</td>\n",
              "      <td>none</td>\n",
              "      <td>...</td>\n",
              "      <td>'real estate'</td>\n",
              "      <td>22</td>\n",
              "      <td>none</td>\n",
              "      <td>own</td>\n",
              "      <td>1</td>\n",
              "      <td>skilled</td>\n",
              "      <td>1</td>\n",
              "      <td>none</td>\n",
              "      <td>yes</td>\n",
              "      <td>bad</td>\n",
              "    </tr>\n",
              "    <tr>\n",
              "      <th>2</th>\n",
              "      <td>'no checking'</td>\n",
              "      <td>12</td>\n",
              "      <td>'critical/other existing credit'</td>\n",
              "      <td>education</td>\n",
              "      <td>2096</td>\n",
              "      <td>&lt;100</td>\n",
              "      <td>4&lt;=X&lt;7</td>\n",
              "      <td>2</td>\n",
              "      <td>'male single'</td>\n",
              "      <td>none</td>\n",
              "      <td>...</td>\n",
              "      <td>'real estate'</td>\n",
              "      <td>49</td>\n",
              "      <td>none</td>\n",
              "      <td>own</td>\n",
              "      <td>1</td>\n",
              "      <td>'unskilled resident'</td>\n",
              "      <td>2</td>\n",
              "      <td>none</td>\n",
              "      <td>yes</td>\n",
              "      <td>good</td>\n",
              "    </tr>\n",
              "    <tr>\n",
              "      <th>3</th>\n",
              "      <td>&lt;0</td>\n",
              "      <td>42</td>\n",
              "      <td>'existing paid'</td>\n",
              "      <td>furniture/equipment</td>\n",
              "      <td>7882</td>\n",
              "      <td>&lt;100</td>\n",
              "      <td>4&lt;=X&lt;7</td>\n",
              "      <td>2</td>\n",
              "      <td>'male single'</td>\n",
              "      <td>guarantor</td>\n",
              "      <td>...</td>\n",
              "      <td>'life insurance'</td>\n",
              "      <td>45</td>\n",
              "      <td>none</td>\n",
              "      <td>'for free'</td>\n",
              "      <td>1</td>\n",
              "      <td>skilled</td>\n",
              "      <td>2</td>\n",
              "      <td>none</td>\n",
              "      <td>yes</td>\n",
              "      <td>good</td>\n",
              "    </tr>\n",
              "    <tr>\n",
              "      <th>4</th>\n",
              "      <td>&lt;0</td>\n",
              "      <td>24</td>\n",
              "      <td>'delayed previously'</td>\n",
              "      <td>'new car'</td>\n",
              "      <td>4870</td>\n",
              "      <td>&lt;100</td>\n",
              "      <td>1&lt;=X&lt;4</td>\n",
              "      <td>3</td>\n",
              "      <td>'male single'</td>\n",
              "      <td>none</td>\n",
              "      <td>...</td>\n",
              "      <td>'no known property'</td>\n",
              "      <td>53</td>\n",
              "      <td>none</td>\n",
              "      <td>'for free'</td>\n",
              "      <td>2</td>\n",
              "      <td>skilled</td>\n",
              "      <td>2</td>\n",
              "      <td>none</td>\n",
              "      <td>yes</td>\n",
              "      <td>bad</td>\n",
              "    </tr>\n",
              "  </tbody>\n",
              "</table>\n",
              "<p>5 rows × 21 columns</p>\n",
              "</div>\n",
              "      <button class=\"colab-df-convert\" onclick=\"convertToInteractive('df-e4e58675-3c4b-423c-a6cf-377cacad7849')\"\n",
              "              title=\"Convert this dataframe to an interactive table.\"\n",
              "              style=\"display:none;\">\n",
              "        \n",
              "  <svg xmlns=\"http://www.w3.org/2000/svg\" height=\"24px\"viewBox=\"0 0 24 24\"\n",
              "       width=\"24px\">\n",
              "    <path d=\"M0 0h24v24H0V0z\" fill=\"none\"/>\n",
              "    <path d=\"M18.56 5.44l.94 2.06.94-2.06 2.06-.94-2.06-.94-.94-2.06-.94 2.06-2.06.94zm-11 1L8.5 8.5l.94-2.06 2.06-.94-2.06-.94L8.5 2.5l-.94 2.06-2.06.94zm10 10l.94 2.06.94-2.06 2.06-.94-2.06-.94-.94-2.06-.94 2.06-2.06.94z\"/><path d=\"M17.41 7.96l-1.37-1.37c-.4-.4-.92-.59-1.43-.59-.52 0-1.04.2-1.43.59L10.3 9.45l-7.72 7.72c-.78.78-.78 2.05 0 2.83L4 21.41c.39.39.9.59 1.41.59.51 0 1.02-.2 1.41-.59l7.78-7.78 2.81-2.81c.8-.78.8-2.07 0-2.86zM5.41 20L4 18.59l7.72-7.72 1.47 1.35L5.41 20z\"/>\n",
              "  </svg>\n",
              "      </button>\n",
              "      \n",
              "  <style>\n",
              "    .colab-df-container {\n",
              "      display:flex;\n",
              "      flex-wrap:wrap;\n",
              "      gap: 12px;\n",
              "    }\n",
              "\n",
              "    .colab-df-convert {\n",
              "      background-color: #E8F0FE;\n",
              "      border: none;\n",
              "      border-radius: 50%;\n",
              "      cursor: pointer;\n",
              "      display: none;\n",
              "      fill: #1967D2;\n",
              "      height: 32px;\n",
              "      padding: 0 0 0 0;\n",
              "      width: 32px;\n",
              "    }\n",
              "\n",
              "    .colab-df-convert:hover {\n",
              "      background-color: #E2EBFA;\n",
              "      box-shadow: 0px 1px 2px rgba(60, 64, 67, 0.3), 0px 1px 3px 1px rgba(60, 64, 67, 0.15);\n",
              "      fill: #174EA6;\n",
              "    }\n",
              "\n",
              "    [theme=dark] .colab-df-convert {\n",
              "      background-color: #3B4455;\n",
              "      fill: #D2E3FC;\n",
              "    }\n",
              "\n",
              "    [theme=dark] .colab-df-convert:hover {\n",
              "      background-color: #434B5C;\n",
              "      box-shadow: 0px 1px 3px 1px rgba(0, 0, 0, 0.15);\n",
              "      filter: drop-shadow(0px 1px 2px rgba(0, 0, 0, 0.3));\n",
              "      fill: #FFFFFF;\n",
              "    }\n",
              "  </style>\n",
              "\n",
              "      <script>\n",
              "        const buttonEl =\n",
              "          document.querySelector('#df-e4e58675-3c4b-423c-a6cf-377cacad7849 button.colab-df-convert');\n",
              "        buttonEl.style.display =\n",
              "          google.colab.kernel.accessAllowed ? 'block' : 'none';\n",
              "\n",
              "        async function convertToInteractive(key) {\n",
              "          const element = document.querySelector('#df-e4e58675-3c4b-423c-a6cf-377cacad7849');\n",
              "          const dataTable =\n",
              "            await google.colab.kernel.invokeFunction('convertToInteractive',\n",
              "                                                     [key], {});\n",
              "          if (!dataTable) return;\n",
              "\n",
              "          const docLinkHtml = 'Like what you see? Visit the ' +\n",
              "            '<a target=\"_blank\" href=https://colab.research.google.com/notebooks/data_table.ipynb>data table notebook</a>'\n",
              "            + ' to learn more about interactive tables.';\n",
              "          element.innerHTML = '';\n",
              "          dataTable['output_type'] = 'display_data';\n",
              "          await google.colab.output.renderOutput(dataTable, element);\n",
              "          const docLink = document.createElement('div');\n",
              "          docLink.innerHTML = docLinkHtml;\n",
              "          element.appendChild(docLink);\n",
              "        }\n",
              "      </script>\n",
              "    </div>\n",
              "  </div>\n",
              "  "
            ]
          },
          "metadata": {},
          "execution_count": 3
        }
      ]
    },
    {
      "cell_type": "code",
      "source": [
        "#separações das colunas - array de valores\n",
        "previsores = credito.iloc[:,0:20].values\n",
        "classe = credito.iloc[:,20].values"
      ],
      "metadata": {
        "id": "Q4l0uLcIuLrv"
      },
      "execution_count": null,
      "outputs": []
    },
    {
      "cell_type": "code",
      "source": [
        "#transformação dos atributos categóricos em numéricos\n",
        "#criar um objeto para cada atributo categórico, pois será executado o processo de encoding novamente para o registro de teste\n",
        "#se forem utilizados objetos diferentes, o número atribuído a cada valor poderá ser diferente, o que deixará o teste inconsistente\n",
        "#One-hot encoding (indicado em casos de atributo que não possuem ordem e/ou que possuem poucas categórias)\n",
        "#Label encoding (indicado para grande número de categórias e/ou que possuem uma ordem)\n",
        "labelencoder1 = LabelEncoder()\n",
        "previsores[:,0] = labelencoder1.fit_transform(previsores[:,0])\n",
        "\n",
        "labelencoder2 = LabelEncoder()\n",
        "previsores[:,2] = labelencoder2.fit_transform(previsores[:,2])\n",
        "\n",
        "labelencoder3 = LabelEncoder()\n",
        "previsores[:,3] = labelencoder3.fit_transform(previsores[:,3])\n",
        "\n",
        "labelencoder4 = LabelEncoder()\n",
        "previsores[:,5] = labelencoder4.fit_transform(previsores[:,5])\n",
        "\n",
        "labelencoder5 = LabelEncoder()\n",
        "previsores[:,6] = labelencoder5.fit_transform(previsores[:,6])\n",
        "\n",
        "labelencoder6 = LabelEncoder()\n",
        "previsores[:,8] = labelencoder6.fit_transform(previsores[:,8])\n",
        "\n",
        "labelencoder7 = LabelEncoder()\n",
        "previsores[:,9] = labelencoder7.fit_transform(previsores[:,9])\n",
        "\n",
        "labelencoder8 = LabelEncoder()\n",
        "previsores[:,11] = labelencoder8.fit_transform(previsores[:,11])\n",
        "\n",
        "labelencoder9 = LabelEncoder()\n",
        "previsores[:,13] = labelencoder9.fit_transform(previsores[:,13])\n",
        "\n",
        "labelencoder10 = LabelEncoder()\n",
        "previsores[:,14] = labelencoder10.fit_transform(previsores[:,14])\n",
        "\n",
        "labelencoder11 = LabelEncoder()\n",
        "previsores[:,16] = labelencoder11.fit_transform(previsores[:,16])\n",
        "\n",
        "labelencoder12 = LabelEncoder()\n",
        "previsores[:,18] = labelencoder12.fit_transform(previsores[:,18])\n",
        "\n",
        "labelencoder13 = LabelEncoder()\n",
        "previsores[:,19] = labelencoder13.fit_transform(previsores[:,19])"
      ],
      "metadata": {
        "id": "uTVXZqqgvBc-"
      },
      "execution_count": null,
      "outputs": []
    },
    {
      "cell_type": "code",
      "source": [
        "previsores"
      ],
      "metadata": {
        "colab": {
          "base_uri": "https://localhost:8080/"
        },
        "id": "A8_Galy_xYIa",
        "outputId": "93142a7c-8a7a-4b57-f97e-f331e6028e50"
      },
      "execution_count": null,
      "outputs": [
        {
          "output_type": "execute_result",
          "data": {
            "text/plain": [
              "array([[2, 6, 1, ..., 1, 1, 1],\n",
              "       [1, 48, 3, ..., 1, 0, 1],\n",
              "       [0, 12, 1, ..., 2, 0, 1],\n",
              "       ...,\n",
              "       [0, 12, 3, ..., 1, 0, 1],\n",
              "       [2, 45, 3, ..., 1, 1, 1],\n",
              "       [1, 45, 1, ..., 1, 0, 1]], dtype=object)"
            ]
          },
          "metadata": {},
          "execution_count": 6
        }
      ]
    },
    {
      "cell_type": "code",
      "source": [
        "#fazendo a separação dos dados de treinamento e de teste(30% teste e 70% treino)HOLD OUT\n",
        "#parametro random_state=0,significa que a semente aleatória (seed) será fixa e igual a 0. \n",
        "#Isso significa que, em cada execução do algoritmo, o resultado será o mesmo, o que é útil para fins de reprodutibilidade e comparação de resultados\n",
        "#previsores (variáveis independentes - X) e a classe (variável dependente - y)\n",
        "X_treinamento, X_teste, y_treinamento, y_teste = train_test_split(previsores, classe, test_size=0.3, random_state=0)\n",
        "\n",
        "X_teste"
      ],
      "metadata": {
        "colab": {
          "base_uri": "https://localhost:8080/"
        },
        "id": "w1NSEZIQx20H",
        "outputId": "295fdfee-2652-4f2b-da6c-ba0ee015737a"
      },
      "execution_count": null,
      "outputs": [
        {
          "output_type": "execute_result",
          "data": {
            "text/plain": [
              "array([[2, 36, 3, ..., 1, 1, 1],\n",
              "       [0, 9, 3, ..., 2, 0, 0],\n",
              "       [0, 18, 3, ..., 1, 1, 1],\n",
              "       ...,\n",
              "       [0, 24, 1, ..., 1, 0, 1],\n",
              "       [1, 27, 4, ..., 1, 1, 1],\n",
              "       [1, 12, 3, ..., 1, 0, 1]], dtype=object)"
            ]
          },
          "metadata": {},
          "execution_count": 7
        }
      ]
    },
    {
      "cell_type": "code",
      "source": [
        "#criação e treinamento do modelo(geração da tabela de probabilidades)\n",
        "naive_bayes = GaussianNB()\n",
        "naive_bayes.fit(X_treinamento, y_treinamento)"
      ],
      "metadata": {
        "colab": {
          "base_uri": "https://localhost:8080/",
          "height": 75
        },
        "id": "uFCqLCnN1HAt",
        "outputId": "b28dda96-1996-4211-e9a1-052adfd6a308"
      },
      "execution_count": null,
      "outputs": [
        {
          "output_type": "execute_result",
          "data": {
            "text/plain": [
              "GaussianNB()"
            ],
            "text/html": [
              "<style>#sk-container-id-1 {color: black;background-color: white;}#sk-container-id-1 pre{padding: 0;}#sk-container-id-1 div.sk-toggleable {background-color: white;}#sk-container-id-1 label.sk-toggleable__label {cursor: pointer;display: block;width: 100%;margin-bottom: 0;padding: 0.3em;box-sizing: border-box;text-align: center;}#sk-container-id-1 label.sk-toggleable__label-arrow:before {content: \"▸\";float: left;margin-right: 0.25em;color: #696969;}#sk-container-id-1 label.sk-toggleable__label-arrow:hover:before {color: black;}#sk-container-id-1 div.sk-estimator:hover label.sk-toggleable__label-arrow:before {color: black;}#sk-container-id-1 div.sk-toggleable__content {max-height: 0;max-width: 0;overflow: hidden;text-align: left;background-color: #f0f8ff;}#sk-container-id-1 div.sk-toggleable__content pre {margin: 0.2em;color: black;border-radius: 0.25em;background-color: #f0f8ff;}#sk-container-id-1 input.sk-toggleable__control:checked~div.sk-toggleable__content {max-height: 200px;max-width: 100%;overflow: auto;}#sk-container-id-1 input.sk-toggleable__control:checked~label.sk-toggleable__label-arrow:before {content: \"▾\";}#sk-container-id-1 div.sk-estimator input.sk-toggleable__control:checked~label.sk-toggleable__label {background-color: #d4ebff;}#sk-container-id-1 div.sk-label input.sk-toggleable__control:checked~label.sk-toggleable__label {background-color: #d4ebff;}#sk-container-id-1 input.sk-hidden--visually {border: 0;clip: rect(1px 1px 1px 1px);clip: rect(1px, 1px, 1px, 1px);height: 1px;margin: -1px;overflow: hidden;padding: 0;position: absolute;width: 1px;}#sk-container-id-1 div.sk-estimator {font-family: monospace;background-color: #f0f8ff;border: 1px dotted black;border-radius: 0.25em;box-sizing: border-box;margin-bottom: 0.5em;}#sk-container-id-1 div.sk-estimator:hover {background-color: #d4ebff;}#sk-container-id-1 div.sk-parallel-item::after {content: \"\";width: 100%;border-bottom: 1px solid gray;flex-grow: 1;}#sk-container-id-1 div.sk-label:hover label.sk-toggleable__label {background-color: #d4ebff;}#sk-container-id-1 div.sk-serial::before {content: \"\";position: absolute;border-left: 1px solid gray;box-sizing: border-box;top: 0;bottom: 0;left: 50%;z-index: 0;}#sk-container-id-1 div.sk-serial {display: flex;flex-direction: column;align-items: center;background-color: white;padding-right: 0.2em;padding-left: 0.2em;position: relative;}#sk-container-id-1 div.sk-item {position: relative;z-index: 1;}#sk-container-id-1 div.sk-parallel {display: flex;align-items: stretch;justify-content: center;background-color: white;position: relative;}#sk-container-id-1 div.sk-item::before, #sk-container-id-1 div.sk-parallel-item::before {content: \"\";position: absolute;border-left: 1px solid gray;box-sizing: border-box;top: 0;bottom: 0;left: 50%;z-index: -1;}#sk-container-id-1 div.sk-parallel-item {display: flex;flex-direction: column;z-index: 1;position: relative;background-color: white;}#sk-container-id-1 div.sk-parallel-item:first-child::after {align-self: flex-end;width: 50%;}#sk-container-id-1 div.sk-parallel-item:last-child::after {align-self: flex-start;width: 50%;}#sk-container-id-1 div.sk-parallel-item:only-child::after {width: 0;}#sk-container-id-1 div.sk-dashed-wrapped {border: 1px dashed gray;margin: 0 0.4em 0.5em 0.4em;box-sizing: border-box;padding-bottom: 0.4em;background-color: white;}#sk-container-id-1 div.sk-label label {font-family: monospace;font-weight: bold;display: inline-block;line-height: 1.2em;}#sk-container-id-1 div.sk-label-container {text-align: center;}#sk-container-id-1 div.sk-container {/* jupyter's `normalize.less` sets `[hidden] { display: none; }` but bootstrap.min.css set `[hidden] { display: none !important; }` so we also need the `!important` here to be able to override the default hidden behavior on the sphinx rendered scikit-learn.org. See: https://github.com/scikit-learn/scikit-learn/issues/21755 */display: inline-block !important;position: relative;}#sk-container-id-1 div.sk-text-repr-fallback {display: none;}</style><div id=\"sk-container-id-1\" class=\"sk-top-container\"><div class=\"sk-text-repr-fallback\"><pre>GaussianNB()</pre><b>In a Jupyter environment, please rerun this cell to show the HTML representation or trust the notebook. <br />On GitHub, the HTML representation is unable to render, please try loading this page with nbviewer.org.</b></div><div class=\"sk-container\" hidden><div class=\"sk-item\"><div class=\"sk-estimator sk-toggleable\"><input class=\"sk-toggleable__control sk-hidden--visually\" id=\"sk-estimator-id-1\" type=\"checkbox\" checked><label for=\"sk-estimator-id-1\" class=\"sk-toggleable__label sk-toggleable__label-arrow\">GaussianNB</label><div class=\"sk-toggleable__content\"><pre>GaussianNB()</pre></div></div></div></div></div>"
            ]
          },
          "metadata": {},
          "execution_count": 8
        }
      ]
    },
    {
      "cell_type": "code",
      "source": [
        "#fazendo previsões com os dados de teste\n",
        "previsoes = naive_bayes.predict(X_teste)\n",
        "previsoes[0:5] #verificando a saída"
      ],
      "metadata": {
        "colab": {
          "base_uri": "https://localhost:8080/"
        },
        "id": "_ZTcHriK13FJ",
        "outputId": "33272a0d-1fd9-4033-8e86-e49c81db6150"
      },
      "execution_count": null,
      "outputs": [
        {
          "output_type": "execute_result",
          "data": {
            "text/plain": [
              "array(['bad', 'good', 'good', 'good', 'bad'], dtype='<U4')"
            ]
          },
          "metadata": {},
          "execution_count": 9
        }
      ]
    },
    {
      "cell_type": "code",
      "source": [
        "#gerando a matriz de confusão\n",
        "#fazendo a comparação entre o que aconteceu e o que foi previsto \n",
        "confusao = confusion_matrix(y_teste, previsoes) \n",
        "confusao"
      ],
      "metadata": {
        "colab": {
          "base_uri": "https://localhost:8080/"
        },
        "id": "8JL2luWJ2bYa",
        "outputId": "d081b294-cd7c-46c6-9a4f-0920f593f080"
      },
      "execution_count": null,
      "outputs": [
        {
          "output_type": "execute_result",
          "data": {
            "text/plain": [
              "array([[ 41,  45],\n",
              "       [ 42, 172]])"
            ]
          },
          "metadata": {},
          "execution_count": 10
        }
      ]
    },
    {
      "cell_type": "code",
      "source": [
        "#visualizando a matriz de confusão\n",
        "v = ConfusionMatrix(GaussianNB())\n",
        "v.fit(X_treinamento, y_treinamento)\n",
        "v.score(X_teste, y_teste)\n",
        "v.poof()"
      ],
      "metadata": {
        "colab": {
          "base_uri": "https://localhost:8080/",
          "height": 568
        },
        "id": "5zmVbSOG2Jle",
        "outputId": "a815bf7f-b009-45c1-bee1-ff7bb3031cf0"
      },
      "execution_count": null,
      "outputs": [
        {
          "output_type": "display_data",
          "data": {
            "text/plain": [
              "<Figure size 800x550 with 1 Axes>"
            ],
            "image/png": "[encoded data removed]"
          },
          "metadata": {}
        },
        {
          "output_type": "execute_result",
          "data": {
            "text/plain": [
              "<Axes: title={'center': 'GaussianNB Confusion Matrix'}, xlabel='Predicted Class', ylabel='True Class'>"
            ]
          },
          "metadata": {},
          "execution_count": 11
        }
      ]
    },
    {
      "cell_type": "code",
      "source": [
        "#taxa de acerto e erro\n",
        "taxa_acerto = accuracy_score(y_teste, previsoes)\n",
        "taxa_erro = 1 - taxa_acerto\n",
        "print('taxa de acerto: ', taxa_acerto,'\\n','taxa de erro: ',taxa_erro)"
      ],
      "metadata": {
        "colab": {
          "base_uri": "https://localhost:8080/"
        },
        "id": "0HTYZbqs4FEU",
        "outputId": "6b53d003-107d-4503-f9e4-29d22952d84b"
      },
      "execution_count": null,
      "outputs": [
        {
          "output_type": "stream",
          "name": "stdout",
          "text": [
            "taxa de acerto:  0.71 \n",
            " taxa de erro:  0.29000000000000004\n"
          ]
        }
      ]
    },
    {
      "cell_type": "code",
      "source": [
        "#carregando novos dados para previsão\n",
        "novo_credito = pd.read_csv('NovoCredit.csv')\n",
        "novo_credito"
      ],
      "metadata": {
        "colab": {
          "base_uri": "https://localhost:8080/",
          "height": 145
        },
        "id": "_SdG3kuN6u_h",
        "outputId": "53145ae0-e739-41aa-aa47-2a43964b89ea"
      },
      "execution_count": null,
      "outputs": [
        {
          "output_type": "execute_result",
          "data": {
            "text/plain": [
              "  checking_status  duration   credit_history   purpose  credit_amount  \\\n",
              "0   'no checking'        12  'existing paid'  radio/tv            804   \n",
              "\n",
              "  savings_status employment  installment_commitment personal_status  \\\n",
              "0           <100        >=7                       4   'male single'   \n",
              "\n",
              "  other_parties  residence_since property_magnitude  age other_payment_plans  \\\n",
              "0          none                4                car   38                none   \n",
              "\n",
              "  housing  existing_credits      job  num_dependents own_telephone  \\\n",
              "0     own                 1  skilled               1          none   \n",
              "\n",
              "  foreign_worker  \n",
              "0            yes  "
            ],
            "text/html": [
              "\n",
              "  <div id=\"df-c70a4915-cae2-4ac3-8042-4f20a1274472\">\n",
              "    <div class=\"colab-df-container\">\n",
              "      <div>\n",
              "<style scoped>\n",
              "    .dataframe tbody tr th:only-of-type {\n",
              "        vertical-align: middle;\n",
              "    }\n",
              "\n",
              "    .dataframe tbody tr th {\n",
              "        vertical-align: top;\n",
              "    }\n",
              "\n",
              "    .dataframe thead th {\n",
              "        text-align: right;\n",
              "    }\n",
              "</style>\n",
              "<table border=\"1\" class=\"dataframe\">\n",
              "  <thead>\n",
              "    <tr style=\"text-align: right;\">\n",
              "      <th></th>\n",
              "      <th>checking_status</th>\n",
              "      <th>duration</th>\n",
              "      <th>credit_history</th>\n",
              "      <th>purpose</th>\n",
              "      <th>credit_amount</th>\n",
              "      <th>savings_status</th>\n",
              "      <th>employment</th>\n",
              "      <th>installment_commitment</th>\n",
              "      <th>personal_status</th>\n",
              "      <th>other_parties</th>\n",
              "      <th>residence_since</th>\n",
              "      <th>property_magnitude</th>\n",
              "      <th>age</th>\n",
              "      <th>other_payment_plans</th>\n",
              "      <th>housing</th>\n",
              "      <th>existing_credits</th>\n",
              "      <th>job</th>\n",
              "      <th>num_dependents</th>\n",
              "      <th>own_telephone</th>\n",
              "      <th>foreign_worker</th>\n",
              "    </tr>\n",
              "  </thead>\n",
              "  <tbody>\n",
              "    <tr>\n",
              "      <th>0</th>\n",
              "      <td>'no checking'</td>\n",
              "      <td>12</td>\n",
              "      <td>'existing paid'</td>\n",
              "      <td>radio/tv</td>\n",
              "      <td>804</td>\n",
              "      <td>&lt;100</td>\n",
              "      <td>&gt;=7</td>\n",
              "      <td>4</td>\n",
              "      <td>'male single'</td>\n",
              "      <td>none</td>\n",
              "      <td>4</td>\n",
              "      <td>car</td>\n",
              "      <td>38</td>\n",
              "      <td>none</td>\n",
              "      <td>own</td>\n",
              "      <td>1</td>\n",
              "      <td>skilled</td>\n",
              "      <td>1</td>\n",
              "      <td>none</td>\n",
              "      <td>yes</td>\n",
              "    </tr>\n",
              "  </tbody>\n",
              "</table>\n",
              "</div>\n",
              "      <button class=\"colab-df-convert\" onclick=\"convertToInteractive('df-c70a4915-cae2-4ac3-8042-4f20a1274472')\"\n",
              "              title=\"Convert this dataframe to an interactive table.\"\n",
              "              style=\"display:none;\">\n",
              "        \n",
              "  <svg xmlns=\"http://www.w3.org/2000/svg\" height=\"24px\"viewBox=\"0 0 24 24\"\n",
              "       width=\"24px\">\n",
              "    <path d=\"M0 0h24v24H0V0z\" fill=\"none\"/>\n",
              "    <path d=\"M18.56 5.44l.94 2.06.94-2.06 2.06-.94-2.06-.94-.94-2.06-.94 2.06-2.06.94zm-11 1L8.5 8.5l.94-2.06 2.06-.94-2.06-.94L8.5 2.5l-.94 2.06-2.06.94zm10 10l.94 2.06.94-2.06 2.06-.94-2.06-.94-.94-2.06-.94 2.06-2.06.94z\"/><path d=\"M17.41 7.96l-1.37-1.37c-.4-.4-.92-.59-1.43-.59-.52 0-1.04.2-1.43.59L10.3 9.45l-7.72 7.72c-.78.78-.78 2.05 0 2.83L4 21.41c.39.39.9.59 1.41.59.51 0 1.02-.2 1.41-.59l7.78-7.78 2.81-2.81c.8-.78.8-2.07 0-2.86zM5.41 20L4 18.59l7.72-7.72 1.47 1.35L5.41 20z\"/>\n",
              "  </svg>\n",
              "      </button>\n",
              "      \n",
              "  <style>\n",
              "    .colab-df-container {\n",
              "      display:flex;\n",
              "      flex-wrap:wrap;\n",
              "      gap: 12px;\n",
              "    }\n",
              "\n",
              "    .colab-df-convert {\n",
              "      background-color: #E8F0FE;\n",
              "      border: none;\n",
              "      border-radius: 50%;\n",
              "      cursor: pointer;\n",
              "      display: none;\n",
              "      fill: #1967D2;\n",
              "      height: 32px;\n",
              "      padding: 0 0 0 0;\n",
              "      width: 32px;\n",
              "    }\n",
              "\n",
              "    .colab-df-convert:hover {\n",
              "      background-color: #E2EBFA;\n",
              "      box-shadow: 0px 1px 2px rgba(60, 64, 67, 0.3), 0px 1px 3px 1px rgba(60, 64, 67, 0.15);\n",
              "      fill: #174EA6;\n",
              "    }\n",
              "\n",
              "    [theme=dark] .colab-df-convert {\n",
              "      background-color: #3B4455;\n",
              "      fill: #D2E3FC;\n",
              "    }\n",
              "\n",
              "    [theme=dark] .colab-df-convert:hover {\n",
              "      background-color: #434B5C;\n",
              "      box-shadow: 0px 1px 3px 1px rgba(0, 0, 0, 0.15);\n",
              "      filter: drop-shadow(0px 1px 2px rgba(0, 0, 0, 0.3));\n",
              "      fill: #FFFFFF;\n",
              "    }\n",
              "  </style>\n",
              "\n",
              "      <script>\n",
              "        const buttonEl =\n",
              "          document.querySelector('#df-c70a4915-cae2-4ac3-8042-4f20a1274472 button.colab-df-convert');\n",
              "        buttonEl.style.display =\n",
              "          google.colab.kernel.accessAllowed ? 'block' : 'none';\n",
              "\n",
              "        async function convertToInteractive(key) {\n",
              "          const element = document.querySelector('#df-c70a4915-cae2-4ac3-8042-4f20a1274472');\n",
              "          const dataTable =\n",
              "            await google.colab.kernel.invokeFunction('convertToInteractive',\n",
              "                                                     [key], {});\n",
              "          if (!dataTable) return;\n",
              "\n",
              "          const docLinkHtml = 'Like what you see? Visit the ' +\n",
              "            '<a target=\"_blank\" href=https://colab.research.google.com/notebooks/data_table.ipynb>data table notebook</a>'\n",
              "            + ' to learn more about interactive tables.';\n",
              "          element.innerHTML = '';\n",
              "          dataTable['output_type'] = 'display_data';\n",
              "          await google.colab.output.renderOutput(dataTable, element);\n",
              "          const docLink = document.createElement('div');\n",
              "          docLink.innerHTML = docLinkHtml;\n",
              "          element.appendChild(docLink);\n",
              "        }\n",
              "      </script>\n",
              "    </div>\n",
              "  </div>\n",
              "  "
            ]
          },
          "metadata": {},
          "execution_count": 13
        }
      ]
    },
    {
      "cell_type": "code",
      "source": [
        "#transformando os atributos categóricos em númericos\n",
        "#usando o mesmo objeto criado antes, para manter o padrão dos dados\n",
        "#chamar apenas o método \"transform\", pois a adaptação aos dados(fit) já foi feita anteriormente\n",
        "novo_credito = novo_credito.iloc[:,0:20].values\n",
        "novo_credito[:,0] = labelencoder1.transform(novo_credito[:,0])\n",
        "novo_credito[:,2] = labelencoder2.transform(novo_credito[:,2])\n",
        "novo_credito[:,3] = labelencoder3.transform(novo_credito[:,3])\n",
        "novo_credito[:,5] = labelencoder4.transform(novo_credito[:,5])\n",
        "novo_credito[:,6] = labelencoder5.transform(novo_credito[:,6])\n",
        "novo_credito[:,8] = labelencoder6.transform(novo_credito[:,8])\n",
        "novo_credito[:,9] = labelencoder7.transform(novo_credito[:,9])\n",
        "novo_credito[:,11] = labelencoder8.transform(novo_credito[:,11])\n",
        "novo_credito[:,13] = labelencoder9.transform(novo_credito[:,13])\n",
        "novo_credito[:,14] = labelencoder10.transform(novo_credito[:,14])\n",
        "novo_credito[:,16] = labelencoder11.transform(novo_credito[:,16])\n",
        "novo_credito[:,18] = labelencoder12.transform(novo_credito[:,18])\n",
        "novo_credito[:,19] = labelencoder13.transform(novo_credito[:,19])"
      ],
      "metadata": {
        "id": "EStxVR087liT"
      },
      "execution_count": null,
      "outputs": []
    },
    {
      "cell_type": "code",
      "source": [
        "#fazendo a previsão da class\n",
        "naive_bayes.predict(novo_credito)\n",
        "#resultado: confiabilidade de 71% de que esse cliente irá pagar o crédito concedido"
      ],
      "metadata": {
        "colab": {
          "base_uri": "https://localhost:8080/"
        },
        "id": "KEwH4svz9oyi",
        "outputId": "ef81d0b4-6e71-4d30-b079-d0fb7c9c9559"
      },
      "execution_count": null,
      "outputs": [
        {
          "output_type": "execute_result",
          "data": {
            "text/plain": [
              "array(['good'], dtype='<U4')"
            ]
          },
          "metadata": {},
          "execution_count": 15
        }
      ]
    },
    {
      "cell_type": "markdown",
      "source": [
        "**Árvore de Decisão** - algoritmo de partição: grau de pureza"
      ],
      "metadata": {
        "id": "kXoDU-aY_VYi"
      }
    },
    {
      "cell_type": "code",
      "source": [
        "#reaproveitando o carregamento da base de dados, a conversão dos atributoscategóricos para númericos, separação dos dados em treinamento e teste\n",
        "from sklearn.tree import DecisionTreeClassifier\n",
        "import graphviz\n",
        "from sklearn.tree import export_graphviz"
      ],
      "metadata": {
        "id": "4_tn_v4rAQBT"
      },
      "execution_count": null,
      "outputs": []
    },
    {
      "cell_type": "code",
      "source": [
        "#criação e treinamento do modelo - árvore de decisão\n",
        "arvore = DecisionTreeClassifier()\n",
        "arvore.fit(X_treinamento, y_treinamento)"
      ],
      "metadata": {
        "colab": {
          "base_uri": "https://localhost:8080/",
          "height": 75
        },
        "id": "MYhlez3uGki5",
        "outputId": "d5b05d55-428f-40c8-a34e-908cfc38643f"
      },
      "execution_count": null,
      "outputs": [
        {
          "output_type": "execute_result",
          "data": {
            "text/plain": [
              "DecisionTreeClassifier()"
            ],
            "text/html": [
              "<style>#sk-container-id-2 {color: black;background-color: white;}#sk-container-id-2 pre{padding: 0;}#sk-container-id-2 div.sk-toggleable {background-color: white;}#sk-container-id-2 label.sk-toggleable__label {cursor: pointer;display: block;width: 100%;margin-bottom: 0;padding: 0.3em;box-sizing: border-box;text-align: center;}#sk-container-id-2 label.sk-toggleable__label-arrow:before {content: \"▸\";float: left;margin-right: 0.25em;color: #696969;}#sk-container-id-2 label.sk-toggleable__label-arrow:hover:before {color: black;}#sk-container-id-2 div.sk-estimator:hover label.sk-toggleable__label-arrow:before {color: black;}#sk-container-id-2 div.sk-toggleable__content {max-height: 0;max-width: 0;overflow: hidden;text-align: left;background-color: #f0f8ff;}#sk-container-id-2 div.sk-toggleable__content pre {margin: 0.2em;color: black;border-radius: 0.25em;background-color: #f0f8ff;}#sk-container-id-2 input.sk-toggleable__control:checked~div.sk-toggleable__content {max-height: 200px;max-width: 100%;overflow: auto;}#sk-container-id-2 input.sk-toggleable__control:checked~label.sk-toggleable__label-arrow:before {content: \"▾\";}#sk-container-id-2 div.sk-estimator input.sk-toggleable__control:checked~label.sk-toggleable__label {background-color: #d4ebff;}#sk-container-id-2 div.sk-label input.sk-toggleable__control:checked~label.sk-toggleable__label {background-color: #d4ebff;}#sk-container-id-2 input.sk-hidden--visually {border: 0;clip: rect(1px 1px 1px 1px);clip: rect(1px, 1px, 1px, 1px);height: 1px;margin: -1px;overflow: hidden;padding: 0;position: absolute;width: 1px;}#sk-container-id-2 div.sk-estimator {font-family: monospace;background-color: #f0f8ff;border: 1px dotted black;border-radius: 0.25em;box-sizing: border-box;margin-bottom: 0.5em;}#sk-container-id-2 div.sk-estimator:hover {background-color: #d4ebff;}#sk-container-id-2 div.sk-parallel-item::after {content: \"\";width: 100%;border-bottom: 1px solid gray;flex-grow: 1;}#sk-container-id-2 div.sk-label:hover label.sk-toggleable__label {background-color: #d4ebff;}#sk-container-id-2 div.sk-serial::before {content: \"\";position: absolute;border-left: 1px solid gray;box-sizing: border-box;top: 0;bottom: 0;left: 50%;z-index: 0;}#sk-container-id-2 div.sk-serial {display: flex;flex-direction: column;align-items: center;background-color: white;padding-right: 0.2em;padding-left: 0.2em;position: relative;}#sk-container-id-2 div.sk-item {position: relative;z-index: 1;}#sk-container-id-2 div.sk-parallel {display: flex;align-items: stretch;justify-content: center;background-color: white;position: relative;}#sk-container-id-2 div.sk-item::before, #sk-container-id-2 div.sk-parallel-item::before {content: \"\";position: absolute;border-left: 1px solid gray;box-sizing: border-box;top: 0;bottom: 0;left: 50%;z-index: -1;}#sk-container-id-2 div.sk-parallel-item {display: flex;flex-direction: column;z-index: 1;position: relative;background-color: white;}#sk-container-id-2 div.sk-parallel-item:first-child::after {align-self: flex-end;width: 50%;}#sk-container-id-2 div.sk-parallel-item:last-child::after {align-self: flex-start;width: 50%;}#sk-container-id-2 div.sk-parallel-item:only-child::after {width: 0;}#sk-container-id-2 div.sk-dashed-wrapped {border: 1px dashed gray;margin: 0 0.4em 0.5em 0.4em;box-sizing: border-box;padding-bottom: 0.4em;background-color: white;}#sk-container-id-2 div.sk-label label {font-family: monospace;font-weight: bold;display: inline-block;line-height: 1.2em;}#sk-container-id-2 div.sk-label-container {text-align: center;}#sk-container-id-2 div.sk-container {/* jupyter's `normalize.less` sets `[hidden] { display: none; }` but bootstrap.min.css set `[hidden] { display: none !important; }` so we also need the `!important` here to be able to override the default hidden behavior on the sphinx rendered scikit-learn.org. See: https://github.com/scikit-learn/scikit-learn/issues/21755 */display: inline-block !important;position: relative;}#sk-container-id-2 div.sk-text-repr-fallback {display: none;}</style><div id=\"sk-container-id-2\" class=\"sk-top-container\"><div class=\"sk-text-repr-fallback\"><pre>DecisionTreeClassifier()</pre><b>In a Jupyter environment, please rerun this cell to show the HTML representation or trust the notebook. <br />On GitHub, the HTML representation is unable to render, please try loading this page with nbviewer.org.</b></div><div class=\"sk-container\" hidden><div class=\"sk-item\"><div class=\"sk-estimator sk-toggleable\"><input class=\"sk-toggleable__control sk-hidden--visually\" id=\"sk-estimator-id-2\" type=\"checkbox\" checked><label for=\"sk-estimator-id-2\" class=\"sk-toggleable__label sk-toggleable__label-arrow\">DecisionTreeClassifier</label><div class=\"sk-toggleable__content\"><pre>DecisionTreeClassifier()</pre></div></div></div></div></div>"
            ]
          },
          "metadata": {},
          "execution_count": 17
        }
      ]
    },
    {
      "cell_type": "code",
      "source": [
        "#exportação da árvore de decisão para o formato .dot\n",
        "#abrir o arquivo com algum editor de texto\n",
        "#copiar o texto gerado e colar em webgraphviz.com  para visualizar a árvore\n",
        "export_graphviz(arvore, out_file = 'tree.dot')\n"
      ],
      "metadata": {
        "id": "ohJeRpryG47E"
      },
      "execution_count": null,
      "outputs": []
    },
    {
      "cell_type": "markdown",
      "source": [
        "Exemplo:\n",
        "\n",
        "![image.png](data:image/png;base64,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)"
      ],
      "metadata": {
        "id": "DT316Er_JSC0"
      }
    },
    {
      "cell_type": "code",
      "source": [
        "#fazendo a previsao com os dados de teste\n",
        "previsoes = arvore.predict(X_teste)\n",
        "previsoes[0:4]"
      ],
      "metadata": {
        "colab": {
          "base_uri": "https://localhost:8080/"
        },
        "id": "_BGbO5iHKYyq",
        "outputId": "0eac7a44-924f-4d4e-a87b-f908e3a8b00f"
      },
      "execution_count": null,
      "outputs": [
        {
          "output_type": "execute_result",
          "data": {
            "text/plain": [
              "array(['bad', 'good', 'good', 'good'], dtype=object)"
            ]
          },
          "metadata": {},
          "execution_count": 19
        }
      ]
    },
    {
      "cell_type": "code",
      "source": [
        "#matriz de confusão\n",
        "confusao = confusion_matrix(y_teste, previsoes)\n",
        "confusao"
      ],
      "metadata": {
        "colab": {
          "base_uri": "https://localhost:8080/"
        },
        "id": "4oaT2XCrLGa1",
        "outputId": "add7a831-6f4f-433b-98ce-4a412ff6c279"
      },
      "execution_count": null,
      "outputs": [
        {
          "output_type": "execute_result",
          "data": {
            "text/plain": [
              "array([[ 46,  40],\n",
              "       [ 48, 166]])"
            ]
          },
          "metadata": {},
          "execution_count": 20
        }
      ]
    },
    {
      "cell_type": "code",
      "source": [
        "#taxa de acerto e erro\n",
        "taxa_acerto = accuracy_score(y_teste, previsoes)\n",
        "taxa_erro = 1- taxa_acerto\n",
        "print('taxa de acerto: ', taxa_acerto,'\\n','taxa de erro: ',taxa_erro)\n"
      ],
      "metadata": {
        "colab": {
          "base_uri": "https://localhost:8080/"
        },
        "id": "Jb1H2l1SLw6J",
        "outputId": "d93fc611-7094-4fe7-8ef9-e5ff588c3df5"
      },
      "execution_count": null,
      "outputs": [
        {
          "output_type": "stream",
          "name": "stdout",
          "text": [
            "taxa de acerto:  0.7066666666666667 \n",
            " taxa de erro:  0.29333333333333333\n"
          ]
        }
      ]
    },
    {
      "cell_type": "code",
      "source": [
        "#previsao para o novo registro\n",
        "previsoes = arvore.predict(novo_credito)\n",
        "previsoes\n",
        "#confiabilidade de 70%"
      ],
      "metadata": {
        "colab": {
          "base_uri": "https://localhost:8080/"
        },
        "id": "pswuAc3EMbr-",
        "outputId": "6d6f57b0-a997-4851-825e-ea5d9c378eb8"
      },
      "execution_count": null,
      "outputs": [
        {
          "output_type": "execute_result",
          "data": {
            "text/plain": [
              "array(['good'], dtype=object)"
            ]
          },
          "metadata": {},
          "execution_count": 26
        }
      ]
    },
    {
      "cell_type": "markdown",
      "source": [
        "**Seleção de Atributos**"
      ],
      "metadata": {
        "id": "Fl-KmsSxN-lW"
      }
    },
    {
      "cell_type": "code",
      "source": [
        "#reaproveitando o carregamento da base de dados, a conversão dos atributoscategóricos para númericos, separação dos dados em treinamento e teste\n",
        "from sklearn.svm import SVC\n",
        "from sklearn.ensemble import ExtraTreesClassifier"
      ],
      "metadata": {
        "id": "VECRHOM6cgwa"
      },
      "execution_count": null,
      "outputs": []
    },
    {
      "cell_type": "code",
      "source": [
        "#criação do modelo(máquina de vetores de suporte) e treinamento\n",
        "#ele é usado para encontrar uma fronteira de decisão que separa os diferentes tipos de dados em um conjunto de dados. \n",
        "#o SVM é especialmente útil quando os dados são complexos e não-linearmente separáveis. \n",
        "svm = SVC()\n",
        "svm.fit(X_treinamento, y_treinamento)"
      ],
      "metadata": {
        "colab": {
          "base_uri": "https://localhost:8080/",
          "height": 75
        },
        "id": "l0RQwru1c73T",
        "outputId": "908a61bb-14a0-495c-aa31-b49d301b8c3e"
      },
      "execution_count": null,
      "outputs": [
        {
          "output_type": "execute_result",
          "data": {
            "text/plain": [
              "SVC()"
            ],
            "text/html": [
              "<style>#sk-container-id-4 {color: black;background-color: white;}#sk-container-id-4 pre{padding: 0;}#sk-container-id-4 div.sk-toggleable {background-color: white;}#sk-container-id-4 label.sk-toggleable__label {cursor: pointer;display: block;width: 100%;margin-bottom: 0;padding: 0.3em;box-sizing: border-box;text-align: center;}#sk-container-id-4 label.sk-toggleable__label-arrow:before {content: \"▸\";float: left;margin-right: 0.25em;color: #696969;}#sk-container-id-4 label.sk-toggleable__label-arrow:hover:before {color: black;}#sk-container-id-4 div.sk-estimator:hover label.sk-toggleable__label-arrow:before {color: black;}#sk-container-id-4 div.sk-toggleable__content {max-height: 0;max-width: 0;overflow: hidden;text-align: left;background-color: #f0f8ff;}#sk-container-id-4 div.sk-toggleable__content pre {margin: 0.2em;color: black;border-radius: 0.25em;background-color: #f0f8ff;}#sk-container-id-4 input.sk-toggleable__control:checked~div.sk-toggleable__content {max-height: 200px;max-width: 100%;overflow: auto;}#sk-container-id-4 input.sk-toggleable__control:checked~label.sk-toggleable__label-arrow:before {content: \"▾\";}#sk-container-id-4 div.sk-estimator input.sk-toggleable__control:checked~label.sk-toggleable__label {background-color: #d4ebff;}#sk-container-id-4 div.sk-label input.sk-toggleable__control:checked~label.sk-toggleable__label {background-color: #d4ebff;}#sk-container-id-4 input.sk-hidden--visually {border: 0;clip: rect(1px 1px 1px 1px);clip: rect(1px, 1px, 1px, 1px);height: 1px;margin: -1px;overflow: hidden;padding: 0;position: absolute;width: 1px;}#sk-container-id-4 div.sk-estimator {font-family: monospace;background-color: #f0f8ff;border: 1px dotted black;border-radius: 0.25em;box-sizing: border-box;margin-bottom: 0.5em;}#sk-container-id-4 div.sk-estimator:hover {background-color: #d4ebff;}#sk-container-id-4 div.sk-parallel-item::after {content: \"\";width: 100%;border-bottom: 1px solid gray;flex-grow: 1;}#sk-container-id-4 div.sk-label:hover label.sk-toggleable__label {background-color: #d4ebff;}#sk-container-id-4 div.sk-serial::before {content: \"\";position: absolute;border-left: 1px solid gray;box-sizing: border-box;top: 0;bottom: 0;left: 50%;z-index: 0;}#sk-container-id-4 div.sk-serial {display: flex;flex-direction: column;align-items: center;background-color: white;padding-right: 0.2em;padding-left: 0.2em;position: relative;}#sk-container-id-4 div.sk-item {position: relative;z-index: 1;}#sk-container-id-4 div.sk-parallel {display: flex;align-items: stretch;justify-content: center;background-color: white;position: relative;}#sk-container-id-4 div.sk-item::before, #sk-container-id-4 div.sk-parallel-item::before {content: \"\";position: absolute;border-left: 1px solid gray;box-sizing: border-box;top: 0;bottom: 0;left: 50%;z-index: -1;}#sk-container-id-4 div.sk-parallel-item {display: flex;flex-direction: column;z-index: 1;position: relative;background-color: white;}#sk-container-id-4 div.sk-parallel-item:first-child::after {align-self: flex-end;width: 50%;}#sk-container-id-4 div.sk-parallel-item:last-child::after {align-self: flex-start;width: 50%;}#sk-container-id-4 div.sk-parallel-item:only-child::after {width: 0;}#sk-container-id-4 div.sk-dashed-wrapped {border: 1px dashed gray;margin: 0 0.4em 0.5em 0.4em;box-sizing: border-box;padding-bottom: 0.4em;background-color: white;}#sk-container-id-4 div.sk-label label {font-family: monospace;font-weight: bold;display: inline-block;line-height: 1.2em;}#sk-container-id-4 div.sk-label-container {text-align: center;}#sk-container-id-4 div.sk-container {/* jupyter's `normalize.less` sets `[hidden] { display: none; }` but bootstrap.min.css set `[hidden] { display: none !important; }` so we also need the `!important` here to be able to override the default hidden behavior on the sphinx rendered scikit-learn.org. See: https://github.com/scikit-learn/scikit-learn/issues/21755 */display: inline-block !important;position: relative;}#sk-container-id-4 div.sk-text-repr-fallback {display: none;}</style><div id=\"sk-container-id-4\" class=\"sk-top-container\"><div class=\"sk-text-repr-fallback\"><pre>SVC()</pre><b>In a Jupyter environment, please rerun this cell to show the HTML representation or trust the notebook. <br />On GitHub, the HTML representation is unable to render, please try loading this page with nbviewer.org.</b></div><div class=\"sk-container\" hidden><div class=\"sk-item\"><div class=\"sk-estimator sk-toggleable\"><input class=\"sk-toggleable__control sk-hidden--visually\" id=\"sk-estimator-id-4\" type=\"checkbox\" checked><label for=\"sk-estimator-id-4\" class=\"sk-toggleable__label sk-toggleable__label-arrow\">SVC</label><div class=\"sk-toggleable__content\"><pre>SVC()</pre></div></div></div></div></div>"
            ]
          },
          "metadata": {},
          "execution_count": 28
        }
      ]
    },
    {
      "cell_type": "code",
      "source": [
        "#fazendo a previsao dos dados de teste\n",
        "previsoes = svm.predict(X_teste)\n",
        "previsoes[0:3]"
      ],
      "metadata": {
        "colab": {
          "base_uri": "https://localhost:8080/"
        },
        "id": "Qm6XzOrZeihu",
        "outputId": "5dd48914-65bc-40af-f7d5-52997648b31f"
      },
      "execution_count": null,
      "outputs": [
        {
          "output_type": "execute_result",
          "data": {
            "text/plain": [
              "array(['good', 'good', 'good'], dtype=object)"
            ]
          },
          "metadata": {},
          "execution_count": 29
        }
      ]
    },
    {
      "cell_type": "code",
      "source": [
        "#acurácia do modelo\n",
        "taxa_acerto = accuracy_score(y_teste,previsoes)\n",
        "taxa_acerto"
      ],
      "metadata": {
        "colab": {
          "base_uri": "https://localhost:8080/"
        },
        "id": "RPzc6feoe0Dl",
        "outputId": "f128877e-01c6-4eb7-848b-f0512ac63124"
      },
      "execution_count": null,
      "outputs": [
        {
          "output_type": "execute_result",
          "data": {
            "text/plain": [
              "0.7166666666666667"
            ]
          },
          "metadata": {},
          "execution_count": 30
        }
      ]
    },
    {
      "cell_type": "code",
      "source": [
        "#ExtraTreesClassifier - extrai os atributos mais importantes\n",
        "forest = ExtraTreesClassifier()\n",
        "forest.fit(X_treinamento, y_treinamento)\n",
        "importancias = forest.feature_importances_ # calcular a importância de cada variável\n",
        "importancias"
      ],
      "metadata": {
        "colab": {
          "base_uri": "https://localhost:8080/"
        },
        "id": "DPnNpVh1fNvF",
        "outputId": "61ffdb7b-8314-4656-a04f-762104efa73c"
      },
      "execution_count": null,
      "outputs": [
        {
          "output_type": "execute_result",
          "data": {
            "text/plain": [
              "array([0.10930017, 0.08107085, 0.06247192, 0.06118267, 0.08189972,\n",
              "       0.04357154, 0.05545909, 0.05079631, 0.04532127, 0.02555215,\n",
              "       0.05016405, 0.04794539, 0.06624441, 0.03556792, 0.03908025,\n",
              "       0.03526668, 0.04513344, 0.02334185, 0.03297545, 0.00765487])"
            ]
          },
          "metadata": {},
          "execution_count": 31
        }
      ]
    },
    {
      "cell_type": "code",
      "source": [
        "#nova base de dados com seleção dos atributos mais relevantes\n",
        "X_treinamento2 = X_treinamento[:,[0,1,2,12,4,3]]\n",
        "X_teste2= X_teste[:,[0,1,2,12,4,3]]"
      ],
      "metadata": {
        "id": "5sw3CpQAgNCK"
      },
      "execution_count": null,
      "outputs": []
    },
    {
      "cell_type": "code",
      "source": [
        "#novo modelo com a base de dados reduzida, treinamento, obtenção das previsões e taxa de acerto\n",
        "svm2 = SVC()\n",
        "svm2.fit(X_treinamento2, y_treinamento)\n",
        "previsoes2 = svm2.predict(X_teste2)\n",
        "taxa_acerto = accuracy_score(y_teste, previsoes2)\n",
        "taxa_acerto"
      ],
      "metadata": {
        "colab": {
          "base_uri": "https://localhost:8080/"
        },
        "id": "mxIpo33ngxTt",
        "outputId": "7b07ee35-7966-44fc-a686-c4fcb1d5063d"
      },
      "execution_count": null,
      "outputs": [
        {
          "output_type": "execute_result",
          "data": {
            "text/plain": [
              "0.7166666666666667"
            ]
          },
          "metadata": {},
          "execution_count": 33
        }
      ]
    },
    {
      "cell_type": "markdown",
      "source": [
        "**Ensamble Learning com Random Forest**\n",
        "\n",
        "Ensemble Learning é uma técnica de aprendizado de máquina que combina **vários modelos** de aprendizado de máquina para melhorar o desempenho preditivo geral. O Random Forest é um algoritmo de aprendizado de máquina que usa ensemble learning para **construir um conjunto de árvores de decisão**."
      ],
      "metadata": {
        "id": "0esTc3lYOI0b"
      }
    },
    {
      "cell_type": "code",
      "source": [
        "from sklearn.ensemble import RandomForestClassifier"
      ],
      "metadata": {
        "id": "ZH0l5gaX7Eyx"
      },
      "execution_count": null,
      "outputs": []
    },
    {
      "cell_type": "code",
      "source": [
        "credito = pd.read_csv('Credit.csv')\n",
        "credito.head()"
      ],
      "metadata": {
        "colab": {
          "base_uri": "https://localhost:8080/",
          "height": 369
        },
        "id": "nF97wwg171TT",
        "outputId": "a204a526-170d-4998-d431-3885e411c76a"
      },
      "execution_count": null,
      "outputs": [
        {
          "output_type": "execute_result",
          "data": {
            "text/plain": [
              "  checking_status  duration                    credit_history  \\\n",
              "0              <0         6  'critical/other existing credit'   \n",
              "1        0<=X<200        48                   'existing paid'   \n",
              "2   'no checking'        12  'critical/other existing credit'   \n",
              "3              <0        42                   'existing paid'   \n",
              "4              <0        24              'delayed previously'   \n",
              "\n",
              "               purpose  credit_amount      savings_status employment  \\\n",
              "0             radio/tv           1169  'no known savings'        >=7   \n",
              "1             radio/tv           5951                <100     1<=X<4   \n",
              "2            education           2096                <100     4<=X<7   \n",
              "3  furniture/equipment           7882                <100     4<=X<7   \n",
              "4            'new car'           4870                <100     1<=X<4   \n",
              "\n",
              "   installment_commitment       personal_status other_parties  ...  \\\n",
              "0                       4         'male single'          none  ...   \n",
              "1                       2  'female div/dep/mar'          none  ...   \n",
              "2                       2         'male single'          none  ...   \n",
              "3                       2         'male single'     guarantor  ...   \n",
              "4                       3         'male single'          none  ...   \n",
              "\n",
              "    property_magnitude age  other_payment_plans     housing existing_credits  \\\n",
              "0        'real estate'  67                 none         own                2   \n",
              "1        'real estate'  22                 none         own                1   \n",
              "2        'real estate'  49                 none         own                1   \n",
              "3     'life insurance'  45                 none  'for free'                1   \n",
              "4  'no known property'  53                 none  'for free'                2   \n",
              "\n",
              "                    job num_dependents  own_telephone foreign_worker class  \n",
              "0               skilled              1            yes            yes  good  \n",
              "1               skilled              1           none            yes   bad  \n",
              "2  'unskilled resident'              2           none            yes  good  \n",
              "3               skilled              2           none            yes  good  \n",
              "4               skilled              2           none            yes   bad  \n",
              "\n",
              "[5 rows x 21 columns]"
            ],
            "text/html": [
              "\n",
              "  <div id=\"df-c53b8647-2b82-4df9-8559-893b2acd1c2f\">\n",
              "    <div class=\"colab-df-container\">\n",
              "      <div>\n",
              "<style scoped>\n",
              "    .dataframe tbody tr th:only-of-type {\n",
              "        vertical-align: middle;\n",
              "    }\n",
              "\n",
              "    .dataframe tbody tr th {\n",
              "        vertical-align: top;\n",
              "    }\n",
              "\n",
              "    .dataframe thead th {\n",
              "        text-align: right;\n",
              "    }\n",
              "</style>\n",
              "<table border=\"1\" class=\"dataframe\">\n",
              "  <thead>\n",
              "    <tr style=\"text-align: right;\">\n",
              "      <th></th>\n",
              "      <th>checking_status</th>\n",
              "      <th>duration</th>\n",
              "      <th>credit_history</th>\n",
              "      <th>purpose</th>\n",
              "      <th>credit_amount</th>\n",
              "      <th>savings_status</th>\n",
              "      <th>employment</th>\n",
              "      <th>installment_commitment</th>\n",
              "      <th>personal_status</th>\n",
              "      <th>other_parties</th>\n",
              "      <th>...</th>\n",
              "      <th>property_magnitude</th>\n",
              "      <th>age</th>\n",
              "      <th>other_payment_plans</th>\n",
              "      <th>housing</th>\n",
              "      <th>existing_credits</th>\n",
              "      <th>job</th>\n",
              "      <th>num_dependents</th>\n",
              "      <th>own_telephone</th>\n",
              "      <th>foreign_worker</th>\n",
              "      <th>class</th>\n",
              "    </tr>\n",
              "  </thead>\n",
              "  <tbody>\n",
              "    <tr>\n",
              "      <th>0</th>\n",
              "      <td>&lt;0</td>\n",
              "      <td>6</td>\n",
              "      <td>'critical/other existing credit'</td>\n",
              "      <td>radio/tv</td>\n",
              "      <td>1169</td>\n",
              "      <td>'no known savings'</td>\n",
              "      <td>&gt;=7</td>\n",
              "      <td>4</td>\n",
              "      <td>'male single'</td>\n",
              "      <td>none</td>\n",
              "      <td>...</td>\n",
              "      <td>'real estate'</td>\n",
              "      <td>67</td>\n",
              "      <td>none</td>\n",
              "      <td>own</td>\n",
              "      <td>2</td>\n",
              "      <td>skilled</td>\n",
              "      <td>1</td>\n",
              "      <td>yes</td>\n",
              "      <td>yes</td>\n",
              "      <td>good</td>\n",
              "    </tr>\n",
              "    <tr>\n",
              "      <th>1</th>\n",
              "      <td>0&lt;=X&lt;200</td>\n",
              "      <td>48</td>\n",
              "      <td>'existing paid'</td>\n",
              "      <td>radio/tv</td>\n",
              "      <td>5951</td>\n",
              "      <td>&lt;100</td>\n",
              "      <td>1&lt;=X&lt;4</td>\n",
              "      <td>2</td>\n",
              "      <td>'female div/dep/mar'</td>\n",
              "      <td>none</td>\n",
              "      <td>...</td>\n",
              "      <td>'real estate'</td>\n",
              "      <td>22</td>\n",
              "      <td>none</td>\n",
              "      <td>own</td>\n",
              "      <td>1</td>\n",
              "      <td>skilled</td>\n",
              "      <td>1</td>\n",
              "      <td>none</td>\n",
              "      <td>yes</td>\n",
              "      <td>bad</td>\n",
              "    </tr>\n",
              "    <tr>\n",
              "      <th>2</th>\n",
              "      <td>'no checking'</td>\n",
              "      <td>12</td>\n",
              "      <td>'critical/other existing credit'</td>\n",
              "      <td>education</td>\n",
              "      <td>2096</td>\n",
              "      <td>&lt;100</td>\n",
              "      <td>4&lt;=X&lt;7</td>\n",
              "      <td>2</td>\n",
              "      <td>'male single'</td>\n",
              "      <td>none</td>\n",
              "      <td>...</td>\n",
              "      <td>'real estate'</td>\n",
              "      <td>49</td>\n",
              "      <td>none</td>\n",
              "      <td>own</td>\n",
              "      <td>1</td>\n",
              "      <td>'unskilled resident'</td>\n",
              "      <td>2</td>\n",
              "      <td>none</td>\n",
              "      <td>yes</td>\n",
              "      <td>good</td>\n",
              "    </tr>\n",
              "    <tr>\n",
              "      <th>3</th>\n",
              "      <td>&lt;0</td>\n",
              "      <td>42</td>\n",
              "      <td>'existing paid'</td>\n",
              "      <td>furniture/equipment</td>\n",
              "      <td>7882</td>\n",
              "      <td>&lt;100</td>\n",
              "      <td>4&lt;=X&lt;7</td>\n",
              "      <td>2</td>\n",
              "      <td>'male single'</td>\n",
              "      <td>guarantor</td>\n",
              "      <td>...</td>\n",
              "      <td>'life insurance'</td>\n",
              "      <td>45</td>\n",
              "      <td>none</td>\n",
              "      <td>'for free'</td>\n",
              "      <td>1</td>\n",
              "      <td>skilled</td>\n",
              "      <td>2</td>\n",
              "      <td>none</td>\n",
              "      <td>yes</td>\n",
              "      <td>good</td>\n",
              "    </tr>\n",
              "    <tr>\n",
              "      <th>4</th>\n",
              "      <td>&lt;0</td>\n",
              "      <td>24</td>\n",
              "      <td>'delayed previously'</td>\n",
              "      <td>'new car'</td>\n",
              "      <td>4870</td>\n",
              "      <td>&lt;100</td>\n",
              "      <td>1&lt;=X&lt;4</td>\n",
              "      <td>3</td>\n",
              "      <td>'male single'</td>\n",
              "      <td>none</td>\n",
              "      <td>...</td>\n",
              "      <td>'no known property'</td>\n",
              "      <td>53</td>\n",
              "      <td>none</td>\n",
              "      <td>'for free'</td>\n",
              "      <td>2</td>\n",
              "      <td>skilled</td>\n",
              "      <td>2</td>\n",
              "      <td>none</td>\n",
              "      <td>yes</td>\n",
              "      <td>bad</td>\n",
              "    </tr>\n",
              "  </tbody>\n",
              "</table>\n",
              "<p>5 rows × 21 columns</p>\n",
              "</div>\n",
              "      <button class=\"colab-df-convert\" onclick=\"convertToInteractive('df-c53b8647-2b82-4df9-8559-893b2acd1c2f')\"\n",
              "              title=\"Convert this dataframe to an interactive table.\"\n",
              "              style=\"display:none;\">\n",
              "        \n",
              "  <svg xmlns=\"http://www.w3.org/2000/svg\" height=\"24px\"viewBox=\"0 0 24 24\"\n",
              "       width=\"24px\">\n",
              "    <path d=\"M0 0h24v24H0V0z\" fill=\"none\"/>\n",
              "    <path d=\"M18.56 5.44l.94 2.06.94-2.06 2.06-.94-2.06-.94-.94-2.06-.94 2.06-2.06.94zm-11 1L8.5 8.5l.94-2.06 2.06-.94-2.06-.94L8.5 2.5l-.94 2.06-2.06.94zm10 10l.94 2.06.94-2.06 2.06-.94-2.06-.94-.94-2.06-.94 2.06-2.06.94z\"/><path d=\"M17.41 7.96l-1.37-1.37c-.4-.4-.92-.59-1.43-.59-.52 0-1.04.2-1.43.59L10.3 9.45l-7.72 7.72c-.78.78-.78 2.05 0 2.83L4 21.41c.39.39.9.59 1.41.59.51 0 1.02-.2 1.41-.59l7.78-7.78 2.81-2.81c.8-.78.8-2.07 0-2.86zM5.41 20L4 18.59l7.72-7.72 1.47 1.35L5.41 20z\"/>\n",
              "  </svg>\n",
              "      </button>\n",
              "      \n",
              "  <style>\n",
              "    .colab-df-container {\n",
              "      display:flex;\n",
              "      flex-wrap:wrap;\n",
              "      gap: 12px;\n",
              "    }\n",
              "\n",
              "    .colab-df-convert {\n",
              "      background-color: #E8F0FE;\n",
              "      border: none;\n",
              "      border-radius: 50%;\n",
              "      cursor: pointer;\n",
              "      display: none;\n",
              "      fill: #1967D2;\n",
              "      height: 32px;\n",
              "      padding: 0 0 0 0;\n",
              "      width: 32px;\n",
              "    }\n",
              "\n",
              "    .colab-df-convert:hover {\n",
              "      background-color: #E2EBFA;\n",
              "      box-shadow: 0px 1px 2px rgba(60, 64, 67, 0.3), 0px 1px 3px 1px rgba(60, 64, 67, 0.15);\n",
              "      fill: #174EA6;\n",
              "    }\n",
              "\n",
              "    [theme=dark] .colab-df-convert {\n",
              "      background-color: #3B4455;\n",
              "      fill: #D2E3FC;\n",
              "    }\n",
              "\n",
              "    [theme=dark] .colab-df-convert:hover {\n",
              "      background-color: #434B5C;\n",
              "      box-shadow: 0px 1px 3px 1px rgba(0, 0, 0, 0.15);\n",
              "      filter: drop-shadow(0px 1px 2px rgba(0, 0, 0, 0.3));\n",
              "      fill: #FFFFFF;\n",
              "    }\n",
              "  </style>\n",
              "\n",
              "      <script>\n",
              "        const buttonEl =\n",
              "          document.querySelector('#df-c53b8647-2b82-4df9-8559-893b2acd1c2f button.colab-df-convert');\n",
              "        buttonEl.style.display =\n",
              "          google.colab.kernel.accessAllowed ? 'block' : 'none';\n",
              "\n",
              "        async function convertToInteractive(key) {\n",
              "          const element = document.querySelector('#df-c53b8647-2b82-4df9-8559-893b2acd1c2f');\n",
              "          const dataTable =\n",
              "            await google.colab.kernel.invokeFunction('convertToInteractive',\n",
              "                                                     [key], {});\n",
              "          if (!dataTable) return;\n",
              "\n",
              "          const docLinkHtml = 'Like what you see? Visit the ' +\n",
              "            '<a target=\"_blank\" href=https://colab.research.google.com/notebooks/data_table.ipynb>data table notebook</a>'\n",
              "            + ' to learn more about interactive tables.';\n",
              "          element.innerHTML = '';\n",
              "          dataTable['output_type'] = 'display_data';\n",
              "          await google.colab.output.renderOutput(dataTable, element);\n",
              "          const docLink = document.createElement('div');\n",
              "          docLink.innerHTML = docLinkHtml;\n",
              "          element.appendChild(docLink);\n",
              "        }\n",
              "      </script>\n",
              "    </div>\n",
              "  </div>\n",
              "  "
            ]
          },
          "metadata": {},
          "execution_count": 66
        }
      ]
    },
    {
      "cell_type": "code",
      "source": [
        "previsores = credito.iloc[:,0:20].values\n",
        "classe = credito.iloc[:,20].values"
      ],
      "metadata": {
        "id": "mvCwCbZ08Aqr"
      },
      "execution_count": null,
      "outputs": []
    },
    {
      "cell_type": "code",
      "source": [
        "#transformação dos atributos numéricos, passando o índice de cada atributo categórico\n",
        "labelencoder = LabelEncoder()\n",
        "previsores[:,0] = labelencoder.fit_transform(previsores[:,0])\n",
        "previsores[:,2] = labelencoder.fit_transform(previsores[:,2])\n",
        "previsores[:,3] = labelencoder.fit_transform(previsores[:,3])\n",
        "previsores[:,5] = labelencoder.fit_transform(previsores[:,5])\n",
        "previsores[:,6] = labelencoder.fit_transform(previsores[:,6])\n",
        "previsores[:,8] = labelencoder.fit_transform(previsores[:,8])\n",
        "previsores[:,9] = labelencoder.fit_transform(previsores[:,9])\n",
        "previsores[:,11] = labelencoder.fit_transform(previsores[:,11])\n",
        "previsores[:,13] = labelencoder.fit_transform(previsores[:,13])\n",
        "previsores[:,14] = labelencoder.fit_transform(previsores[:,14])\n",
        "previsores[:,16] = labelencoder.fit_transform(previsores[:,16])\n",
        "previsores[:,18] = labelencoder.fit_transform(previsores[:,18])\n",
        "previsores[:,19] = labelencoder.fit_transform(previsores[:,19])"
      ],
      "metadata": {
        "id": "lXITg1GR8O9s"
      },
      "execution_count": null,
      "outputs": []
    },
    {
      "cell_type": "code",
      "source": [
        "#separação dos dados para treinamento e teste\n",
        "X_treinamento, X_teste, y_treinamento, y_teste = train_test_split(previsores,\n",
        "                                                                  classe,\n",
        "                                                                  test_size = 0.3,\n",
        "                                                                  random_state = 0)"
      ],
      "metadata": {
        "id": "E7K63ICO89AG"
      },
      "execution_count": null,
      "outputs": []
    },
    {
      "cell_type": "code",
      "source": [
        "#criação do modelo, treinamento\n",
        "floresta = RandomForestClassifier(n_estimators = 100) #n modelos\n",
        "floresta.fit(X_treinamento, y_treinamento)"
      ],
      "metadata": {
        "colab": {
          "base_uri": "https://localhost:8080/",
          "height": 75
        },
        "id": "EZvPl7WU9k4H",
        "outputId": "f6351c43-ac09-47ca-ee53-6a9d6a57b729"
      },
      "execution_count": null,
      "outputs": [
        {
          "output_type": "execute_result",
          "data": {
            "text/plain": [
              "RandomForestClassifier()"
            ],
            "text/html": [
              "<style>#sk-container-id-6 {color: black;background-color: white;}#sk-container-id-6 pre{padding: 0;}#sk-container-id-6 div.sk-toggleable {background-color: white;}#sk-container-id-6 label.sk-toggleable__label {cursor: pointer;display: block;width: 100%;margin-bottom: 0;padding: 0.3em;box-sizing: border-box;text-align: center;}#sk-container-id-6 label.sk-toggleable__label-arrow:before {content: \"▸\";float: left;margin-right: 0.25em;color: #696969;}#sk-container-id-6 label.sk-toggleable__label-arrow:hover:before {color: black;}#sk-container-id-6 div.sk-estimator:hover label.sk-toggleable__label-arrow:before {color: black;}#sk-container-id-6 div.sk-toggleable__content {max-height: 0;max-width: 0;overflow: hidden;text-align: left;background-color: #f0f8ff;}#sk-container-id-6 div.sk-toggleable__content pre {margin: 0.2em;color: black;border-radius: 0.25em;background-color: #f0f8ff;}#sk-container-id-6 input.sk-toggleable__control:checked~div.sk-toggleable__content {max-height: 200px;max-width: 100%;overflow: auto;}#sk-container-id-6 input.sk-toggleable__control:checked~label.sk-toggleable__label-arrow:before {content: \"▾\";}#sk-container-id-6 div.sk-estimator input.sk-toggleable__control:checked~label.sk-toggleable__label {background-color: #d4ebff;}#sk-container-id-6 div.sk-label input.sk-toggleable__control:checked~label.sk-toggleable__label {background-color: #d4ebff;}#sk-container-id-6 input.sk-hidden--visually {border: 0;clip: rect(1px 1px 1px 1px);clip: rect(1px, 1px, 1px, 1px);height: 1px;margin: -1px;overflow: hidden;padding: 0;position: absolute;width: 1px;}#sk-container-id-6 div.sk-estimator {font-family: monospace;background-color: #f0f8ff;border: 1px dotted black;border-radius: 0.25em;box-sizing: border-box;margin-bottom: 0.5em;}#sk-container-id-6 div.sk-estimator:hover {background-color: #d4ebff;}#sk-container-id-6 div.sk-parallel-item::after {content: \"\";width: 100%;border-bottom: 1px solid gray;flex-grow: 1;}#sk-container-id-6 div.sk-label:hover label.sk-toggleable__label {background-color: #d4ebff;}#sk-container-id-6 div.sk-serial::before {content: \"\";position: absolute;border-left: 1px solid gray;box-sizing: border-box;top: 0;bottom: 0;left: 50%;z-index: 0;}#sk-container-id-6 div.sk-serial {display: flex;flex-direction: column;align-items: center;background-color: white;padding-right: 0.2em;padding-left: 0.2em;position: relative;}#sk-container-id-6 div.sk-item {position: relative;z-index: 1;}#sk-container-id-6 div.sk-parallel {display: flex;align-items: stretch;justify-content: center;background-color: white;position: relative;}#sk-container-id-6 div.sk-item::before, #sk-container-id-6 div.sk-parallel-item::before {content: \"\";position: absolute;border-left: 1px solid gray;box-sizing: border-box;top: 0;bottom: 0;left: 50%;z-index: -1;}#sk-container-id-6 div.sk-parallel-item {display: flex;flex-direction: column;z-index: 1;position: relative;background-color: white;}#sk-container-id-6 div.sk-parallel-item:first-child::after {align-self: flex-end;width: 50%;}#sk-container-id-6 div.sk-parallel-item:last-child::after {align-self: flex-start;width: 50%;}#sk-container-id-6 div.sk-parallel-item:only-child::after {width: 0;}#sk-container-id-6 div.sk-dashed-wrapped {border: 1px dashed gray;margin: 0 0.4em 0.5em 0.4em;box-sizing: border-box;padding-bottom: 0.4em;background-color: white;}#sk-container-id-6 div.sk-label label {font-family: monospace;font-weight: bold;display: inline-block;line-height: 1.2em;}#sk-container-id-6 div.sk-label-container {text-align: center;}#sk-container-id-6 div.sk-container {/* jupyter's `normalize.less` sets `[hidden] { display: none; }` but bootstrap.min.css set `[hidden] { display: none !important; }` so we also need the `!important` here to be able to override the default hidden behavior on the sphinx rendered scikit-learn.org. See: https://github.com/scikit-learn/scikit-learn/issues/21755 */display: inline-block !important;position: relative;}#sk-container-id-6 div.sk-text-repr-fallback {display: none;}</style><div id=\"sk-container-id-6\" class=\"sk-top-container\"><div class=\"sk-text-repr-fallback\"><pre>RandomForestClassifier()</pre><b>In a Jupyter environment, please rerun this cell to show the HTML representation or trust the notebook. <br />On GitHub, the HTML representation is unable to render, please try loading this page with nbviewer.org.</b></div><div class=\"sk-container\" hidden><div class=\"sk-item\"><div class=\"sk-estimator sk-toggleable\"><input class=\"sk-toggleable__control sk-hidden--visually\" id=\"sk-estimator-id-6\" type=\"checkbox\" checked><label for=\"sk-estimator-id-6\" class=\"sk-toggleable__label sk-toggleable__label-arrow\">RandomForestClassifier</label><div class=\"sk-toggleable__content\"><pre>RandomForestClassifier()</pre></div></div></div></div></div>"
            ]
          },
          "metadata": {},
          "execution_count": 71
        }
      ]
    },
    {
      "cell_type": "code",
      "source": [
        "#visualização dos atributos principais\n",
        "#floresta.estimators_\n",
        "floresta.estimators_[1]"
      ],
      "metadata": {
        "colab": {
          "base_uri": "https://localhost:8080/",
          "height": 75
        },
        "id": "qqgafDcT97zW",
        "outputId": "3a44c3ea-21e7-4949-f751-32543a1ee800"
      },
      "execution_count": null,
      "outputs": [
        {
          "output_type": "execute_result",
          "data": {
            "text/plain": [
              "DecisionTreeClassifier(max_features='sqrt', random_state=523497891)"
            ],
            "text/html": [
              "<style>#sk-container-id-7 {color: black;background-color: white;}#sk-container-id-7 pre{padding: 0;}#sk-container-id-7 div.sk-toggleable {background-color: white;}#sk-container-id-7 label.sk-toggleable__label {cursor: pointer;display: block;width: 100%;margin-bottom: 0;padding: 0.3em;box-sizing: border-box;text-align: center;}#sk-container-id-7 label.sk-toggleable__label-arrow:before {content: \"▸\";float: left;margin-right: 0.25em;color: #696969;}#sk-container-id-7 label.sk-toggleable__label-arrow:hover:before {color: black;}#sk-container-id-7 div.sk-estimator:hover label.sk-toggleable__label-arrow:before {color: black;}#sk-container-id-7 div.sk-toggleable__content {max-height: 0;max-width: 0;overflow: hidden;text-align: left;background-color: #f0f8ff;}#sk-container-id-7 div.sk-toggleable__content pre {margin: 0.2em;color: black;border-radius: 0.25em;background-color: #f0f8ff;}#sk-container-id-7 input.sk-toggleable__control:checked~div.sk-toggleable__content {max-height: 200px;max-width: 100%;overflow: auto;}#sk-container-id-7 input.sk-toggleable__control:checked~label.sk-toggleable__label-arrow:before {content: \"▾\";}#sk-container-id-7 div.sk-estimator input.sk-toggleable__control:checked~label.sk-toggleable__label {background-color: #d4ebff;}#sk-container-id-7 div.sk-label input.sk-toggleable__control:checked~label.sk-toggleable__label {background-color: #d4ebff;}#sk-container-id-7 input.sk-hidden--visually {border: 0;clip: rect(1px 1px 1px 1px);clip: rect(1px, 1px, 1px, 1px);height: 1px;margin: -1px;overflow: hidden;padding: 0;position: absolute;width: 1px;}#sk-container-id-7 div.sk-estimator {font-family: monospace;background-color: #f0f8ff;border: 1px dotted black;border-radius: 0.25em;box-sizing: border-box;margin-bottom: 0.5em;}#sk-container-id-7 div.sk-estimator:hover {background-color: #d4ebff;}#sk-container-id-7 div.sk-parallel-item::after {content: \"\";width: 100%;border-bottom: 1px solid gray;flex-grow: 1;}#sk-container-id-7 div.sk-label:hover label.sk-toggleable__label {background-color: #d4ebff;}#sk-container-id-7 div.sk-serial::before {content: \"\";position: absolute;border-left: 1px solid gray;box-sizing: border-box;top: 0;bottom: 0;left: 50%;z-index: 0;}#sk-container-id-7 div.sk-serial {display: flex;flex-direction: column;align-items: center;background-color: white;padding-right: 0.2em;padding-left: 0.2em;position: relative;}#sk-container-id-7 div.sk-item {position: relative;z-index: 1;}#sk-container-id-7 div.sk-parallel {display: flex;align-items: stretch;justify-content: center;background-color: white;position: relative;}#sk-container-id-7 div.sk-item::before, #sk-container-id-7 div.sk-parallel-item::before {content: \"\";position: absolute;border-left: 1px solid gray;box-sizing: border-box;top: 0;bottom: 0;left: 50%;z-index: -1;}#sk-container-id-7 div.sk-parallel-item {display: flex;flex-direction: column;z-index: 1;position: relative;background-color: white;}#sk-container-id-7 div.sk-parallel-item:first-child::after {align-self: flex-end;width: 50%;}#sk-container-id-7 div.sk-parallel-item:last-child::after {align-self: flex-start;width: 50%;}#sk-container-id-7 div.sk-parallel-item:only-child::after {width: 0;}#sk-container-id-7 div.sk-dashed-wrapped {border: 1px dashed gray;margin: 0 0.4em 0.5em 0.4em;box-sizing: border-box;padding-bottom: 0.4em;background-color: white;}#sk-container-id-7 div.sk-label label {font-family: monospace;font-weight: bold;display: inline-block;line-height: 1.2em;}#sk-container-id-7 div.sk-label-container {text-align: center;}#sk-container-id-7 div.sk-container {/* jupyter's `normalize.less` sets `[hidden] { display: none; }` but bootstrap.min.css set `[hidden] { display: none !important; }` so we also need the `!important` here to be able to override the default hidden behavior on the sphinx rendered scikit-learn.org. See: https://github.com/scikit-learn/scikit-learn/issues/21755 */display: inline-block !important;position: relative;}#sk-container-id-7 div.sk-text-repr-fallback {display: none;}</style><div id=\"sk-container-id-7\" class=\"sk-top-container\"><div class=\"sk-text-repr-fallback\"><pre>DecisionTreeClassifier(max_features=&#x27;sqrt&#x27;, random_state=523497891)</pre><b>In a Jupyter environment, please rerun this cell to show the HTML representation or trust the notebook. <br />On GitHub, the HTML representation is unable to render, please try loading this page with nbviewer.org.</b></div><div class=\"sk-container\" hidden><div class=\"sk-item\"><div class=\"sk-estimator sk-toggleable\"><input class=\"sk-toggleable__control sk-hidden--visually\" id=\"sk-estimator-id-7\" type=\"checkbox\" checked><label for=\"sk-estimator-id-7\" class=\"sk-toggleable__label sk-toggleable__label-arrow\">DecisionTreeClassifier</label><div class=\"sk-toggleable__content\"><pre>DecisionTreeClassifier(max_features=&#x27;sqrt&#x27;, random_state=523497891)</pre></div></div></div></div></div>"
            ]
          },
          "metadata": {},
          "execution_count": 72
        }
      ]
    },
    {
      "cell_type": "code",
      "source": [
        "#previsões e matrix de confusão\n",
        "previsoes = floresta.predict(X_teste)\n",
        "confusao = confusion_matrix(y_teste, previsoes)\n",
        "confusao"
      ],
      "metadata": {
        "colab": {
          "base_uri": "https://localhost:8080/"
        },
        "id": "plcOogSA-Of3",
        "outputId": "381f849b-e4fe-4654-bbd5-f088cfef9a29"
      },
      "execution_count": null,
      "outputs": [
        {
          "output_type": "execute_result",
          "data": {
            "text/plain": [
              "array([[ 38,  48],\n",
              "       [ 13, 201]])"
            ]
          },
          "metadata": {},
          "execution_count": 75
        }
      ]
    },
    {
      "cell_type": "code",
      "source": [
        "#taxa de acerto\n",
        "taxa_acerto = accuracy_score(y_teste, previsoes)\n",
        "taxa_acerto"
      ],
      "metadata": {
        "colab": {
          "base_uri": "https://localhost:8080/"
        },
        "id": "ZvX5Boz5-pvv",
        "outputId": "99936c48-afce-49b2-c6d6-33587894b01b"
      },
      "execution_count": null,
      "outputs": [
        {
          "output_type": "execute_result",
          "data": {
            "text/plain": [
              "0.7966666666666666"
            ]
          },
          "metadata": {},
          "execution_count": 77
        }
      ]
    },
    {
      "cell_type": "markdown",
      "source": [
        "**Aprendizado Baseado em Instância**\n",
        "\n",
        "Algoritmo baseado em instâncias, classifica novos pontos de dados com base na distância deles para os pontos de dados de treinamento mais próximos."
      ],
      "metadata": {
        "id": "yQ-ra-iqODyr"
      }
    },
    {
      "cell_type": "code",
      "source": [
        "from sklearn.neighbors import KNeighborsClassifier\n",
        "from sklearn import datasets\n",
        "from scipy import stats"
      ],
      "metadata": {
        "id": "kzNeAFL3wLD7"
      },
      "execution_count": null,
      "outputs": []
    },
    {
      "cell_type": "code",
      "source": [
        "iris = pd.read_csv('iris.csv')\n",
        "iris.shape"
      ],
      "metadata": {
        "colab": {
          "base_uri": "https://localhost:8080/"
        },
        "id": "6mhRZ7g61KHH",
        "outputId": "5f20666a-db82-4640-b8e7-70e091ca7956"
      },
      "execution_count": null,
      "outputs": [
        {
          "output_type": "execute_result",
          "data": {
            "text/plain": [
              "(150, 5)"
            ]
          },
          "metadata": {},
          "execution_count": 52
        }
      ]
    },
    {
      "cell_type": "code",
      "source": [
        "#dados extraidos do sklearn-datasets\n",
        "iris= datasets.load_iris() #os dados da classe já estão em dados númericos\n",
        "stats.describe(iris.data) #estatistica das variáveis independentes"
      ],
      "metadata": {
        "colab": {
          "base_uri": "https://localhost:8080/"
        },
        "id": "x6MV7h9fwuFH",
        "outputId": "3e2dd869-7df4-46e6-b1f4-cf4dd2fd6d28"
      },
      "execution_count": null,
      "outputs": [
        {
          "output_type": "execute_result",
          "data": {
            "text/plain": [
              "DescribeResult(nobs=150, minmax=(array([4.3, 2. , 1. , 0.1]), array([7.9, 4.4, 6.9, 2.5])), mean=array([5.84333333, 3.05733333, 3.758     , 1.19933333]), variance=array([0.68569351, 0.18997942, 3.11627785, 0.58100626]), skewness=array([ 0.31175306,  0.31576711, -0.27212767, -0.10193421]), kurtosis=array([-0.57356795,  0.18097632, -1.39553589, -1.33606741]))"
            ]
          },
          "metadata": {},
          "execution_count": 53
        }
      ]
    },
    {
      "cell_type": "code",
      "source": [
        "#separando os dados previsores(variável independente - X)  e class(variável dependente - y)\n",
        "previsores = iris.data\n",
        "classe = iris.target"
      ],
      "metadata": {
        "id": "DSpmCzSbzvEn"
      },
      "execution_count": null,
      "outputs": []
    },
    {
      "cell_type": "code",
      "source": [
        "#separação dos dados de treinamento e de teste(70%/30%)\n",
        "X_treinamento, X_teste, y_treinamento, y_teste = train_test_split(previsores, \n",
        "                                                               classe, \n",
        "                                                               test_size = 0.3, \n",
        "                                                               random_state = 0)\n",
        "len(X_treinamento)"
      ],
      "metadata": {
        "colab": {
          "base_uri": "https://localhost:8080/"
        },
        "id": "adx9pUa70PlO",
        "outputId": "5e7f23e2-1660-46b9-8995-d62bf171d006"
      },
      "execution_count": null,
      "outputs": [
        {
          "output_type": "execute_result",
          "data": {
            "text/plain": [
              "105"
            ]
          },
          "metadata": {},
          "execution_count": 55
        }
      ]
    },
    {
      "cell_type": "code",
      "source": [
        "#criação do modelo e treinamento\n",
        "knn = KNeighborsClassifier(n_neighbors = 3)\n",
        "knn.fit(X_treinamento, y_treinamento)"
      ],
      "metadata": {
        "colab": {
          "base_uri": "https://localhost:8080/",
          "height": 75
        },
        "id": "txCnYnDj11zT",
        "outputId": "7784076f-5727-4b05-c79c-7969a653c121"
      },
      "execution_count": null,
      "outputs": [
        {
          "output_type": "execute_result",
          "data": {
            "text/plain": [
              "KNeighborsClassifier(n_neighbors=3)"
            ],
            "text/html": [
              "<style>#sk-container-id-5 {color: black;background-color: white;}#sk-container-id-5 pre{padding: 0;}#sk-container-id-5 div.sk-toggleable {background-color: white;}#sk-container-id-5 label.sk-toggleable__label {cursor: pointer;display: block;width: 100%;margin-bottom: 0;padding: 0.3em;box-sizing: border-box;text-align: center;}#sk-container-id-5 label.sk-toggleable__label-arrow:before {content: \"▸\";float: left;margin-right: 0.25em;color: #696969;}#sk-container-id-5 label.sk-toggleable__label-arrow:hover:before {color: black;}#sk-container-id-5 div.sk-estimator:hover label.sk-toggleable__label-arrow:before {color: black;}#sk-container-id-5 div.sk-toggleable__content {max-height: 0;max-width: 0;overflow: hidden;text-align: left;background-color: #f0f8ff;}#sk-container-id-5 div.sk-toggleable__content pre {margin: 0.2em;color: black;border-radius: 0.25em;background-color: #f0f8ff;}#sk-container-id-5 input.sk-toggleable__control:checked~div.sk-toggleable__content {max-height: 200px;max-width: 100%;overflow: auto;}#sk-container-id-5 input.sk-toggleable__control:checked~label.sk-toggleable__label-arrow:before {content: \"▾\";}#sk-container-id-5 div.sk-estimator input.sk-toggleable__control:checked~label.sk-toggleable__label {background-color: #d4ebff;}#sk-container-id-5 div.sk-label input.sk-toggleable__control:checked~label.sk-toggleable__label {background-color: #d4ebff;}#sk-container-id-5 input.sk-hidden--visually {border: 0;clip: rect(1px 1px 1px 1px);clip: rect(1px, 1px, 1px, 1px);height: 1px;margin: -1px;overflow: hidden;padding: 0;position: absolute;width: 1px;}#sk-container-id-5 div.sk-estimator {font-family: monospace;background-color: #f0f8ff;border: 1px dotted black;border-radius: 0.25em;box-sizing: border-box;margin-bottom: 0.5em;}#sk-container-id-5 div.sk-estimator:hover {background-color: #d4ebff;}#sk-container-id-5 div.sk-parallel-item::after {content: \"\";width: 100%;border-bottom: 1px solid gray;flex-grow: 1;}#sk-container-id-5 div.sk-label:hover label.sk-toggleable__label {background-color: #d4ebff;}#sk-container-id-5 div.sk-serial::before {content: \"\";position: absolute;border-left: 1px solid gray;box-sizing: border-box;top: 0;bottom: 0;left: 50%;z-index: 0;}#sk-container-id-5 div.sk-serial {display: flex;flex-direction: column;align-items: center;background-color: white;padding-right: 0.2em;padding-left: 0.2em;position: relative;}#sk-container-id-5 div.sk-item {position: relative;z-index: 1;}#sk-container-id-5 div.sk-parallel {display: flex;align-items: stretch;justify-content: center;background-color: white;position: relative;}#sk-container-id-5 div.sk-item::before, #sk-container-id-5 div.sk-parallel-item::before {content: \"\";position: absolute;border-left: 1px solid gray;box-sizing: border-box;top: 0;bottom: 0;left: 50%;z-index: -1;}#sk-container-id-5 div.sk-parallel-item {display: flex;flex-direction: column;z-index: 1;position: relative;background-color: white;}#sk-container-id-5 div.sk-parallel-item:first-child::after {align-self: flex-end;width: 50%;}#sk-container-id-5 div.sk-parallel-item:last-child::after {align-self: flex-start;width: 50%;}#sk-container-id-5 div.sk-parallel-item:only-child::after {width: 0;}#sk-container-id-5 div.sk-dashed-wrapped {border: 1px dashed gray;margin: 0 0.4em 0.5em 0.4em;box-sizing: border-box;padding-bottom: 0.4em;background-color: white;}#sk-container-id-5 div.sk-label label {font-family: monospace;font-weight: bold;display: inline-block;line-height: 1.2em;}#sk-container-id-5 div.sk-label-container {text-align: center;}#sk-container-id-5 div.sk-container {/* jupyter's `normalize.less` sets `[hidden] { display: none; }` but bootstrap.min.css set `[hidden] { display: none !important; }` so we also need the `!important` here to be able to override the default hidden behavior on the sphinx rendered scikit-learn.org. See: https://github.com/scikit-learn/scikit-learn/issues/21755 */display: inline-block !important;position: relative;}#sk-container-id-5 div.sk-text-repr-fallback {display: none;}</style><div id=\"sk-container-id-5\" class=\"sk-top-container\"><div class=\"sk-text-repr-fallback\"><pre>KNeighborsClassifier(n_neighbors=3)</pre><b>In a Jupyter environment, please rerun this cell to show the HTML representation or trust the notebook. <br />On GitHub, the HTML representation is unable to render, please try loading this page with nbviewer.org.</b></div><div class=\"sk-container\" hidden><div class=\"sk-item\"><div class=\"sk-estimator sk-toggleable\"><input class=\"sk-toggleable__control sk-hidden--visually\" id=\"sk-estimator-id-5\" type=\"checkbox\" checked><label for=\"sk-estimator-id-5\" class=\"sk-toggleable__label sk-toggleable__label-arrow\">KNeighborsClassifier</label><div class=\"sk-toggleable__content\"><pre>KNeighborsClassifier(n_neighbors=3)</pre></div></div></div></div></div>"
            ]
          },
          "metadata": {},
          "execution_count": 56
        }
      ]
    },
    {
      "cell_type": "code",
      "source": [
        "#previsões\n",
        "previsoes = knn.predict(X_teste)\n",
        "previsoes"
      ],
      "metadata": {
        "colab": {
          "base_uri": "https://localhost:8080/"
        },
        "id": "G-RYaJNz3LDC",
        "outputId": "94696089-759a-4f04-a244-350abfb82895"
      },
      "execution_count": null,
      "outputs": [
        {
          "output_type": "execute_result",
          "data": {
            "text/plain": [
              "array([2, 1, 0, 2, 0, 2, 0, 1, 1, 1, 2, 1, 1, 1, 1, 0, 1, 1, 0, 0, 2, 1,\n",
              "       0, 0, 2, 0, 0, 1, 1, 0, 2, 1, 0, 2, 2, 1, 0, 2, 1, 1, 2, 0, 2, 0,\n",
              "       0])"
            ]
          },
          "metadata": {},
          "execution_count": 57
        }
      ]
    },
    {
      "cell_type": "code",
      "source": [
        "#matriz de confusao\n",
        "confusao = confusion_matrix(y_teste, previsoes)\n",
        "confusao"
      ],
      "metadata": {
        "colab": {
          "base_uri": "https://localhost:8080/"
        },
        "id": "lIaerX1y3pRd",
        "outputId": "5e59f753-b215-4019-c901-f8e7289886fb"
      },
      "execution_count": null,
      "outputs": [
        {
          "output_type": "execute_result",
          "data": {
            "text/plain": [
              "array([[16,  0,  0],\n",
              "       [ 0, 17,  1],\n",
              "       [ 0,  0, 11]])"
            ]
          },
          "metadata": {},
          "execution_count": 59
        }
      ]
    },
    {
      "cell_type": "code",
      "source": [
        "#taxa de acerto\n",
        "taxa_acerto = accuracy_score(y_teste, previsoes)\n",
        "taxa_acerto"
      ],
      "metadata": {
        "colab": {
          "base_uri": "https://localhost:8080/"
        },
        "id": "hyGhYzq34E-_",
        "outputId": "ff9d0aab-70a4-47a0-d8b9-ecf9f6f7ee50"
      },
      "execution_count": null,
      "outputs": [
        {
          "output_type": "execute_result",
          "data": {
            "text/plain": [
              "0.9777777777777777"
            ]
          },
          "metadata": {},
          "execution_count": 61
        }
      ]
    }
  ]
}