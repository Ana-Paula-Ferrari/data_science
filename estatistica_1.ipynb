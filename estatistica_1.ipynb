{
  "nbformat": 4,
  "nbformat_minor": 0,
  "metadata": {
    "colab": {
      "provenance": [],
      "authorship_tag": "ABX9TyMEzNMnwCY8dRIdhbU4zGY2",
      "include_colab_link": true
    },
    "kernelspec": {
      "name": "python3",
      "display_name": "Python 3"
    },
    "language_info": {
      "name": "python"
    }
  },
  "cells": [
    {
      "cell_type": "markdown",
      "metadata": {
        "id": "view-in-github",
        "colab_type": "text"
      },
      "source": [
        "<a href=\"https://colab.research.google.com/github/Ana-Paula-Ferrari/data_science/blob/main/estatistica_1.ipynb\" target=\"_parent\"><img src=\"https://colab.research.google.com/assets/colab-badge.svg\" alt=\"Open In Colab\"/></a>"
      ]
    },
    {
      "cell_type": "markdown",
      "source": [
        "**Amostragem Simples**\n",
        "\n",
        "seleção de elementos aleatórios, com a mesma chance de ser selecionados"
      ],
      "metadata": {
        "id": "rQ_MBzyZIi-h"
      }
    },
    {
      "cell_type": "code",
      "execution_count": null,
      "metadata": {
        "id": "vwdjcnHMB4Gl"
      },
      "outputs": [],
      "source": [
        "import pandas as pd\n",
        "import numpy as np"
      ]
    },
    {
      "cell_type": "code",
      "source": [
        "base = pd.read_csv(\"iris.csv\")\n",
        "base"
      ],
      "metadata": {
        "colab": {
          "base_uri": "https://localhost:8080/",
          "height": 424
        },
        "id": "7jRhGn5TCqQe",
        "outputId": "8b75ff2b-9648-4a76-d951-6333364e3474"
      },
      "execution_count": null,
      "outputs": [
        {
          "output_type": "execute_result",
          "data": {
            "text/plain": [
              "     sepal length  sepal width  petal length  petal width           class\n",
              "0             5.1          3.5           1.4          0.2     Iris-setosa\n",
              "1             4.9          3.0           1.4          0.2     Iris-setosa\n",
              "2             4.7          3.2           1.3          0.2     Iris-setosa\n",
              "3             4.6          3.1           1.5          0.2     Iris-setosa\n",
              "4             5.0          3.6           1.4          0.2     Iris-setosa\n",
              "..            ...          ...           ...          ...             ...\n",
              "145           6.7          3.0           5.2          2.3  Iris-virginica\n",
              "146           6.3          2.5           5.0          1.9  Iris-virginica\n",
              "147           6.5          3.0           5.2          2.0  Iris-virginica\n",
              "148           6.2          3.4           5.4          2.3  Iris-virginica\n",
              "149           5.9          3.0           5.1          1.8  Iris-virginica\n",
              "\n",
              "[150 rows x 5 columns]"
            ],
            "text/html": [
              "\n",
              "  <div id=\"df-7161e011-3478-4319-a4a7-8de9999e1464\">\n",
              "    <div class=\"colab-df-container\">\n",
              "      <div>\n",
              "<style scoped>\n",
              "    .dataframe tbody tr th:only-of-type {\n",
              "        vertical-align: middle;\n",
              "    }\n",
              "\n",
              "    .dataframe tbody tr th {\n",
              "        vertical-align: top;\n",
              "    }\n",
              "\n",
              "    .dataframe thead th {\n",
              "        text-align: right;\n",
              "    }\n",
              "</style>\n",
              "<table border=\"1\" class=\"dataframe\">\n",
              "  <thead>\n",
              "    <tr style=\"text-align: right;\">\n",
              "      <th></th>\n",
              "      <th>sepal length</th>\n",
              "      <th>sepal width</th>\n",
              "      <th>petal length</th>\n",
              "      <th>petal width</th>\n",
              "      <th>class</th>\n",
              "    </tr>\n",
              "  </thead>\n",
              "  <tbody>\n",
              "    <tr>\n",
              "      <th>0</th>\n",
              "      <td>5.1</td>\n",
              "      <td>3.5</td>\n",
              "      <td>1.4</td>\n",
              "      <td>0.2</td>\n",
              "      <td>Iris-setosa</td>\n",
              "    </tr>\n",
              "    <tr>\n",
              "      <th>1</th>\n",
              "      <td>4.9</td>\n",
              "      <td>3.0</td>\n",
              "      <td>1.4</td>\n",
              "      <td>0.2</td>\n",
              "      <td>Iris-setosa</td>\n",
              "    </tr>\n",
              "    <tr>\n",
              "      <th>2</th>\n",
              "      <td>4.7</td>\n",
              "      <td>3.2</td>\n",
              "      <td>1.3</td>\n",
              "      <td>0.2</td>\n",
              "      <td>Iris-setosa</td>\n",
              "    </tr>\n",
              "    <tr>\n",
              "      <th>3</th>\n",
              "      <td>4.6</td>\n",
              "      <td>3.1</td>\n",
              "      <td>1.5</td>\n",
              "      <td>0.2</td>\n",
              "      <td>Iris-setosa</td>\n",
              "    </tr>\n",
              "    <tr>\n",
              "      <th>4</th>\n",
              "      <td>5.0</td>\n",
              "      <td>3.6</td>\n",
              "      <td>1.4</td>\n",
              "      <td>0.2</td>\n",
              "      <td>Iris-setosa</td>\n",
              "    </tr>\n",
              "    <tr>\n",
              "      <th>...</th>\n",
              "      <td>...</td>\n",
              "      <td>...</td>\n",
              "      <td>...</td>\n",
              "      <td>...</td>\n",
              "      <td>...</td>\n",
              "    </tr>\n",
              "    <tr>\n",
              "      <th>145</th>\n",
              "      <td>6.7</td>\n",
              "      <td>3.0</td>\n",
              "      <td>5.2</td>\n",
              "      <td>2.3</td>\n",
              "      <td>Iris-virginica</td>\n",
              "    </tr>\n",
              "    <tr>\n",
              "      <th>146</th>\n",
              "      <td>6.3</td>\n",
              "      <td>2.5</td>\n",
              "      <td>5.0</td>\n",
              "      <td>1.9</td>\n",
              "      <td>Iris-virginica</td>\n",
              "    </tr>\n",
              "    <tr>\n",
              "      <th>147</th>\n",
              "      <td>6.5</td>\n",
              "      <td>3.0</td>\n",
              "      <td>5.2</td>\n",
              "      <td>2.0</td>\n",
              "      <td>Iris-virginica</td>\n",
              "    </tr>\n",
              "    <tr>\n",
              "      <th>148</th>\n",
              "      <td>6.2</td>\n",
              "      <td>3.4</td>\n",
              "      <td>5.4</td>\n",
              "      <td>2.3</td>\n",
              "      <td>Iris-virginica</td>\n",
              "    </tr>\n",
              "    <tr>\n",
              "      <th>149</th>\n",
              "      <td>5.9</td>\n",
              "      <td>3.0</td>\n",
              "      <td>5.1</td>\n",
              "      <td>1.8</td>\n",
              "      <td>Iris-virginica</td>\n",
              "    </tr>\n",
              "  </tbody>\n",
              "</table>\n",
              "<p>150 rows × 5 columns</p>\n",
              "</div>\n",
              "      <button class=\"colab-df-convert\" onclick=\"convertToInteractive('df-7161e011-3478-4319-a4a7-8de9999e1464')\"\n",
              "              title=\"Convert this dataframe to an interactive table.\"\n",
              "              style=\"display:none;\">\n",
              "        \n",
              "  <svg xmlns=\"http://www.w3.org/2000/svg\" height=\"24px\"viewBox=\"0 0 24 24\"\n",
              "       width=\"24px\">\n",
              "    <path d=\"M0 0h24v24H0V0z\" fill=\"none\"/>\n",
              "    <path d=\"M18.56 5.44l.94 2.06.94-2.06 2.06-.94-2.06-.94-.94-2.06-.94 2.06-2.06.94zm-11 1L8.5 8.5l.94-2.06 2.06-.94-2.06-.94L8.5 2.5l-.94 2.06-2.06.94zm10 10l.94 2.06.94-2.06 2.06-.94-2.06-.94-.94-2.06-.94 2.06-2.06.94z\"/><path d=\"M17.41 7.96l-1.37-1.37c-.4-.4-.92-.59-1.43-.59-.52 0-1.04.2-1.43.59L10.3 9.45l-7.72 7.72c-.78.78-.78 2.05 0 2.83L4 21.41c.39.39.9.59 1.41.59.51 0 1.02-.2 1.41-.59l7.78-7.78 2.81-2.81c.8-.78.8-2.07 0-2.86zM5.41 20L4 18.59l7.72-7.72 1.47 1.35L5.41 20z\"/>\n",
              "  </svg>\n",
              "      </button>\n",
              "      \n",
              "  <style>\n",
              "    .colab-df-container {\n",
              "      display:flex;\n",
              "      flex-wrap:wrap;\n",
              "      gap: 12px;\n",
              "    }\n",
              "\n",
              "    .colab-df-convert {\n",
              "      background-color: #E8F0FE;\n",
              "      border: none;\n",
              "      border-radius: 50%;\n",
              "      cursor: pointer;\n",
              "      display: none;\n",
              "      fill: #1967D2;\n",
              "      height: 32px;\n",
              "      padding: 0 0 0 0;\n",
              "      width: 32px;\n",
              "    }\n",
              "\n",
              "    .colab-df-convert:hover {\n",
              "      background-color: #E2EBFA;\n",
              "      box-shadow: 0px 1px 2px rgba(60, 64, 67, 0.3), 0px 1px 3px 1px rgba(60, 64, 67, 0.15);\n",
              "      fill: #174EA6;\n",
              "    }\n",
              "\n",
              "    [theme=dark] .colab-df-convert {\n",
              "      background-color: #3B4455;\n",
              "      fill: #D2E3FC;\n",
              "    }\n",
              "\n",
              "    [theme=dark] .colab-df-convert:hover {\n",
              "      background-color: #434B5C;\n",
              "      box-shadow: 0px 1px 3px 1px rgba(0, 0, 0, 0.15);\n",
              "      filter: drop-shadow(0px 1px 2px rgba(0, 0, 0, 0.3));\n",
              "      fill: #FFFFFF;\n",
              "    }\n",
              "  </style>\n",
              "\n",
              "      <script>\n",
              "        const buttonEl =\n",
              "          document.querySelector('#df-7161e011-3478-4319-a4a7-8de9999e1464 button.colab-df-convert');\n",
              "        buttonEl.style.display =\n",
              "          google.colab.kernel.accessAllowed ? 'block' : 'none';\n",
              "\n",
              "        async function convertToInteractive(key) {\n",
              "          const element = document.querySelector('#df-7161e011-3478-4319-a4a7-8de9999e1464');\n",
              "          const dataTable =\n",
              "            await google.colab.kernel.invokeFunction('convertToInteractive',\n",
              "                                                     [key], {});\n",
              "          if (!dataTable) return;\n",
              "\n",
              "          const docLinkHtml = 'Like what you see? Visit the ' +\n",
              "            '<a target=\"_blank\" href=https://colab.research.google.com/notebooks/data_table.ipynb>data table notebook</a>'\n",
              "            + ' to learn more about interactive tables.';\n",
              "          element.innerHTML = '';\n",
              "          dataTable['output_type'] = 'display_data';\n",
              "          await google.colab.output.renderOutput(dataTable, element);\n",
              "          const docLink = document.createElement('div');\n",
              "          docLink.innerHTML = docLinkHtml;\n",
              "          element.appendChild(docLink);\n",
              "        }\n",
              "      </script>\n",
              "    </div>\n",
              "  </div>\n",
              "  "
            ]
          },
          "metadata": {},
          "execution_count": 2
        }
      ]
    },
    {
      "cell_type": "code",
      "source": [
        "base.shape"
      ],
      "metadata": {
        "colab": {
          "base_uri": "https://localhost:8080/"
        },
        "id": "DwruvrI7CxYD",
        "outputId": "ad0886d5-7150-4c09-ec66-7db8368b5b3a"
      },
      "execution_count": null,
      "outputs": [
        {
          "output_type": "execute_result",
          "data": {
            "text/plain": [
              "(150, 5)"
            ]
          },
          "metadata": {},
          "execution_count": 3
        }
      ]
    },
    {
      "cell_type": "code",
      "source": [
        "np.random.seed(2345) #semente - para manter os resultados em várias execuções\n",
        "amostra = np.random.choice(a=[0, 1], size= 150, replace= True, p=[0.7, 0.3]) #criar amostra com reposição\n",
        "\n",
        "#verificar o tamanho da amostra\n",
        "print(len(amostra))\n",
        "print(len(amostra[amostra == 0]))\n",
        "print(len(amostra[amostra == 1]))\n"
      ],
      "metadata": {
        "colab": {
          "base_uri": "https://localhost:8080/"
        },
        "id": "RIGEPb9gC2jW",
        "outputId": "0414b3f7-24b1-4106-c76b-78124ee3abc8"
      },
      "execution_count": null,
      "outputs": [
        {
          "output_type": "stream",
          "name": "stdout",
          "text": [
            "150\n",
            "101\n",
            "49\n"
          ]
        }
      ]
    },
    {
      "cell_type": "code",
      "source": [
        "amostra"
      ],
      "metadata": {
        "colab": {
          "base_uri": "https://localhost:8080/"
        },
        "id": "I6rRDDjLH8mR",
        "outputId": "ced9f51e-451d-4976-aa92-dbc1847ddadd"
      },
      "execution_count": null,
      "outputs": [
        {
          "output_type": "execute_result",
          "data": {
            "text/plain": [
              "array([0, 0, 0, 0, 1, 0, 0, 0, 1, 0, 0, 1, 0, 1, 0, 0, 1, 0, 1, 1, 1, 0,\n",
              "       0, 1, 1, 1, 0, 1, 0, 0, 1, 0, 0, 1, 1, 0, 1, 0, 0, 0, 1, 0, 1, 0,\n",
              "       0, 0, 0, 0, 0, 0, 1, 1, 0, 0, 0, 0, 0, 0, 0, 0, 0, 1, 0, 0, 1, 0,\n",
              "       0, 1, 0, 0, 1, 0, 0, 0, 0, 1, 0, 1, 0, 0, 1, 1, 0, 0, 0, 0, 0, 0,\n",
              "       0, 0, 0, 0, 1, 0, 1, 1, 1, 1, 1, 1, 0, 0, 0, 0, 0, 0, 0, 0, 1, 0,\n",
              "       0, 0, 0, 0, 0, 0, 0, 0, 1, 0, 0, 0, 0, 0, 1, 1, 1, 0, 1, 0, 1, 1,\n",
              "       1, 0, 0, 0, 0, 0, 0, 0, 0, 1, 1, 0, 0, 1, 1, 0, 0, 1])"
            ]
          },
          "metadata": {},
          "execution_count": 5
        }
      ]
    },
    {
      "cell_type": "markdown",
      "source": [
        "**Amostragem Estratificada**\n",
        "\n",
        "Selecionados pelas suas especificações\n"
      ],
      "metadata": {
        "id": "Uoqdk9PZIPq7"
      }
    },
    {
      "cell_type": "code",
      "source": [
        "  from sklearn.model_selection import train_test_split"
      ],
      "metadata": {
        "id": "-nHFprgHIgQL"
      },
      "execution_count": null,
      "outputs": []
    },
    {
      "cell_type": "code",
      "source": [
        "base['class'].value_counts()"
      ],
      "metadata": {
        "colab": {
          "base_uri": "https://localhost:8080/"
        },
        "id": "4kwdtKfaQNBr",
        "outputId": "77a55a21-2039-4dbb-87b7-a8df08833069"
      },
      "execution_count": null,
      "outputs": [
        {
          "output_type": "execute_result",
          "data": {
            "text/plain": [
              "Iris-setosa        50\n",
              "Iris-versicolor    50\n",
              "Iris-virginica     50\n",
              "Name: class, dtype: int64"
            ]
          },
          "metadata": {},
          "execution_count": 8
        }
      ]
    },
    {
      "cell_type": "code",
      "source": [
        "#selecionamos 50% da base de dados\n",
        "#retorna a amostra baseada na coluna \"Class\"\n",
        "x, _, y, _ = train_test_split(base.iloc[:,0:4], base.iloc[:,4], test_size=0.5, stratify=base.iloc[:,4])\n",
        "\n",
        "y.value_counts()"
      ],
      "metadata": {
        "colab": {
          "base_uri": "https://localhost:8080/"
        },
        "id": "LgzfSSGAQYfg",
        "outputId": "38780f05-1d3c-4a72-f742-ded717d02abe"
      },
      "execution_count": null,
      "outputs": [
        {
          "output_type": "execute_result",
          "data": {
            "text/plain": [
              "Iris-versicolor    25\n",
              "Iris-virginica     25\n",
              "Iris-setosa        25\n",
              "Name: class, dtype: int64"
            ]
          },
          "metadata": {},
          "execution_count": 14
        }
      ]
    },
    {
      "cell_type": "code",
      "source": [
        "infert = pd.read_csv('infert.csv')\n",
        "infert"
      ],
      "metadata": {
        "colab": {
          "base_uri": "https://localhost:8080/",
          "height": 424
        },
        "id": "Sc-86rqwR_Jw",
        "outputId": "a5fb4cbb-7934-4866-e8c8-7df842df1e76"
      },
      "execution_count": null,
      "outputs": [
        {
          "output_type": "execute_result",
          "data": {
            "text/plain": [
              "     Unnamed: 0 education  age  parity  induced  case  spontaneous  stratum  \\\n",
              "0             1    0-5yrs   26       6        1     1            2        1   \n",
              "1             2    0-5yrs   42       1        1     1            0        2   \n",
              "2             3    0-5yrs   39       6        2     1            0        3   \n",
              "3             4    0-5yrs   34       4        2     1            0        4   \n",
              "4             5   6-11yrs   35       3        1     1            1        5   \n",
              "..          ...       ...  ...     ...      ...   ...          ...      ...   \n",
              "243         244   12+ yrs   31       1        0     0            1       79   \n",
              "244         245   12+ yrs   34       1        0     0            0       80   \n",
              "245         246   12+ yrs   35       2        2     0            0       81   \n",
              "246         247   12+ yrs   29       1        0     0            1       82   \n",
              "247         248   12+ yrs   23       1        0     0            1       83   \n",
              "\n",
              "     pooled.stratum  \n",
              "0                 3  \n",
              "1                 1  \n",
              "2                 4  \n",
              "3                 2  \n",
              "4                32  \n",
              "..              ...  \n",
              "243              45  \n",
              "244              47  \n",
              "245              54  \n",
              "246              43  \n",
              "247              40  \n",
              "\n",
              "[248 rows x 9 columns]"
            ],
            "text/html": [
              "\n",
              "  <div id=\"df-0960d185-b234-4799-babe-4488a7b0bc8b\">\n",
              "    <div class=\"colab-df-container\">\n",
              "      <div>\n",
              "<style scoped>\n",
              "    .dataframe tbody tr th:only-of-type {\n",
              "        vertical-align: middle;\n",
              "    }\n",
              "\n",
              "    .dataframe tbody tr th {\n",
              "        vertical-align: top;\n",
              "    }\n",
              "\n",
              "    .dataframe thead th {\n",
              "        text-align: right;\n",
              "    }\n",
              "</style>\n",
              "<table border=\"1\" class=\"dataframe\">\n",
              "  <thead>\n",
              "    <tr style=\"text-align: right;\">\n",
              "      <th></th>\n",
              "      <th>Unnamed: 0</th>\n",
              "      <th>education</th>\n",
              "      <th>age</th>\n",
              "      <th>parity</th>\n",
              "      <th>induced</th>\n",
              "      <th>case</th>\n",
              "      <th>spontaneous</th>\n",
              "      <th>stratum</th>\n",
              "      <th>pooled.stratum</th>\n",
              "    </tr>\n",
              "  </thead>\n",
              "  <tbody>\n",
              "    <tr>\n",
              "      <th>0</th>\n",
              "      <td>1</td>\n",
              "      <td>0-5yrs</td>\n",
              "      <td>26</td>\n",
              "      <td>6</td>\n",
              "      <td>1</td>\n",
              "      <td>1</td>\n",
              "      <td>2</td>\n",
              "      <td>1</td>\n",
              "      <td>3</td>\n",
              "    </tr>\n",
              "    <tr>\n",
              "      <th>1</th>\n",
              "      <td>2</td>\n",
              "      <td>0-5yrs</td>\n",
              "      <td>42</td>\n",
              "      <td>1</td>\n",
              "      <td>1</td>\n",
              "      <td>1</td>\n",
              "      <td>0</td>\n",
              "      <td>2</td>\n",
              "      <td>1</td>\n",
              "    </tr>\n",
              "    <tr>\n",
              "      <th>2</th>\n",
              "      <td>3</td>\n",
              "      <td>0-5yrs</td>\n",
              "      <td>39</td>\n",
              "      <td>6</td>\n",
              "      <td>2</td>\n",
              "      <td>1</td>\n",
              "      <td>0</td>\n",
              "      <td>3</td>\n",
              "      <td>4</td>\n",
              "    </tr>\n",
              "    <tr>\n",
              "      <th>3</th>\n",
              "      <td>4</td>\n",
              "      <td>0-5yrs</td>\n",
              "      <td>34</td>\n",
              "      <td>4</td>\n",
              "      <td>2</td>\n",
              "      <td>1</td>\n",
              "      <td>0</td>\n",
              "      <td>4</td>\n",
              "      <td>2</td>\n",
              "    </tr>\n",
              "    <tr>\n",
              "      <th>4</th>\n",
              "      <td>5</td>\n",
              "      <td>6-11yrs</td>\n",
              "      <td>35</td>\n",
              "      <td>3</td>\n",
              "      <td>1</td>\n",
              "      <td>1</td>\n",
              "      <td>1</td>\n",
              "      <td>5</td>\n",
              "      <td>32</td>\n",
              "    </tr>\n",
              "    <tr>\n",
              "      <th>...</th>\n",
              "      <td>...</td>\n",
              "      <td>...</td>\n",
              "      <td>...</td>\n",
              "      <td>...</td>\n",
              "      <td>...</td>\n",
              "      <td>...</td>\n",
              "      <td>...</td>\n",
              "      <td>...</td>\n",
              "      <td>...</td>\n",
              "    </tr>\n",
              "    <tr>\n",
              "      <th>243</th>\n",
              "      <td>244</td>\n",
              "      <td>12+ yrs</td>\n",
              "      <td>31</td>\n",
              "      <td>1</td>\n",
              "      <td>0</td>\n",
              "      <td>0</td>\n",
              "      <td>1</td>\n",
              "      <td>79</td>\n",
              "      <td>45</td>\n",
              "    </tr>\n",
              "    <tr>\n",
              "      <th>244</th>\n",
              "      <td>245</td>\n",
              "      <td>12+ yrs</td>\n",
              "      <td>34</td>\n",
              "      <td>1</td>\n",
              "      <td>0</td>\n",
              "      <td>0</td>\n",
              "      <td>0</td>\n",
              "      <td>80</td>\n",
              "      <td>47</td>\n",
              "    </tr>\n",
              "    <tr>\n",
              "      <th>245</th>\n",
              "      <td>246</td>\n",
              "      <td>12+ yrs</td>\n",
              "      <td>35</td>\n",
              "      <td>2</td>\n",
              "      <td>2</td>\n",
              "      <td>0</td>\n",
              "      <td>0</td>\n",
              "      <td>81</td>\n",
              "      <td>54</td>\n",
              "    </tr>\n",
              "    <tr>\n",
              "      <th>246</th>\n",
              "      <td>247</td>\n",
              "      <td>12+ yrs</td>\n",
              "      <td>29</td>\n",
              "      <td>1</td>\n",
              "      <td>0</td>\n",
              "      <td>0</td>\n",
              "      <td>1</td>\n",
              "      <td>82</td>\n",
              "      <td>43</td>\n",
              "    </tr>\n",
              "    <tr>\n",
              "      <th>247</th>\n",
              "      <td>248</td>\n",
              "      <td>12+ yrs</td>\n",
              "      <td>23</td>\n",
              "      <td>1</td>\n",
              "      <td>0</td>\n",
              "      <td>0</td>\n",
              "      <td>1</td>\n",
              "      <td>83</td>\n",
              "      <td>40</td>\n",
              "    </tr>\n",
              "  </tbody>\n",
              "</table>\n",
              "<p>248 rows × 9 columns</p>\n",
              "</div>\n",
              "      <button class=\"colab-df-convert\" onclick=\"convertToInteractive('df-0960d185-b234-4799-babe-4488a7b0bc8b')\"\n",
              "              title=\"Convert this dataframe to an interactive table.\"\n",
              "              style=\"display:none;\">\n",
              "        \n",
              "  <svg xmlns=\"http://www.w3.org/2000/svg\" height=\"24px\"viewBox=\"0 0 24 24\"\n",
              "       width=\"24px\">\n",
              "    <path d=\"M0 0h24v24H0V0z\" fill=\"none\"/>\n",
              "    <path d=\"M18.56 5.44l.94 2.06.94-2.06 2.06-.94-2.06-.94-.94-2.06-.94 2.06-2.06.94zm-11 1L8.5 8.5l.94-2.06 2.06-.94-2.06-.94L8.5 2.5l-.94 2.06-2.06.94zm10 10l.94 2.06.94-2.06 2.06-.94-2.06-.94-.94-2.06-.94 2.06-2.06.94z\"/><path d=\"M17.41 7.96l-1.37-1.37c-.4-.4-.92-.59-1.43-.59-.52 0-1.04.2-1.43.59L10.3 9.45l-7.72 7.72c-.78.78-.78 2.05 0 2.83L4 21.41c.39.39.9.59 1.41.59.51 0 1.02-.2 1.41-.59l7.78-7.78 2.81-2.81c.8-.78.8-2.07 0-2.86zM5.41 20L4 18.59l7.72-7.72 1.47 1.35L5.41 20z\"/>\n",
              "  </svg>\n",
              "      </button>\n",
              "      \n",
              "  <style>\n",
              "    .colab-df-container {\n",
              "      display:flex;\n",
              "      flex-wrap:wrap;\n",
              "      gap: 12px;\n",
              "    }\n",
              "\n",
              "    .colab-df-convert {\n",
              "      background-color: #E8F0FE;\n",
              "      border: none;\n",
              "      border-radius: 50%;\n",
              "      cursor: pointer;\n",
              "      display: none;\n",
              "      fill: #1967D2;\n",
              "      height: 32px;\n",
              "      padding: 0 0 0 0;\n",
              "      width: 32px;\n",
              "    }\n",
              "\n",
              "    .colab-df-convert:hover {\n",
              "      background-color: #E2EBFA;\n",
              "      box-shadow: 0px 1px 2px rgba(60, 64, 67, 0.3), 0px 1px 3px 1px rgba(60, 64, 67, 0.15);\n",
              "      fill: #174EA6;\n",
              "    }\n",
              "\n",
              "    [theme=dark] .colab-df-convert {\n",
              "      background-color: #3B4455;\n",
              "      fill: #D2E3FC;\n",
              "    }\n",
              "\n",
              "    [theme=dark] .colab-df-convert:hover {\n",
              "      background-color: #434B5C;\n",
              "      box-shadow: 0px 1px 3px 1px rgba(0, 0, 0, 0.15);\n",
              "      filter: drop-shadow(0px 1px 2px rgba(0, 0, 0, 0.3));\n",
              "      fill: #FFFFFF;\n",
              "    }\n",
              "  </style>\n",
              "\n",
              "      <script>\n",
              "        const buttonEl =\n",
              "          document.querySelector('#df-0960d185-b234-4799-babe-4488a7b0bc8b button.colab-df-convert');\n",
              "        buttonEl.style.display =\n",
              "          google.colab.kernel.accessAllowed ? 'block' : 'none';\n",
              "\n",
              "        async function convertToInteractive(key) {\n",
              "          const element = document.querySelector('#df-0960d185-b234-4799-babe-4488a7b0bc8b');\n",
              "          const dataTable =\n",
              "            await google.colab.kernel.invokeFunction('convertToInteractive',\n",
              "                                                     [key], {});\n",
              "          if (!dataTable) return;\n",
              "\n",
              "          const docLinkHtml = 'Like what you see? Visit the ' +\n",
              "            '<a target=\"_blank\" href=https://colab.research.google.com/notebooks/data_table.ipynb>data table notebook</a>'\n",
              "            + ' to learn more about interactive tables.';\n",
              "          element.innerHTML = '';\n",
              "          dataTable['output_type'] = 'display_data';\n",
              "          await google.colab.output.renderOutput(dataTable, element);\n",
              "          const docLink = document.createElement('div');\n",
              "          docLink.innerHTML = docLinkHtml;\n",
              "          element.appendChild(docLink);\n",
              "        }\n",
              "      </script>\n",
              "    </div>\n",
              "  </div>\n",
              "  "
            ]
          },
          "metadata": {},
          "execution_count": 16
        }
      ]
    },
    {
      "cell_type": "code",
      "source": [
        "infert['education'].value_counts()"
      ],
      "metadata": {
        "colab": {
          "base_uri": "https://localhost:8080/"
        },
        "id": "KzBShnbPSF8r",
        "outputId": "fb2f6bae-5043-4910-c4c0-fdc3fcf4f98a"
      },
      "execution_count": null,
      "outputs": [
        {
          "output_type": "execute_result",
          "data": {
            "text/plain": [
              "6-11yrs    120\n",
              "12+ yrs    116\n",
              "0-5yrs      12\n",
              "Name: education, dtype: int64"
            ]
          },
          "metadata": {},
          "execution_count": 17
        }
      ]
    },
    {
      "cell_type": "code",
      "source": [
        "#gerando amostra com 40% dos registros\n",
        "x1, _, y, _ = train_test_split(infert.iloc[:,2:9], infert.iloc[:,1], test_size=0.6, stratify= infert.iloc[:,1])\n",
        "y.value_counts()"
      ],
      "metadata": {
        "colab": {
          "base_uri": "https://localhost:8080/"
        },
        "id": "tWEIYHYASQTd",
        "outputId": "3680b8e8-4eb3-45fc-dbac-6cd29842aa43"
      },
      "execution_count": null,
      "outputs": [
        {
          "output_type": "execute_result",
          "data": {
            "text/plain": [
              "6-11yrs    48\n",
              "12+ yrs    46\n",
              "0-5yrs      5\n",
              "Name: education, dtype: int64"
            ]
          },
          "metadata": {},
          "execution_count": 18
        }
      ]
    },
    {
      "cell_type": "markdown",
      "source": [
        "**Amostragem Sistemática**\n",
        "\n",
        "A partir de um elemento aleatório, a cada N elemento um novo valor é escolhido"
      ],
      "metadata": {
        "id": "tvL64ii9Ir-S"
      }
    },
    {
      "cell_type": "code",
      "source": [
        "from math import ceil"
      ],
      "metadata": {
        "id": "qCOEokXUIySj"
      },
      "execution_count": null,
      "outputs": []
    },
    {
      "cell_type": "code",
      "source": [
        "#Definir intervalo entre os números\n",
        "populacao = 150\n",
        "amostra = 15\n",
        "k = ceil (populacao/amostra)\n",
        "print(k)"
      ],
      "metadata": {
        "colab": {
          "base_uri": "https://localhost:8080/"
        },
        "id": "tE8ZVjyPTXfb",
        "outputId": "7f84d06c-6c99-4a4d-878b-8f8bd6a99ff1"
      },
      "execution_count": null,
      "outputs": [
        {
          "output_type": "stream",
          "name": "stdout",
          "text": [
            "10\n"
          ]
        }
      ]
    },
    {
      "cell_type": "code",
      "source": [
        "#definição do valor randômico para inicializar a amostra, iniciando em 1 até k+1\n",
        "r = np.random.randint(low= 1 , high= k + 1, size = 1)\n",
        "print(r)"
      ],
      "metadata": {
        "colab": {
          "base_uri": "https://localhost:8080/"
        },
        "id": "cgjYaxyVTlFl",
        "outputId": "38db1d4a-8e3a-4751-a1f6-d5b9c523f8b9"
      },
      "execution_count": null,
      "outputs": [
        {
          "output_type": "stream",
          "name": "stdout",
          "text": [
            "[1]\n"
          ]
        }
      ]
    },
    {
      "cell_type": "code",
      "source": [
        "#somar os próximos valores, baseado no primeiro valor r que foi definido acima\n",
        "acumulador = r[0]\n",
        "sorteados = []\n",
        "for i in range(amostra):\n",
        "  sorteados.append(acumulador)\n",
        "  acumulador += k\n",
        "print(sorteados)"
      ],
      "metadata": {
        "colab": {
          "base_uri": "https://localhost:8080/"
        },
        "id": "QtBNBSAEUKWV",
        "outputId": "88646d05-ca67-4033-c9cd-d3e458b03bd7"
      },
      "execution_count": null,
      "outputs": [
        {
          "output_type": "stream",
          "name": "stdout",
          "text": [
            "[1, 11, 21, 31, 41, 51, 61, 71, 81, 91, 101, 111, 121, 131, 141]\n"
          ]
        }
      ]
    },
    {
      "cell_type": "code",
      "source": [
        "len(sorteados)"
      ],
      "metadata": {
        "colab": {
          "base_uri": "https://localhost:8080/"
        },
        "id": "Up1lALY7VPC2",
        "outputId": "d78ed263-3092-40ef-b3e8-4706c0401e62"
      },
      "execution_count": null,
      "outputs": [
        {
          "output_type": "execute_result",
          "data": {
            "text/plain": [
              "15"
            ]
          },
          "metadata": {},
          "execution_count": 35
        }
      ]
    },
    {
      "cell_type": "code",
      "source": [
        "base_final = base.loc[sorteados]\n",
        "base_final"
      ],
      "metadata": {
        "colab": {
          "base_uri": "https://localhost:8080/",
          "height": 520
        },
        "id": "Awb0tpDmVS82",
        "outputId": "18ab8284-e04a-4d85-e472-ccbf08c72bfe"
      },
      "execution_count": null,
      "outputs": [
        {
          "output_type": "execute_result",
          "data": {
            "text/plain": [
              "     sepal length  sepal width  petal length  petal width            class\n",
              "1             4.9          3.0           1.4          0.2      Iris-setosa\n",
              "11            4.8          3.4           1.6          0.2      Iris-setosa\n",
              "21            5.1          3.7           1.5          0.4      Iris-setosa\n",
              "31            5.4          3.4           1.5          0.4      Iris-setosa\n",
              "41            4.5          2.3           1.3          0.3      Iris-setosa\n",
              "51            6.4          3.2           4.5          1.5  Iris-versicolor\n",
              "61            5.9          3.0           4.2          1.5  Iris-versicolor\n",
              "71            6.1          2.8           4.0          1.3  Iris-versicolor\n",
              "81            5.5          2.4           3.7          1.0  Iris-versicolor\n",
              "91            6.1          3.0           4.6          1.4  Iris-versicolor\n",
              "101           5.8          2.7           5.1          1.9   Iris-virginica\n",
              "111           6.4          2.7           5.3          1.9   Iris-virginica\n",
              "121           5.6          2.8           4.9          2.0   Iris-virginica\n",
              "131           7.9          3.8           6.4          2.0   Iris-virginica\n",
              "141           6.9          3.1           5.1          2.3   Iris-virginica"
            ],
            "text/html": [
              "\n",
              "  <div id=\"df-3832292f-651a-4cff-bbbc-ef73fb7fef40\">\n",
              "    <div class=\"colab-df-container\">\n",
              "      <div>\n",
              "<style scoped>\n",
              "    .dataframe tbody tr th:only-of-type {\n",
              "        vertical-align: middle;\n",
              "    }\n",
              "\n",
              "    .dataframe tbody tr th {\n",
              "        vertical-align: top;\n",
              "    }\n",
              "\n",
              "    .dataframe thead th {\n",
              "        text-align: right;\n",
              "    }\n",
              "</style>\n",
              "<table border=\"1\" class=\"dataframe\">\n",
              "  <thead>\n",
              "    <tr style=\"text-align: right;\">\n",
              "      <th></th>\n",
              "      <th>sepal length</th>\n",
              "      <th>sepal width</th>\n",
              "      <th>petal length</th>\n",
              "      <th>petal width</th>\n",
              "      <th>class</th>\n",
              "    </tr>\n",
              "  </thead>\n",
              "  <tbody>\n",
              "    <tr>\n",
              "      <th>1</th>\n",
              "      <td>4.9</td>\n",
              "      <td>3.0</td>\n",
              "      <td>1.4</td>\n",
              "      <td>0.2</td>\n",
              "      <td>Iris-setosa</td>\n",
              "    </tr>\n",
              "    <tr>\n",
              "      <th>11</th>\n",
              "      <td>4.8</td>\n",
              "      <td>3.4</td>\n",
              "      <td>1.6</td>\n",
              "      <td>0.2</td>\n",
              "      <td>Iris-setosa</td>\n",
              "    </tr>\n",
              "    <tr>\n",
              "      <th>21</th>\n",
              "      <td>5.1</td>\n",
              "      <td>3.7</td>\n",
              "      <td>1.5</td>\n",
              "      <td>0.4</td>\n",
              "      <td>Iris-setosa</td>\n",
              "    </tr>\n",
              "    <tr>\n",
              "      <th>31</th>\n",
              "      <td>5.4</td>\n",
              "      <td>3.4</td>\n",
              "      <td>1.5</td>\n",
              "      <td>0.4</td>\n",
              "      <td>Iris-setosa</td>\n",
              "    </tr>\n",
              "    <tr>\n",
              "      <th>41</th>\n",
              "      <td>4.5</td>\n",
              "      <td>2.3</td>\n",
              "      <td>1.3</td>\n",
              "      <td>0.3</td>\n",
              "      <td>Iris-setosa</td>\n",
              "    </tr>\n",
              "    <tr>\n",
              "      <th>51</th>\n",
              "      <td>6.4</td>\n",
              "      <td>3.2</td>\n",
              "      <td>4.5</td>\n",
              "      <td>1.5</td>\n",
              "      <td>Iris-versicolor</td>\n",
              "    </tr>\n",
              "    <tr>\n",
              "      <th>61</th>\n",
              "      <td>5.9</td>\n",
              "      <td>3.0</td>\n",
              "      <td>4.2</td>\n",
              "      <td>1.5</td>\n",
              "      <td>Iris-versicolor</td>\n",
              "    </tr>\n",
              "    <tr>\n",
              "      <th>71</th>\n",
              "      <td>6.1</td>\n",
              "      <td>2.8</td>\n",
              "      <td>4.0</td>\n",
              "      <td>1.3</td>\n",
              "      <td>Iris-versicolor</td>\n",
              "    </tr>\n",
              "    <tr>\n",
              "      <th>81</th>\n",
              "      <td>5.5</td>\n",
              "      <td>2.4</td>\n",
              "      <td>3.7</td>\n",
              "      <td>1.0</td>\n",
              "      <td>Iris-versicolor</td>\n",
              "    </tr>\n",
              "    <tr>\n",
              "      <th>91</th>\n",
              "      <td>6.1</td>\n",
              "      <td>3.0</td>\n",
              "      <td>4.6</td>\n",
              "      <td>1.4</td>\n",
              "      <td>Iris-versicolor</td>\n",
              "    </tr>\n",
              "    <tr>\n",
              "      <th>101</th>\n",
              "      <td>5.8</td>\n",
              "      <td>2.7</td>\n",
              "      <td>5.1</td>\n",
              "      <td>1.9</td>\n",
              "      <td>Iris-virginica</td>\n",
              "    </tr>\n",
              "    <tr>\n",
              "      <th>111</th>\n",
              "      <td>6.4</td>\n",
              "      <td>2.7</td>\n",
              "      <td>5.3</td>\n",
              "      <td>1.9</td>\n",
              "      <td>Iris-virginica</td>\n",
              "    </tr>\n",
              "    <tr>\n",
              "      <th>121</th>\n",
              "      <td>5.6</td>\n",
              "      <td>2.8</td>\n",
              "      <td>4.9</td>\n",
              "      <td>2.0</td>\n",
              "      <td>Iris-virginica</td>\n",
              "    </tr>\n",
              "    <tr>\n",
              "      <th>131</th>\n",
              "      <td>7.9</td>\n",
              "      <td>3.8</td>\n",
              "      <td>6.4</td>\n",
              "      <td>2.0</td>\n",
              "      <td>Iris-virginica</td>\n",
              "    </tr>\n",
              "    <tr>\n",
              "      <th>141</th>\n",
              "      <td>6.9</td>\n",
              "      <td>3.1</td>\n",
              "      <td>5.1</td>\n",
              "      <td>2.3</td>\n",
              "      <td>Iris-virginica</td>\n",
              "    </tr>\n",
              "  </tbody>\n",
              "</table>\n",
              "</div>\n",
              "      <button class=\"colab-df-convert\" onclick=\"convertToInteractive('df-3832292f-651a-4cff-bbbc-ef73fb7fef40')\"\n",
              "              title=\"Convert this dataframe to an interactive table.\"\n",
              "              style=\"display:none;\">\n",
              "        \n",
              "  <svg xmlns=\"http://www.w3.org/2000/svg\" height=\"24px\"viewBox=\"0 0 24 24\"\n",
              "       width=\"24px\">\n",
              "    <path d=\"M0 0h24v24H0V0z\" fill=\"none\"/>\n",
              "    <path d=\"M18.56 5.44l.94 2.06.94-2.06 2.06-.94-2.06-.94-.94-2.06-.94 2.06-2.06.94zm-11 1L8.5 8.5l.94-2.06 2.06-.94-2.06-.94L8.5 2.5l-.94 2.06-2.06.94zm10 10l.94 2.06.94-2.06 2.06-.94-2.06-.94-.94-2.06-.94 2.06-2.06.94z\"/><path d=\"M17.41 7.96l-1.37-1.37c-.4-.4-.92-.59-1.43-.59-.52 0-1.04.2-1.43.59L10.3 9.45l-7.72 7.72c-.78.78-.78 2.05 0 2.83L4 21.41c.39.39.9.59 1.41.59.51 0 1.02-.2 1.41-.59l7.78-7.78 2.81-2.81c.8-.78.8-2.07 0-2.86zM5.41 20L4 18.59l7.72-7.72 1.47 1.35L5.41 20z\"/>\n",
              "  </svg>\n",
              "      </button>\n",
              "      \n",
              "  <style>\n",
              "    .colab-df-container {\n",
              "      display:flex;\n",
              "      flex-wrap:wrap;\n",
              "      gap: 12px;\n",
              "    }\n",
              "\n",
              "    .colab-df-convert {\n",
              "      background-color: #E8F0FE;\n",
              "      border: none;\n",
              "      border-radius: 50%;\n",
              "      cursor: pointer;\n",
              "      display: none;\n",
              "      fill: #1967D2;\n",
              "      height: 32px;\n",
              "      padding: 0 0 0 0;\n",
              "      width: 32px;\n",
              "    }\n",
              "\n",
              "    .colab-df-convert:hover {\n",
              "      background-color: #E2EBFA;\n",
              "      box-shadow: 0px 1px 2px rgba(60, 64, 67, 0.3), 0px 1px 3px 1px rgba(60, 64, 67, 0.15);\n",
              "      fill: #174EA6;\n",
              "    }\n",
              "\n",
              "    [theme=dark] .colab-df-convert {\n",
              "      background-color: #3B4455;\n",
              "      fill: #D2E3FC;\n",
              "    }\n",
              "\n",
              "    [theme=dark] .colab-df-convert:hover {\n",
              "      background-color: #434B5C;\n",
              "      box-shadow: 0px 1px 3px 1px rgba(0, 0, 0, 0.15);\n",
              "      filter: drop-shadow(0px 1px 2px rgba(0, 0, 0, 0.3));\n",
              "      fill: #FFFFFF;\n",
              "    }\n",
              "  </style>\n",
              "\n",
              "      <script>\n",
              "        const buttonEl =\n",
              "          document.querySelector('#df-3832292f-651a-4cff-bbbc-ef73fb7fef40 button.colab-df-convert');\n",
              "        buttonEl.style.display =\n",
              "          google.colab.kernel.accessAllowed ? 'block' : 'none';\n",
              "\n",
              "        async function convertToInteractive(key) {\n",
              "          const element = document.querySelector('#df-3832292f-651a-4cff-bbbc-ef73fb7fef40');\n",
              "          const dataTable =\n",
              "            await google.colab.kernel.invokeFunction('convertToInteractive',\n",
              "                                                     [key], {});\n",
              "          if (!dataTable) return;\n",
              "\n",
              "          const docLinkHtml = 'Like what you see? Visit the ' +\n",
              "            '<a target=\"_blank\" href=https://colab.research.google.com/notebooks/data_table.ipynb>data table notebook</a>'\n",
              "            + ' to learn more about interactive tables.';\n",
              "          element.innerHTML = '';\n",
              "          dataTable['output_type'] = 'display_data';\n",
              "          await google.colab.output.renderOutput(dataTable, element);\n",
              "          const docLink = document.createElement('div');\n",
              "          docLink.innerHTML = docLinkHtml;\n",
              "          element.appendChild(docLink);\n",
              "        }\n",
              "      </script>\n",
              "    </div>\n",
              "  </div>\n",
              "  "
            ]
          },
          "metadata": {},
          "execution_count": 37
        }
      ]
    },
    {
      "cell_type": "markdown",
      "source": [
        "**Medidas de Centralidade e Variabilidade**"
      ],
      "metadata": {
        "id": "J8yEH1vdIy7X"
      }
    },
    {
      "cell_type": "code",
      "source": [
        "from scipy import stats"
      ],
      "metadata": {
        "id": "X4H10PqjI41i"
      },
      "execution_count": null,
      "outputs": []
    },
    {
      "cell_type": "code",
      "source": [
        "jogadores = [40000, 18000, 12000, 250000, 30000, 140000, 300000, 40000, 800000 ]\n",
        "print(\"Essa é a média dos salários dos jogadores: \",np.mean(jogadores))\n",
        "print(\"Essa é a mediana dos salários dos jogadores: \",np.median(jogadores))"
      ],
      "metadata": {
        "colab": {
          "base_uri": "https://localhost:8080/"
        },
        "id": "0IhRymDAWUWW",
        "outputId": "789f67f5-8f05-48aa-a228-b059f9631383"
      },
      "execution_count": null,
      "outputs": [
        {
          "output_type": "stream",
          "name": "stdout",
          "text": [
            "Essa é a média dos salários dos jogadores:  181111.11111111112\n",
            "Essa é a mediana dos salários dos jogadores:  40000.0\n"
          ]
        }
      ]
    },
    {
      "cell_type": "code",
      "source": [
        "#quartis (0%, 25%, 50%, 75% e 100%)\n",
        "quartis = np.quantile(jogadores, [0, 0.25, 0.5, 0.75, 1])\n",
        "quartis"
      ],
      "metadata": {
        "colab": {
          "base_uri": "https://localhost:8080/"
        },
        "id": "Hi0c6Lv0Xhpx",
        "outputId": "c5bcee3a-0181-4571-956a-1cc13afe7335"
      },
      "execution_count": null,
      "outputs": [
        {
          "output_type": "execute_result",
          "data": {
            "text/plain": [
              "array([ 12000.,  30000.,  40000., 250000., 800000.])"
            ]
          },
          "metadata": {},
          "execution_count": 41
        }
      ]
    },
    {
      "cell_type": "code",
      "source": [
        "#desvio padrão\n",
        "np.std(jogadores, ddof=1)"
      ],
      "metadata": {
        "colab": {
          "base_uri": "https://localhost:8080/"
        },
        "id": "fyIOUmtXX7Mq",
        "outputId": "a349b92b-1353-4373-ad13-1d7855a7abfa"
      },
      "execution_count": null,
      "outputs": [
        {
          "output_type": "execute_result",
          "data": {
            "text/plain": [
              "255307.87514511007"
            ]
          },
          "metadata": {},
          "execution_count": 42
        }
      ]
    },
    {
      "cell_type": "code",
      "source": [
        "#visualização das estatísticas\n",
        "stats.describe(jogadores)"
      ],
      "metadata": {
        "colab": {
          "base_uri": "https://localhost:8080/"
        },
        "id": "-cS4X_z-YW7x",
        "outputId": "5ea016a2-09c7-4435-f646-fb857658744b"
      },
      "execution_count": null,
      "outputs": [
        {
          "output_type": "execute_result",
          "data": {
            "text/plain": [
              "DescribeResult(nobs=9, minmax=(12000, 800000), mean=181111.11111111112, variance=65182111111.11111, skewness=1.758635899846188, kurtosis=1.9572075427527729)"
            ]
          },
          "metadata": {},
          "execution_count": 43
        }
      ]
    },
    {
      "cell_type": "markdown",
      "source": [
        "**Distribuição Normal**\n",
        "\n",
        "Mostra como os dados estão distribuidos.\n",
        "\n",
        "Formato sinuoso ao centro mostra dados normamelmente distribuídos.\n"
      ],
      "metadata": {
        "id": "tFmUxLsUI6N1"
      }
    },
    {
      "cell_type": "code",
      "source": [
        "from scipy.stats import norm"
      ],
      "metadata": {
        "id": "JOsi5TsRJCsz"
      },
      "execution_count": null,
      "outputs": []
    },
    {
      "cell_type": "code",
      "source": [
        "#objetos em uma cesta, média = 8 desvio padrão =2\n",
        "print(\"Probabilidade de tirar um objeto de peso < que 6 quilos: \", norm.cdf(6,8,2))\n",
        "print(\"Probabilidade de tirar um objeto de peso > que 6 quilos: \", norm.sf(6,8,2)) #ou 1 - norm.cdf(6,8,2))\n",
        "print(\"Probabilidade de tirar um objeto de peso < que 6 quilos e > que 8 quilos: \",norm.cdf(6, 8, 2 ) + norm.sf(10, 8, 2))\n",
        "print(\"Probabilidade de tirar um objeto de peso < que 10 quilos e > que 8 quilos\",norm.cdf(10, 8, 2) - norm.cdf(8, 8, 2))\n"
      ],
      "metadata": {
        "colab": {
          "base_uri": "https://localhost:8080/"
        },
        "id": "TQV1UmDDc7VY",
        "outputId": "62e5fc4e-9126-42e0-c03a-7e3f02911c47"
      },
      "execution_count": null,
      "outputs": [
        {
          "output_type": "stream",
          "name": "stdout",
          "text": [
            "Probabilidade de tirar um objeto de peso < que 6 quilos:  0.15865525393145707\n",
            "Probabilidade de tirar um objeto de peso > que 6 quilos:  0.8413447460685429\n",
            "Probabilidade de tirar um objeto de peso < que 6 quilos e > que 8 quilos:  0.31731050786291415\n",
            "Probabilidade de tirar um objeto de peso < que 10 quilos e > que 8 quilos 0.3413447460685429\n"
          ]
        }
      ]
    },
    {
      "cell_type": "markdown",
      "source": [
        "**Teste de Normalidade**"
      ],
      "metadata": {
        "id": "KeeG4GabJDeo"
      }
    },
    {
      "cell_type": "code",
      "source": [
        "from scipy.stats import skewnorm\n",
        "import matplotlib.pyplot as plt"
      ],
      "metadata": {
        "id": "RcqDmEPsJJIx"
      },
      "execution_count": null,
      "outputs": []
    },
    {
      "cell_type": "markdown",
      "source": [
        "Dados normalmente distribuídos"
      ],
      "metadata": {
        "id": "JJi77Kkji2se"
      }
    },
    {
      "cell_type": "code",
      "source": [
        "#Criação de uma variável com dados em uma distribuição normal com a função rvs\n",
        "dados = norm.rvs(size=1000)\n",
        "dados"
      ],
      "metadata": {
        "colab": {
          "base_uri": "https://localhost:8080/"
        },
        "id": "KzZ2sppDfuk8",
        "outputId": "93bdb948-5a43-498c-897e-64c758f693a7"
      },
      "execution_count": null,
      "outputs": [
        {
          "output_type": "execute_result",
          "data": {
            "text/plain": [
              "array([ 1.16104057e+00, -3.04241815e-01,  1.11030908e+00,  3.24091161e-02,\n",
              "        8.77555921e-01, -6.16239833e-02, -2.01157655e+00, -8.75535009e-01,\n",
              "        8.35514053e-02,  1.26005978e+00, -2.26152746e-01, -1.02911840e+00,\n",
              "       -3.72327393e-01, -5.60467381e-01,  2.32572235e+00, -8.04471933e-01,\n",
              "       -1.34357414e-01, -1.71897033e+00,  4.81848398e-01, -8.91057486e-01,\n",
              "       -1.01319119e+00,  2.56431406e-01, -8.81210667e-01, -2.21920935e-01,\n",
              "       -1.59736004e-01, -4.19358359e-01, -2.08478064e-01, -2.10625259e+00,\n",
              "        9.68992167e-01,  8.86926545e-02, -7.66239488e-01, -6.35827955e-02,\n",
              "       -1.30305710e+00, -1.25668839e+00,  9.72347633e-02, -2.81665862e-01,\n",
              "       -6.93943961e-01, -1.44375995e+00, -6.79122800e-01, -2.85674763e-01,\n",
              "        1.69663609e+00,  6.32965217e-01, -7.36562314e-01,  4.35528140e-01,\n",
              "       -4.38592680e-01,  9.80998358e-01, -1.64984745e+00, -1.42513574e+00,\n",
              "        1.43344691e-01, -1.22087628e+00, -4.93943112e-01,  1.00233637e+00,\n",
              "        2.58936228e-01, -8.41659440e-01,  3.63471361e-02,  2.76429986e+00,\n",
              "        8.72758158e-01,  1.00797079e+00, -1.19006071e+00, -1.00857873e+00,\n",
              "       -9.36089809e-01, -1.56536977e-01,  1.44365673e+00, -1.34796910e-01,\n",
              "        4.32731830e-01, -1.58848080e+00,  1.17264935e+00, -4.61665364e-01,\n",
              "       -2.01722116e+00, -1.20120306e+00,  1.53835501e+00, -4.85234149e-01,\n",
              "       -9.91168150e-01,  1.41712941e-01, -1.15574499e+00, -5.77887862e-01,\n",
              "       -2.63290744e+00, -8.51311157e-01, -1.44963208e+00, -6.55536714e-01,\n",
              "       -8.85480757e-02,  4.89454667e-01, -1.72161760e-01, -2.68521436e-01,\n",
              "       -5.04120892e-01,  5.85200260e-01, -1.19746364e+00, -7.78312010e-01,\n",
              "        5.39814520e-01,  1.34895494e+00, -1.37456836e+00, -6.28157757e-01,\n",
              "        9.80276079e-01,  1.95965100e-02,  9.77833615e-01,  3.49885389e-01,\n",
              "       -2.91167377e-01, -9.08819230e-01,  9.43571818e-01, -5.89600304e-02,\n",
              "        3.28734800e-02, -4.49008516e-01, -7.05821882e-01,  1.46305641e+00,\n",
              "       -1.24703410e-01,  2.20327230e-02, -1.28906109e-01,  1.53421001e+00,\n",
              "       -1.51413449e-01, -3.35574041e-01,  6.36949633e-01, -9.85851027e-02,\n",
              "        6.21736293e-01, -6.68606891e-01, -3.54869063e-01, -1.66854874e+00,\n",
              "       -1.54228343e+00, -9.31574439e-01,  4.85187322e-01, -8.85823304e-01,\n",
              "        1.37104274e+00,  8.12326073e-01, -5.88404153e-01,  9.55383801e-01,\n",
              "        8.00857090e-01,  1.64785969e+00,  1.88046064e-01, -5.74771660e-01,\n",
              "       -1.77996450e-01,  7.09396758e-01,  1.60346534e+00,  1.69360368e-03,\n",
              "       -1.26981571e+00,  7.99375924e-01,  1.28671290e+00, -1.02770971e+00,\n",
              "       -4.76854232e-01,  1.88419525e+00, -4.16959210e-01, -9.11894360e-02,\n",
              "       -1.25808173e+00, -3.62568449e-01, -8.90772275e-02,  7.94550345e-01,\n",
              "        5.64091822e-01, -3.49324906e-01, -4.06352225e-01,  7.81002359e-01,\n",
              "        3.06717079e-01, -1.35393621e-01,  1.25241154e+00, -1.17082529e+00,\n",
              "       -9.80846579e-01,  7.78528513e-01,  1.05859937e+00,  2.48000910e-01,\n",
              "        1.03750188e+00, -1.01207464e+00, -2.39784771e+00, -5.13898362e-01,\n",
              "        4.54979550e-01, -1.07217477e-01,  1.12598084e-01, -5.17007518e-02,\n",
              "       -6.14364137e-01,  7.11715333e-01,  1.54881877e+00,  2.31228840e-01,\n",
              "        1.74940077e+00, -9.76335068e-01,  1.59371358e-01, -3.02035913e+00,\n",
              "       -6.96758699e-01,  1.06239175e+00, -1.03258166e+00,  3.36881829e-01,\n",
              "       -5.48853463e-01, -5.31031614e-01, -8.72089010e-01, -5.52036153e-01,\n",
              "        3.01190564e+00,  1.81720310e+00,  2.35744698e-01, -8.97132695e-01,\n",
              "       -2.06499700e-01, -4.25980581e-01,  8.94529914e-01, -1.61571504e+00,\n",
              "        3.66162925e-01,  2.27400889e+00, -9.72855462e-01, -9.43030379e-01,\n",
              "       -5.78974229e-01,  1.38046699e+00,  5.05615708e-01, -2.03768821e+00,\n",
              "        7.54994770e-01,  1.78897507e+00, -8.83589345e-01, -1.75343028e+00,\n",
              "        2.86534309e-01,  7.61497763e-01, -1.62596623e+00,  7.83237141e-01,\n",
              "       -7.54750449e-01,  7.36034344e-02,  3.17991899e-01,  1.27326479e-01,\n",
              "        1.88601221e+00,  2.42483173e-01, -1.70745331e-01, -8.26296334e-01,\n",
              "       -1.61808714e-01, -3.58832670e-01,  1.21115912e+00, -4.23937113e-01,\n",
              "        1.02628828e+00,  5.09189754e-01, -7.76700260e-01, -1.22911998e+00,\n",
              "       -1.43476727e+00,  2.98657514e-01,  5.04233465e-01,  1.12119256e+00,\n",
              "       -1.33938016e+00,  6.76958865e-01, -2.18497478e+00,  3.18675060e-01,\n",
              "       -1.42113214e+00, -3.44976495e-01,  5.81861405e-01, -1.47153906e+00,\n",
              "        6.99840319e-02, -2.52995442e+00,  1.72077916e-01,  3.54371395e-01,\n",
              "        9.80717996e-02, -1.31258739e+00,  1.50814437e+00, -6.28925942e-01,\n",
              "        1.76039700e+00,  9.03101947e-01, -1.58842578e+00, -4.57951677e-01,\n",
              "        1.67413416e-01, -2.28232405e+00,  8.21693381e-01, -1.13348162e-01,\n",
              "        1.99866907e+00,  2.42136724e+00,  1.48391500e+00,  3.35923552e-01,\n",
              "        1.18245917e+00,  2.48357476e-01, -3.76210367e-01, -3.72966784e-01,\n",
              "       -2.34859910e-01,  8.42303122e-02, -7.10653962e-01, -3.48632232e-01,\n",
              "        1.38174013e-01,  1.36224734e-01,  5.56754423e-01, -1.91465189e-01,\n",
              "        3.93385894e-01,  8.92540482e-01, -1.03850099e+00,  1.06076500e+00,\n",
              "       -6.28135435e-02,  2.72683654e-01, -2.58743373e-01,  9.19623455e-01,\n",
              "       -1.38052172e+00, -2.53782453e-01, -9.14082219e-01,  6.51824936e-01,\n",
              "        5.08770774e-01,  1.02098805e+00,  1.49853447e-01,  5.41424718e-01,\n",
              "       -3.87810792e-01, -3.70437018e-02,  1.24965123e+00,  2.15724076e-01,\n",
              "       -4.72536589e-01,  8.20740742e-01, -1.26039603e-01,  9.38158350e-01,\n",
              "       -8.53379389e-02,  9.97781864e-01, -6.65703516e-01,  3.53811867e-01,\n",
              "       -7.57823454e-01,  1.85295755e+00, -5.14240878e-01,  1.01376455e+00,\n",
              "       -6.77073479e-01, -1.06268592e+00,  1.18582447e+00, -9.98531227e-01,\n",
              "        4.10318806e-01,  8.12242920e-01,  5.16213989e-01, -1.61604985e+00,\n",
              "        2.03074857e-01,  1.30725190e+00,  1.17231264e+00,  6.55333074e-01,\n",
              "        1.59121120e-01, -5.86307793e-02, -7.75350617e-01, -5.47941936e-01,\n",
              "        4.04137810e-01,  8.31055078e-01,  1.03541050e+00, -1.65153685e+00,\n",
              "       -1.16716266e-01,  4.31069097e-01,  4.43659593e-01,  7.47756108e-01,\n",
              "       -1.00808524e+00, -1.61400720e-01, -2.28919939e-01,  4.39909177e-01,\n",
              "        2.18955878e-02,  1.93835238e-01,  3.34802924e-02,  1.09357896e+00,\n",
              "        8.22605558e-01,  8.08632641e-01, -4.72834980e-01, -1.21394999e-03,\n",
              "       -2.65124198e-01, -9.33124863e-01, -5.27323631e-02, -1.10322833e+00,\n",
              "       -1.75040166e+00,  9.75048655e-01, -3.83726191e-01, -1.07485592e-01,\n",
              "       -6.84856276e-01, -4.13080276e-01, -1.69942698e-01,  4.06057869e-01,\n",
              "       -2.35697623e+00, -1.42616387e-01, -9.30445280e-01,  8.69962806e-01,\n",
              "        2.34852576e-01,  9.29549552e-01, -4.03516311e-01, -8.06663817e-01,\n",
              "       -1.41594086e+00, -6.19405680e-01,  1.68383946e-01,  2.54858272e-01,\n",
              "        9.99875118e-01,  5.23394337e-01,  2.65812347e-01,  7.61493432e-01,\n",
              "        1.57489189e-01,  2.61346265e-01,  3.89167291e-01, -3.58337506e-01,\n",
              "       -5.92211363e-01, -1.04939953e+00, -2.09946373e-02, -1.43040706e+00,\n",
              "        1.73787191e-01, -1.43002544e-01, -8.11390610e-01,  1.30789218e-02,\n",
              "        4.97787610e-01,  4.09816312e-01,  1.89077865e+00, -1.09410524e+00,\n",
              "       -5.11647169e-02, -2.64518036e-01, -2.61736148e-01,  3.43874056e-01,\n",
              "        6.07384334e-01, -2.55236083e-01,  9.05815786e-01,  2.55217236e-01,\n",
              "        3.40744665e-01, -2.27632878e+00,  2.10744417e-01,  8.87278463e-02,\n",
              "        1.13623530e+00, -8.63835622e-01, -1.18752976e+00, -1.05635646e+00,\n",
              "        1.51111714e-01, -7.62115580e-01,  6.32299502e-01,  1.30561621e-01,\n",
              "       -1.89951520e-01,  5.78968720e-01,  1.25235790e-01, -8.20371441e-01,\n",
              "       -7.80136023e-01, -3.35555409e-01,  3.45214152e-01, -2.04595084e-01,\n",
              "       -9.31212851e-01,  8.10762141e-01, -5.84957594e-02,  1.19167909e+00,\n",
              "       -7.46917868e-01, -1.81827843e+00,  1.59724954e+00, -3.05845715e+00,\n",
              "       -2.39857400e-01, -1.55511603e-01,  9.51514163e-02,  2.07947050e+00,\n",
              "        2.90983004e-01, -9.77665407e-01,  4.72757387e-01, -1.75354974e+00,\n",
              "        5.04450929e-01,  1.10572326e-01, -1.43986842e-01, -8.63519023e-01,\n",
              "       -1.00400064e+00,  1.89364900e-01,  1.63135425e-01, -9.48103723e-01,\n",
              "        5.25278782e-01,  3.69889842e-01, -8.40361660e-01, -7.65914843e-01,\n",
              "       -6.19155529e-01, -9.30712067e-01,  1.20137128e+00, -7.29372671e-02,\n",
              "        2.04614961e-01,  2.30399909e+00,  9.18337285e-01, -2.39545763e-01,\n",
              "       -8.67735601e-01, -7.33463081e-01,  1.74461484e-01,  8.43051464e-01,\n",
              "       -9.80815029e-01, -1.06651954e+00, -2.24882532e-01,  2.08045793e-02,\n",
              "       -2.05958323e+00, -3.27580797e-01,  7.94916843e-01,  6.73951493e-01,\n",
              "        1.33320050e-01,  3.64059859e-01, -6.76724934e-01,  7.01366167e-02,\n",
              "        3.52588137e-01, -8.71368927e-01, -7.49145123e-01,  3.39727154e-01,\n",
              "        2.70277449e-02,  4.65270129e-01,  2.53174667e+00,  1.14155455e+00,\n",
              "        8.61565636e-01,  6.08868158e-02, -1.72187475e+00,  2.82616962e+00,\n",
              "        1.35960242e+00, -1.50136768e+00,  2.89165850e+00, -8.23736173e-01,\n",
              "        1.73691733e-01, -8.62342983e-01, -1.12180621e+00,  2.91649950e-01,\n",
              "       -2.63412192e-01,  1.00055275e+00,  1.25925486e+00,  1.21977698e+00,\n",
              "       -5.35079834e-01,  7.25646410e-01, -1.41883023e+00, -4.69459134e-01,\n",
              "       -2.08140400e-01,  8.08955546e-01, -3.14772687e-01, -1.99747316e+00,\n",
              "        3.84240341e-01,  6.22513054e-01,  1.13194746e+00, -5.26833847e-01,\n",
              "        2.23171642e-01,  2.68469785e+00, -9.55284763e-02, -1.67204233e+00,\n",
              "        8.90672935e-01, -9.69435646e-01,  1.39290708e+00, -6.49461566e-01,\n",
              "        1.11772104e+00,  2.63806287e-01,  6.96323214e-01,  9.49389976e-02,\n",
              "       -5.21599878e-01,  1.24390655e+00, -1.61654836e+00, -5.33563897e-01,\n",
              "       -2.11492737e-01,  7.20634438e-01,  1.42183196e+00, -1.39206102e+00,\n",
              "        1.96316707e-01,  2.32014963e-01,  3.86551645e-01,  6.12575375e-01,\n",
              "        1.02864471e+00,  2.00364122e+00, -7.08994846e-01,  6.56261164e-01,\n",
              "       -2.95645677e-01,  1.93485201e-01,  1.28203441e+00, -2.41589484e+00,\n",
              "        4.90073564e-01, -1.18801872e+00, -9.36216822e-01,  3.58877156e-01,\n",
              "       -1.88360735e+00,  2.69797848e-01,  1.15183494e+00,  2.95209331e-01,\n",
              "       -1.12358835e+00, -7.84707399e-02, -5.07760172e-01,  9.30846388e-01,\n",
              "       -6.26695183e-01,  4.74600490e-01, -1.16980245e+00, -5.43554121e-01,\n",
              "        1.72167366e+00, -1.10808206e+00, -1.32184889e+00,  8.81386075e-02,\n",
              "        2.72002240e+00, -3.61914672e-01, -3.51942155e-01,  5.09320323e-01,\n",
              "        8.41793683e-01, -2.73553605e-01,  5.94248877e-01,  6.82064974e-02,\n",
              "        5.00929236e-01, -5.17507126e-01,  7.64002474e-01, -2.06726803e-01,\n",
              "       -5.16414428e-01,  8.59337781e-02,  1.46348002e+00,  1.60059440e+00,\n",
              "       -7.24281591e-01,  1.22877933e+00, -1.63095321e-01, -4.04324914e-01,\n",
              "        8.72943499e-01,  6.11511098e-01, -1.63214168e-01,  6.27366706e-01,\n",
              "       -9.79874576e-01, -1.92193254e-01, -1.45059260e+00,  4.07782987e-02,\n",
              "       -2.34088576e-01, -5.56710582e-01, -5.39184264e-01,  4.50498468e-01,\n",
              "       -8.97659945e-01,  1.24348547e+00, -2.86153257e-01,  7.05693741e-01,\n",
              "       -1.47436496e-01,  6.00954531e-01,  1.00029323e+00,  1.37153554e+00,\n",
              "       -1.18114424e+00, -1.28339877e+00,  2.23228444e+00, -1.33484122e+00,\n",
              "       -4.09840795e-02,  9.26879333e-01,  9.34958074e-02, -7.91364490e-01,\n",
              "        8.01294239e-01, -6.06208961e-01,  1.99312642e+00,  7.14093135e-01,\n",
              "       -1.41332571e-01, -7.30584845e-01,  8.49862458e-01, -2.04690324e+00,\n",
              "       -2.69931609e-01,  8.88832755e-01,  9.11279026e-01, -2.62895173e-02,\n",
              "        1.56842457e+00,  5.24519312e-01,  5.63902960e-01, -3.26176953e-01,\n",
              "        9.92123904e-01,  3.50411148e-01, -3.05871992e-02,  1.78898054e+00,\n",
              "        4.04300624e-03,  1.85757865e-01,  6.10821832e-01, -8.13048626e-01,\n",
              "        1.79759244e-01, -2.87197871e-01,  6.02829612e-01,  1.86829440e+00,\n",
              "       -1.16364599e+00, -1.00018473e+00, -4.83316117e-01,  7.26872499e-01,\n",
              "        9.06654396e-01, -6.92261595e-01, -6.17674827e-01,  7.06514408e-01,\n",
              "        9.55350897e-01,  7.86649057e-01,  6.12919368e-02, -9.41742978e-01,\n",
              "        1.08431420e+00,  2.10173251e-01,  7.01228832e-01, -7.94552008e-01,\n",
              "        4.13004682e-01, -1.95096557e+00, -1.14213544e+00,  6.00083932e-01,\n",
              "       -2.37742154e-01,  9.20711594e-01,  6.35744029e-01, -1.01722162e+00,\n",
              "       -8.82841150e-01,  1.25477108e+00,  6.94023257e-01, -1.38703492e-01,\n",
              "        1.17155462e+00,  1.09155033e+00,  1.12353156e-01,  1.41178921e+00,\n",
              "       -7.56906530e-01,  5.84687519e-01,  8.00565627e-01, -8.94086455e-01,\n",
              "       -6.99783819e-01,  7.95458582e-01, -4.08202728e-01,  1.32584992e+00,\n",
              "       -1.95699495e+00, -3.64447543e-01, -8.11820411e-01, -6.44407014e-01,\n",
              "        1.86610972e+00,  7.72317720e-01,  1.01127298e+00,  1.06556276e+00,\n",
              "        1.33080751e+00,  2.04183425e-02, -6.94657783e-01, -7.37501127e-02,\n",
              "        1.72407430e+00,  4.36932901e-01,  1.29337106e+00,  5.79793953e-03,\n",
              "        2.14059192e+00,  8.20031759e-01, -3.41384022e-01, -1.94320377e-01,\n",
              "       -3.06396611e-02, -7.80789200e-01, -1.45037180e-01,  7.64438625e-01,\n",
              "        1.20231465e+00,  7.98465435e-01,  1.14938273e+00, -1.07150050e+00,\n",
              "       -1.32928200e+00,  6.66065803e-01, -1.05018913e+00,  1.73327856e+00,\n",
              "       -6.43967395e-01,  1.45501515e+00, -6.12459338e-01, -1.13209128e+00,\n",
              "        2.65998435e+00, -4.54707927e-03, -8.28101390e-02,  2.22156349e+00,\n",
              "        9.55973242e-02, -1.06307075e-01, -6.16189515e-02, -4.01831156e-01,\n",
              "       -3.23853946e-01, -4.30521375e-01,  1.29721122e+00,  8.37918361e-01,\n",
              "        6.78900866e-01, -1.03283825e+00,  3.30636381e-01,  1.02939744e+00,\n",
              "       -8.46267888e-02, -7.27447510e-01, -1.59742871e+00,  3.64174233e-01,\n",
              "       -1.41680950e+00, -6.40518275e-01, -4.34948665e-01,  7.10497874e-01,\n",
              "        1.98965827e+00,  7.12030461e-01,  1.92359405e-01,  8.05504938e-01,\n",
              "       -2.27533603e+00, -1.10247209e+00,  2.57260918e-01,  2.33433482e-01,\n",
              "        1.20553354e-01,  1.81783577e+00,  5.63741682e-01,  6.21224696e-01,\n",
              "        4.18037816e-01,  1.25619261e+00,  2.49492427e-01, -9.41810208e-01,\n",
              "       -5.42764088e-01,  2.92234850e-01, -9.41400858e-01,  1.24283289e+00,\n",
              "        4.84286740e-01, -5.84808961e-01,  5.89870994e-01, -2.57435547e-01,\n",
              "       -9.37797855e-01, -2.34753036e+00,  4.33514595e-01, -1.22163757e+00,\n",
              "        9.97817906e-01,  8.52159348e-01,  1.39615937e-01,  4.47431349e-02,\n",
              "        5.67245600e-01, -5.49872943e-01, -6.23683901e-02, -8.79389496e-01,\n",
              "        9.63228871e-01,  1.66823943e+00,  9.80253070e-01, -9.44438372e-01,\n",
              "       -8.04727107e-01,  1.49820908e+00, -1.08849107e+00, -1.09329783e+00,\n",
              "       -5.00837987e-01,  1.05862961e+00, -2.61676024e-01, -2.65132951e-01,\n",
              "        3.39543990e-01,  1.10253820e+00,  1.96546107e+00,  1.03807434e-03,\n",
              "       -1.59440585e+00,  7.29633693e-01,  9.31649014e-02,  1.58668856e+00,\n",
              "        1.39227111e+00,  1.02399793e+00, -6.39433519e-01, -1.89224444e+00,\n",
              "       -1.22585414e+00, -1.21114007e+00, -1.02608525e-01, -9.78666268e-01,\n",
              "       -1.68844331e+00,  3.56846214e-02,  7.13781563e-01,  6.81145474e-01,\n",
              "        2.82975126e-01,  6.27431326e-01,  8.63032626e-01,  5.58636437e-01,\n",
              "       -2.58316245e+00, -8.39575195e-01,  7.26237304e-01, -1.15410688e+00,\n",
              "        1.73290952e-01,  1.01838833e+00,  3.51018228e+00,  3.89498330e-02,\n",
              "        2.51014664e-01,  4.12291234e-02,  9.89490270e-01,  3.30591761e-01,\n",
              "       -7.77329745e-01, -1.07903447e-02,  1.23845598e+00,  2.80639869e-02,\n",
              "        4.20822089e-01,  1.19000581e+00, -1.78803647e-01,  1.19990665e-01,\n",
              "       -5.71962895e-02, -2.27334342e-01,  2.85145252e-02, -1.25929558e+00,\n",
              "       -9.50671177e-01, -2.23035551e-01,  1.02322589e+00, -1.09891244e+00,\n",
              "       -1.23935890e+00, -1.76993431e+00,  9.92091288e-01,  5.97228866e-01,\n",
              "        1.51165760e+00, -9.77274145e-01, -6.67630278e-01, -1.79666248e+00,\n",
              "       -1.90421573e-01,  8.22725686e-02, -1.20513499e+00,  9.37055142e-01,\n",
              "        9.22299518e-01,  5.29681615e-02,  1.26607574e+00,  8.78384301e-01,\n",
              "        4.41375851e-01, -1.14007314e-01,  2.05217438e-01, -8.11643298e-01,\n",
              "        8.84289523e-01,  2.09250571e+00,  1.35492670e+00,  8.43188714e-01,\n",
              "        6.40329857e-01,  2.69197204e+00, -2.66079485e-01,  7.78791590e-01,\n",
              "        4.85196976e-01,  9.23973437e-01, -2.55255015e-01, -2.63599733e+00,\n",
              "        2.51153622e-01,  1.68393686e+00, -1.11113867e+00, -2.89798912e-01,\n",
              "       -2.27692443e+00, -4.11368849e-01,  8.20402026e-01, -1.17145502e+00,\n",
              "       -1.42857496e+00, -2.19838877e+00,  7.21933214e-01, -4.09736106e-01,\n",
              "       -5.36656374e-02, -2.07502140e-01, -1.30079910e+00,  1.56345760e+00,\n",
              "       -1.94838133e-01,  7.99236451e-01, -6.00943529e-01, -4.59146993e-01,\n",
              "        9.34480309e-01, -1.21735924e+00,  1.96389244e+00, -3.56233603e-01,\n",
              "        3.35569459e-01, -8.91963119e-01, -1.26073158e+00, -1.39046628e+00,\n",
              "       -1.33034455e+00, -2.03340067e-01, -1.23359330e+00,  2.28017855e-01,\n",
              "       -9.68964229e-01, -2.53514790e+00,  2.20588699e-01,  5.53841849e-04,\n",
              "        9.15561387e-02,  2.92086513e-01,  1.59450450e-01,  1.69403202e+00,\n",
              "        1.85951126e-02, -1.10173483e+00, -6.37873156e-01,  3.09048523e-01,\n",
              "       -7.02456242e-01, -1.36719605e-01, -4.44933533e-01, -1.11423254e+00,\n",
              "        1.61163402e-01,  1.63568901e+00, -1.26631280e+00,  1.90816590e-01,\n",
              "        3.07464059e-01,  6.36083291e-01,  1.49297291e-01,  1.08037221e+00,\n",
              "        1.09640661e+00,  4.76499992e-01,  7.76471714e-01, -1.30989246e+00,\n",
              "       -1.55527476e-03,  1.12184833e+00, -5.09719541e-03, -3.04865611e-01,\n",
              "       -1.78855449e+00, -6.43885844e-01, -2.51705600e+00, -2.01750041e+00,\n",
              "       -1.01080038e+00,  1.25945255e+00,  2.21466801e-01,  1.44044569e+00,\n",
              "        1.32621355e+00, -6.66910724e-02, -1.06070887e-03,  1.63423040e+00,\n",
              "       -1.31306982e+00,  1.83143522e+00, -8.80437754e-01, -1.47944755e+00,\n",
              "        1.44979331e-01,  2.72103874e-01, -1.40258954e+00,  1.92947344e+00,\n",
              "        6.33900904e-02,  1.14592610e+00,  5.55998087e-01,  3.40726130e-01,\n",
              "       -1.27939847e+00,  2.44954923e+00,  2.29820658e-01, -8.34282265e-01,\n",
              "       -1.49795156e-01, -6.53359490e-02, -7.18776686e-01, -2.21310206e-01,\n",
              "        9.81983393e-01,  1.05858531e-01,  1.02209589e+00, -5.24751819e-01,\n",
              "       -7.10716677e-01, -1.14458025e+00,  8.60300998e-01, -1.08409687e+00,\n",
              "        1.11545196e+00, -1.03936079e+00,  3.26477025e-01,  1.12580889e+00,\n",
              "       -1.13725710e+00,  7.68424380e-01, -3.94993839e-01,  1.00068227e+00,\n",
              "       -1.05198674e+00, -5.47213365e-01, -8.13941359e-01, -1.81482536e-01,\n",
              "       -2.17398505e+00,  7.12171729e-01,  1.78643256e+00,  6.98670197e-02,\n",
              "        1.00486235e+00,  8.94975161e-01, -2.70164382e-01,  3.90845335e-01,\n",
              "        1.07710357e+00, -5.94687009e-01, -6.04027673e-01, -9.47987084e-01,\n",
              "        1.92492447e-01, -6.66509021e-02, -1.10768685e-01,  7.78919919e-01,\n",
              "        4.43552254e-01, -2.18838076e-01, -2.34814877e+00,  5.58470728e-01,\n",
              "        3.29268466e-01,  1.43296548e+00,  1.22871809e+00, -4.66998476e-02,\n",
              "       -6.08911391e-01, -1.34239244e+00, -8.40409298e-01, -2.04657927e-01,\n",
              "        9.47728648e-01,  5.50210281e-02,  8.46374472e-01,  1.42679998e+00])"
            ]
          },
          "metadata": {},
          "execution_count": 51
        }
      ]
    },
    {
      "cell_type": "code",
      "source": [
        "#Verificação da distribuição\n",
        "plt.hist(dados, bins=20)\n",
        "plt.title('Dados')"
      ],
      "metadata": {
        "colab": {
          "base_uri": "https://localhost:8080/",
          "height": 298
        },
        "id": "FRCTzCAhf1u_",
        "outputId": "1f1036aa-e343-45b2-9e77-2f97c9982ec8"
      },
      "execution_count": null,
      "outputs": [
        {
          "output_type": "execute_result",
          "data": {
            "text/plain": [
              "Text(0.5, 1.0, 'Dados')"
            ]
          },
          "metadata": {},
          "execution_count": 58
        },
        {
          "output_type": "display_data",
          "data": {
            "text/plain": [
              "<Figure size 432x288 with 1 Axes>"
            ],
            "image/png": "[encoded data removed]"
          },
          "metadata": {
            "needs_background": "light"
          }
        }
      ]
    },
    {
      "cell_type": "code",
      "source": [
        "#Verificação da distribuição\n",
        "fig, ax = plt.subplots()\n",
        "stats.probplot(dados, fit=True, plot=ax)\n",
        "plt.show()"
      ],
      "metadata": {
        "colab": {
          "base_uri": "https://localhost:8080/",
          "height": 295
        },
        "id": "0h5iM1J1glW9",
        "outputId": "f89c9d5b-601f-4941-9f21-c5f48c52721c"
      },
      "execution_count": null,
      "outputs": [
        {
          "output_type": "display_data",
          "data": {
            "text/plain": [
              "<Figure size 432x288 with 1 Axes>"
            ],
            "image/png": "[encoded data removed]"
          },
          "metadata": {
            "needs_background": "light"
          }
        }
      ]
    },
    {
      "cell_type": "code",
      "source": [
        "#Teste de Shapiro \n",
        "#p < 0.05 dados não estão normalemente distribuídos\n",
        "#p > 0.05 dados normalemente distribuídos\n",
        "stats.shapiro(dados)"
      ],
      "metadata": {
        "colab": {
          "base_uri": "https://localhost:8080/"
        },
        "id": "YvLn-nnAgzVS",
        "outputId": "d6058a92-b243-473f-8dcc-bb26d162859b"
      },
      "execution_count": null,
      "outputs": [
        {
          "output_type": "execute_result",
          "data": {
            "text/plain": [
              "ShapiroResult(statistic=0.9982603788375854, pvalue=0.40919235348701477)"
            ]
          },
          "metadata": {},
          "execution_count": 54
        }
      ]
    },
    {
      "cell_type": "markdown",
      "source": [
        "Dados que não estão normalmente distribuídos"
      ],
      "metadata": {
        "id": "3SRutWyqjHf9"
      }
    },
    {
      "cell_type": "code",
      "source": [
        "#Criação de uma variável com dados em uma distribuição anormal\n",
        "dadosB= skewnorm.rvs(4, size=1000)\n",
        "dadosB"
      ],
      "metadata": {
        "colab": {
          "base_uri": "https://localhost:8080/"
        },
        "id": "FE1Uolg_g5TX",
        "outputId": "80d29c18-fc1f-4bd2-aee2-5f7178eaca2a"
      },
      "execution_count": null,
      "outputs": [
        {
          "output_type": "execute_result",
          "data": {
            "text/plain": [
              "array([ 1.01578146e+00,  3.59713529e-01,  4.02540639e-01,  2.61017121e-01,\n",
              "        1.21093331e-02,  1.43235410e+00,  9.31787230e-01,  6.50701207e-01,\n",
              "        3.21575701e-01, -1.15926352e-01,  9.64654578e-01,  1.96735171e-01,\n",
              "        7.51627692e-02, -4.02487490e-02,  7.88514098e-01,  1.22581833e+00,\n",
              "        1.69066332e+00,  8.24000559e-01,  2.97384662e-02,  1.14730363e+00,\n",
              "        2.70094590e-01, -9.49970811e-02,  3.82120107e-01,  6.85538181e-01,\n",
              "        1.14765286e+00,  6.08147055e-01,  1.95555153e+00,  1.81195795e+00,\n",
              "        5.97069596e-01,  2.47838205e+00,  1.65874349e+00,  1.55819367e+00,\n",
              "       -2.09390719e-01,  2.17639950e-01,  6.62088497e-01,  1.50823254e+00,\n",
              "        4.32195573e-01,  7.76249748e-02,  9.02257857e-01,  6.89111426e-01,\n",
              "        1.06831762e-01,  2.24332418e-01,  6.02658883e-01,  8.14621429e-01,\n",
              "        5.46755381e-01, -8.45933497e-02, -1.78809319e-01,  1.32713810e+00,\n",
              "        5.71813134e-01,  2.67077862e-01,  5.37103925e-01, -8.49917125e-02,\n",
              "        1.12872041e+00,  2.84348133e+00,  9.06746568e-01,  1.39544746e+00,\n",
              "        1.22454769e+00,  9.96659991e-01,  6.04782289e-01,  1.17667447e-03,\n",
              "       -3.27989477e-01,  1.35339533e+00,  3.84944347e-01,  4.34015779e-01,\n",
              "        7.84966914e-01,  5.55861790e-01,  3.38808434e-01,  1.30962110e+00,\n",
              "        8.14577950e-01,  6.11054068e-01,  2.74554075e-02,  1.53280961e+00,\n",
              "        1.22624312e+00,  1.08023678e+00,  1.49192330e+00,  2.52870197e-01,\n",
              "       -2.34503752e-01,  1.54159924e-01,  4.79216531e-01,  9.61041963e-01,\n",
              "        4.03988575e-02,  1.78830465e+00,  7.16943875e-01,  4.30043119e-01,\n",
              "        1.14675134e-01, -1.35972055e-01,  1.64029342e+00,  8.96384128e-01,\n",
              "        1.12089377e+00, -1.75649044e-01,  5.94750864e-01,  5.34357888e-01,\n",
              "        1.40072611e+00,  5.87013716e-01,  1.91765216e+00,  7.25987234e-01,\n",
              "        1.40121156e+00,  7.38380333e-01,  8.74469599e-01,  4.85862768e-01,\n",
              "        1.93654250e+00,  6.65155614e-01,  7.01568203e-01,  1.43148158e+00,\n",
              "        1.54140838e+00,  1.92178931e-01,  1.48261497e+00,  1.18032505e+00,\n",
              "        1.31202295e+00,  5.22488060e-01,  1.25710216e-01,  1.38326228e+00,\n",
              "        1.17628775e-01,  8.60224349e-02,  2.39053936e+00,  9.84770740e-01,\n",
              "       -2.60905123e-01,  6.31382548e-01,  6.83327857e-01,  1.00511306e+00,\n",
              "        3.83230056e-01,  3.23256064e-01,  1.13666026e+00,  1.15056857e+00,\n",
              "        3.16029431e-01,  2.80854903e-01,  5.79823722e-01,  2.05305123e-02,\n",
              "        1.40455755e-01,  1.64403347e+00,  2.70931898e-01,  1.72988584e+00,\n",
              "        5.92038827e-01, -1.37365056e-01,  1.25072382e-02,  2.59978574e+00,\n",
              "        8.43003801e-01, -6.48702711e-02,  1.88398549e+00,  1.94922217e+00,\n",
              "        5.85243474e-01,  1.49735597e+00,  9.20840792e-01,  6.79503821e-01,\n",
              "        5.26902822e-01,  1.75637955e+00,  2.53442686e-01,  5.22756485e-01,\n",
              "        2.28667772e+00,  3.48511474e-01,  6.88383992e-01,  9.45699264e-01,\n",
              "        1.46319826e+00,  1.31120181e+00,  2.74182587e-01, -1.55915708e-02,\n",
              "        4.60054526e-01,  6.20482801e-01,  1.09875359e+00,  7.12040230e-01,\n",
              "        6.73906874e-01,  1.32794563e+00,  6.73376736e-01,  9.81051500e-01,\n",
              "        1.64277399e+00,  7.54688924e-01,  3.68796418e-01,  6.17215013e-01,\n",
              "        7.20121203e-01,  8.77032017e-01,  1.70690907e-01, -1.89613982e-01,\n",
              "        9.53717126e-01,  9.06582864e-01,  1.32684361e+00,  8.21167123e-01,\n",
              "        2.31853883e-01,  1.61602187e-01,  7.04620245e-01,  5.59732860e-01,\n",
              "        5.72664660e-01, -2.42234444e-02,  4.71587184e-01,  9.19133732e-01,\n",
              "        4.43747124e-01,  2.40014181e+00,  8.51786267e-01,  7.27626783e-01,\n",
              "        1.29954052e+00,  3.43692204e-01,  6.65601021e-01,  4.30509677e-01,\n",
              "        7.18574411e-01,  9.54822739e-01,  1.75319533e+00,  1.45057110e+00,\n",
              "        1.81462724e-01, -1.43442785e-02,  1.13708078e+00,  3.34131220e+00,\n",
              "        1.39331589e+00,  6.89041823e-01,  1.04924299e+00,  7.05355816e-01,\n",
              "        1.54377644e+00,  1.22705877e+00,  9.14775065e-01,  8.48215883e-01,\n",
              "        1.26935144e+00,  5.25068269e-01,  2.77995758e-01,  1.09337799e+00,\n",
              "        1.25336976e+00,  1.08962286e+00,  2.50890884e+00,  1.67133635e+00,\n",
              "        7.28512839e-01,  1.32724103e+00,  6.74204857e-01, -2.51630740e-01,\n",
              "        5.65828243e-01,  1.08471174e+00,  4.50183722e-01,  3.25947401e-01,\n",
              "        8.08873094e-01,  4.54750647e-02,  7.68951346e-01,  1.52966570e-02,\n",
              "        2.49575673e-01,  2.15715171e-01, -1.48426881e-02,  4.92783494e-01,\n",
              "        8.39491510e-02,  1.65094641e-01,  5.26406223e-01,  6.64467544e-01,\n",
              "        6.51439152e-01,  1.47606538e+00,  1.70223139e+00,  1.87242315e-01,\n",
              "        9.76641297e-01,  8.81146317e-01,  4.29125815e-01,  1.73277059e-01,\n",
              "        1.41584570e+00,  1.07779935e+00,  8.71354155e-01,  8.65181666e-01,\n",
              "        7.56717375e-01,  3.53485890e-01,  9.33709335e-01,  1.31713312e+00,\n",
              "        9.86991147e-01,  2.24636606e-01,  1.09828997e-01,  2.36316824e+00,\n",
              "        4.91793558e-01,  1.18109365e-01, -1.27585110e-01,  1.03740939e+00,\n",
              "        7.13574554e-01,  7.74984529e-01,  1.88527227e-01,  1.07736483e+00,\n",
              "        9.14713408e-01,  5.78664711e-01,  8.53330587e-01,  7.62758516e-01,\n",
              "        1.67259789e+00,  1.45900405e-01,  1.48755118e+00, -7.44267970e-02,\n",
              "       -2.48208543e-01,  6.85251629e-02,  1.98509186e+00,  1.31444274e-01,\n",
              "       -2.16812215e-01,  7.69837742e-01,  1.29577985e+00, -2.12612724e-01,\n",
              "        2.59078398e-02,  6.46256297e-01,  1.03730370e+00,  1.25142723e+00,\n",
              "        9.69514121e-01,  1.36109992e+00,  2.32857385e-01,  8.43208959e-01,\n",
              "        3.81889324e-02, -7.53366032e-02,  4.22251755e-01,  1.25618731e+00,\n",
              "        8.48464506e-01,  1.03375687e+00,  1.50094539e+00,  1.77118918e-01,\n",
              "        1.94449855e+00,  1.12555932e+00,  2.27094760e-01,  9.83221131e-01,\n",
              "        1.67889482e+00,  1.63756887e+00,  6.64664257e-01,  2.20903483e-01,\n",
              "        6.17485752e-01,  6.80944777e-01,  1.61649165e+00, -4.29188851e-01,\n",
              "        1.61250707e+00,  8.73964937e-01, -5.01393221e-01,  4.30975195e-01,\n",
              "        1.18171445e+00,  1.02482429e+00,  1.24378735e+00,  1.03826097e+00,\n",
              "        7.95954495e-01,  1.08528691e+00,  1.87778849e+00,  1.79869616e-01,\n",
              "        1.05582398e+00,  1.45046122e+00,  3.66085487e-01, -1.82256380e-02,\n",
              "        4.95589807e-01,  7.81148919e-01,  1.58497029e+00,  9.45656910e-01,\n",
              "        1.81830591e+00,  1.29316896e+00,  1.12839080e+00,  9.24834200e-01,\n",
              "        9.73166159e-01,  1.36849228e+00,  7.40170014e-01,  6.37025411e-01,\n",
              "        7.40825131e-01,  4.77479884e-01, -7.37564897e-02,  1.20896512e+00,\n",
              "        7.90582085e-02,  9.65049029e-01,  6.44927125e-01,  8.66053094e-02,\n",
              "        6.85170969e-01,  1.14207722e+00, -4.42778684e-01,  1.57008731e-01,\n",
              "        7.27101920e-01,  1.23952793e+00, -1.12982065e-01,  7.05185336e-01,\n",
              "        6.72239546e-01,  7.23949443e-01,  2.75091513e+00,  2.38697665e-01,\n",
              "       -4.04432471e-01,  4.63937635e-01,  6.49341893e-01,  1.00251624e+00,\n",
              "        5.30773366e-01,  9.10379245e-01,  2.69481334e-01,  2.90957750e-01,\n",
              "        1.15932376e-01,  7.02962862e-01,  2.93681630e-02,  1.00003088e+00,\n",
              "       -6.10024752e-02,  1.04263688e+00,  2.12165199e-02,  1.17682194e+00,\n",
              "        1.07387822e+00,  1.36603850e+00, -1.13740738e-02,  6.68959739e-01,\n",
              "        1.33953688e+00,  4.61371065e-01,  1.29646221e+00,  1.94180786e-01,\n",
              "        1.48662855e+00,  3.96777608e-01,  9.93795497e-01,  3.75312272e-01,\n",
              "        1.03257957e+00,  6.41637750e-01,  8.10181927e-01,  4.53236640e-01,\n",
              "        3.36628308e-01,  4.06622562e-01,  7.00267463e-01,  1.70024104e-01,\n",
              "        1.37828292e+00,  3.98796118e-01,  1.01102703e-01,  1.63565009e+00,\n",
              "        6.33429988e-01,  1.28483287e+00,  1.52065454e+00,  8.91015137e-01,\n",
              "        3.16103356e-01,  1.15915377e+00,  7.32562996e-01,  2.31078904e-01,\n",
              "        1.71082672e+00,  1.27681950e+00,  1.73638256e+00,  5.18979475e-02,\n",
              "        8.58470116e-01,  5.95258499e-01,  4.42566708e-02,  2.94610966e-01,\n",
              "        2.34498714e+00,  8.43023248e-02,  1.51918042e-01,  4.13633541e-01,\n",
              "        1.04719639e+00,  3.27682752e-01,  1.40268687e+00,  3.08333343e-01,\n",
              "        5.74780032e-01,  1.31198161e+00,  3.34867969e-01,  8.34121167e-01,\n",
              "        4.68138167e-01,  3.45184633e-01,  5.22833568e-01,  8.01176957e-02,\n",
              "        8.91912637e-01, -3.50865354e-02,  1.70178406e+00,  2.79568293e+00,\n",
              "        1.84824363e+00,  1.49538543e+00,  1.61387939e+00,  1.49238463e+00,\n",
              "        1.27873108e+00,  7.25607121e-01,  2.01870209e-01, -1.56059558e-02,\n",
              "       -2.92348580e-02,  8.32484927e-01,  1.06877013e+00,  6.75790536e-01,\n",
              "        2.72440372e-01, -2.13698717e-02,  1.46742661e+00,  7.03375548e-01,\n",
              "        1.19121680e+00,  1.42252167e+00,  4.98302021e-01,  2.53384271e+00,\n",
              "       -5.76319993e-03,  3.08452780e-01,  1.29355528e+00,  5.17853830e-01,\n",
              "        6.82511843e-01,  1.18809643e-01,  8.24342962e-01,  1.11964577e+00,\n",
              "        1.17447792e-01,  1.56316075e+00,  2.08990059e+00,  2.15662965e-01,\n",
              "        1.48292151e+00,  9.04085517e-01,  9.26672628e-01,  1.87359437e+00,\n",
              "        8.12028342e-01,  6.87027819e-01,  4.65043302e-01,  2.90931783e-01,\n",
              "        2.24689680e+00,  6.28138072e-01,  1.62712047e+00,  1.54612221e+00,\n",
              "        1.15482239e+00,  6.28965044e-02, -5.74888274e-02,  2.17074105e+00,\n",
              "        1.50559286e+00,  5.98005659e-01, -1.13983035e-01,  5.99551423e-01,\n",
              "        1.00465469e-01,  4.90252950e-02,  4.12140300e-01,  3.35806262e-01,\n",
              "        1.96203917e+00,  2.55274252e+00,  7.72339314e-01,  1.91966557e-01,\n",
              "        2.00849573e+00,  7.34677793e-01,  1.52400994e+00,  6.50072928e-01,\n",
              "        1.59759590e+00,  6.83082982e-01,  2.79485303e+00,  1.68536170e+00,\n",
              "        1.05235336e+00, -1.25576168e-01,  9.24740932e-01,  1.92066168e-01,\n",
              "        1.01527922e+00,  4.82370358e-01, -2.39008222e-01,  2.24352179e-01,\n",
              "        1.43290003e+00,  1.21619875e+00,  6.34449679e-01,  3.58840184e-01,\n",
              "        1.87618456e+00, -3.50722126e-01,  2.76459494e+00,  5.99229075e-01,\n",
              "        1.31993071e-01,  7.67693900e-01,  1.27092511e+00,  1.57972096e+00,\n",
              "        9.82776783e-01,  9.75417706e-01,  1.61854717e+00,  7.34096405e-01,\n",
              "        4.42554213e-01,  3.12523951e-02,  1.59055713e+00,  9.77605318e-01,\n",
              "        1.32319040e+00,  1.06396210e+00,  1.33931122e+00,  1.11876598e+00,\n",
              "        2.30699041e-02,  4.72714845e-01,  5.49076307e-01,  1.32093058e+00,\n",
              "        2.23087518e+00,  8.86205253e-01, -7.03121210e-02,  3.15003122e-01,\n",
              "        2.81540423e-01,  7.94321678e-01, -4.61963705e-01,  2.87810341e-01,\n",
              "        9.21036289e-01,  2.06562142e+00,  2.35218352e-01,  5.12109088e-01,\n",
              "        1.41324115e+00,  5.22773262e-01,  1.26755471e+00,  1.83485266e+00,\n",
              "        1.00160621e+00, -5.08632186e-02,  1.74244865e+00,  8.20745987e-01,\n",
              "        1.00096228e-01,  1.60252038e+00,  7.50703403e-01,  4.80031567e-01,\n",
              "        1.61767462e+00,  1.34257840e+00,  3.58407176e-01,  6.74898358e-01,\n",
              "        3.70851184e-01,  1.25264617e+00,  3.55780965e-01, -1.34553503e-01,\n",
              "        6.76599655e-01,  4.63211238e-01, -1.93380357e-01,  1.65127586e-01,\n",
              "        9.54846658e-02,  9.78988582e-02,  1.02410305e+00,  1.15660002e+00,\n",
              "        2.19605363e-01,  7.39368452e-01, -8.17778073e-03,  7.07258252e-01,\n",
              "        6.03818714e-01,  5.95123690e-01,  1.01271107e+00,  4.53420790e-01,\n",
              "        5.13898585e-01,  4.66812377e-01,  9.09394912e-01,  6.29208094e-01,\n",
              "        2.87047889e-01,  1.21780429e+00,  5.61057541e-01,  3.90696626e-01,\n",
              "        9.91469827e-01,  8.50041646e-02, -1.12312646e-01,  1.83346666e+00,\n",
              "        1.37554257e+00,  9.11465426e-01,  1.19008759e+00,  4.60182792e-01,\n",
              "        2.51279815e-01,  1.18671012e+00,  2.14457310e-01,  5.75915828e-01,\n",
              "        7.19156365e-01,  2.68471096e-02,  6.21754266e-01,  1.06328166e+00,\n",
              "        6.83540081e-01,  7.35635407e-01,  1.43567981e+00,  1.31776976e+00,\n",
              "        8.28987035e-01,  1.95258964e+00,  1.76429261e+00,  1.34221091e+00,\n",
              "        9.02128398e-01,  1.68227906e+00,  1.34732733e+00,  5.88444894e-01,\n",
              "        6.45905747e-01,  3.39813300e-01,  9.37577593e-01,  7.55459644e-01,\n",
              "        1.17515842e-01,  4.55297919e-01,  2.69249717e-01,  9.72261100e-01,\n",
              "        2.10867583e+00,  1.50375998e+00,  4.26679794e-01,  7.55556423e-01,\n",
              "        2.72692595e+00,  7.53885856e-01,  1.06708214e+00,  2.01108772e+00,\n",
              "        9.80056738e-01,  1.95757751e+00,  1.09220030e+00,  1.06865050e+00,\n",
              "       -1.34401769e-01,  1.34194244e+00,  8.68906978e-01, -1.97083219e-03,\n",
              "        3.05157836e+00,  4.20051168e-01,  7.16403295e-01,  1.15611294e+00,\n",
              "        7.85103179e-01,  4.83347471e-01,  1.29724381e+00,  3.93089778e-01,\n",
              "       -1.19975655e-01,  3.06581455e-01,  1.11392845e+00,  3.66019475e-01,\n",
              "        5.15641332e-01,  3.41397646e-01,  5.67179141e-01,  1.26745461e+00,\n",
              "        6.12409960e-01,  1.41033794e+00,  1.11986748e+00,  3.75683233e-01,\n",
              "        5.97182217e-01,  9.51490778e-01,  5.49378860e-01,  1.15004295e+00,\n",
              "       -1.57673448e-01,  4.35039974e-01,  7.58733216e-01,  2.42119529e+00,\n",
              "        1.67301804e+00,  7.33621456e-01,  6.71620361e-01,  6.07653376e-01,\n",
              "        1.03807720e+00,  5.61470582e-01,  1.27295849e+00,  1.48641902e+00,\n",
              "        1.00094983e+00,  1.29190087e+00,  1.69802699e+00,  9.19974160e-02,\n",
              "        1.99396166e+00,  9.07518495e-01,  1.39704328e+00,  1.38507318e+00,\n",
              "        8.54430835e-01,  5.86402147e-01,  7.76409685e-01,  5.39026510e-01,\n",
              "       -1.33450891e-01,  5.06032402e-01,  9.54976399e-01,  5.71813808e-01,\n",
              "        2.48235347e-01,  1.19222606e-01,  8.36934466e-01,  1.28628213e+00,\n",
              "        1.22963150e+00,  1.05407740e-01,  7.65512132e-01,  1.71010740e+00,\n",
              "        1.84459332e+00,  5.60287204e-01,  1.49117933e+00,  1.67895521e+00,\n",
              "        6.51230217e-01,  1.35051527e+00,  8.96075735e-02,  2.14435788e+00,\n",
              "        7.66541132e-01,  1.93921353e-01,  1.53453035e+00,  1.98178298e+00,\n",
              "        9.19140806e-01,  1.37500899e-01,  1.38229704e+00, -4.98692303e-03,\n",
              "        1.88523284e-01,  8.34173445e-01,  1.46247370e+00,  1.54173910e+00,\n",
              "        2.20034007e-01,  1.39429961e+00,  4.07737097e-01, -5.09611299e-02,\n",
              "        5.16661218e-01,  1.22354358e+00,  1.41755121e+00,  1.05721940e+00,\n",
              "        8.11407806e-01,  2.20768871e+00,  9.47997849e-01,  2.98501418e-03,\n",
              "        1.42759934e+00, -2.65798440e-01,  9.93709818e-01,  6.67862409e-01,\n",
              "        9.72897452e-01,  7.35429935e-01,  1.14247399e+00,  1.46418130e+00,\n",
              "        5.80684888e-01,  4.30302105e-01, -7.70578722e-02,  4.99771555e-01,\n",
              "        5.96641601e-01,  5.07563568e-01,  7.36758156e-01,  2.42339308e+00,\n",
              "        1.56765647e+00,  7.19389230e-01,  2.19258382e-01,  2.05180825e+00,\n",
              "        1.09288995e+00,  1.76085882e+00,  1.79192377e+00,  9.73241412e-01,\n",
              "        2.01098487e+00,  1.42645874e+00,  2.50326035e-01,  1.14970458e+00,\n",
              "        1.91398345e+00,  4.77602268e-01,  6.95999211e-01,  5.15231214e-01,\n",
              "        1.17382988e+00,  1.48899087e+00,  5.82616434e-01,  2.23492698e+00,\n",
              "        7.76170080e-01,  1.63898196e+00,  8.98572785e-01,  1.68471446e+00,\n",
              "       -2.05882947e-01,  1.18220277e+00,  2.56658870e-01,  1.10039210e+00,\n",
              "        3.52418064e-01,  1.02304820e-02,  1.32894889e-01,  7.92426234e-01,\n",
              "        8.94769534e-01,  7.45718065e-01,  1.27442811e-01,  3.88655375e-01,\n",
              "        1.43170365e+00,  1.58429951e+00,  1.09050730e-01,  3.06151652e-01,\n",
              "        8.20800429e-01,  6.87776021e-01,  8.82326987e-01,  1.93428934e+00,\n",
              "        6.65022412e-01,  7.17353583e-01,  1.18209475e-01,  8.60423495e-01,\n",
              "        5.02618649e-01,  3.21723385e-01,  1.17210162e+00,  5.76644811e-01,\n",
              "       -9.36568852e-02,  1.63958167e+00,  7.04158227e-01,  1.73852660e-01,\n",
              "        2.59185491e-01,  3.39199761e-01,  1.43832243e-01,  8.13573925e-01,\n",
              "        7.45547357e-01,  5.77123346e-01,  2.53424946e-01,  1.12423986e+00,\n",
              "        1.39776784e+00,  9.84788766e-01,  6.66006614e-02,  2.10180576e+00,\n",
              "        4.66190935e-01,  1.65962741e-01,  1.26064610e-01,  1.12974439e+00,\n",
              "        1.49817021e+00,  1.68159573e+00,  1.51546022e+00, -5.80578391e-02,\n",
              "        4.03158004e-01,  3.09397829e-01,  7.89106310e-01,  1.19975241e+00,\n",
              "        4.94349186e-03,  1.57894760e+00,  4.44573529e-01,  4.00696273e-01,\n",
              "        3.56910112e-01,  7.71025277e-01,  9.27765625e-01,  2.42588974e+00,\n",
              "        4.66274303e-01,  2.63097256e-01,  1.29218366e+00,  2.20480131e-01,\n",
              "       -1.53887916e-01,  3.67362048e-01,  2.82740577e-01,  2.81178838e-02,\n",
              "       -9.33783040e-02,  7.66417050e-01,  3.13264899e+00,  3.67243119e-01,\n",
              "        7.39344378e-01,  2.20589628e-01, -1.62041396e-01,  6.13028096e-01,\n",
              "        1.46194576e+00,  1.28642203e+00,  4.72092357e-01,  3.52969987e-01,\n",
              "        6.11917334e-01,  4.56661864e-01,  1.29652532e+00,  7.40858901e-01,\n",
              "        1.49188866e+00, -5.42522838e-02,  1.93015246e+00, -3.50813817e-02,\n",
              "        1.30170004e+00,  1.28950859e+00,  6.31665699e-01,  9.42831147e-01,\n",
              "        1.24245437e+00,  3.18735334e-01,  3.28299732e-01,  3.91571084e-01,\n",
              "        1.55294436e+00,  1.75972523e+00, -2.32694912e-02,  7.73537399e-01,\n",
              "        7.43022778e-01,  1.24832923e+00,  4.79459764e-01, -9.43202088e-02,\n",
              "        1.26684195e+00,  7.16551781e-01,  2.01934362e+00,  1.84139895e-01,\n",
              "        7.53709811e-01,  6.20336344e-01,  2.01930313e-01,  5.20679746e-01,\n",
              "        1.83107084e-01,  2.55863847e-01,  5.13556110e-01,  9.92452746e-02,\n",
              "        3.92752038e-01,  7.13530360e-01,  8.95495044e-01,  5.94457549e-02,\n",
              "        1.01501931e+00,  1.23519579e+00,  3.03861015e-01,  2.34904075e+00,\n",
              "       -2.19048195e-01,  1.58078319e+00,  1.67141099e-01,  2.29905258e+00,\n",
              "        1.87083921e+00,  1.05011872e-01,  1.69623775e+00,  1.71409624e+00,\n",
              "        6.17103632e-01,  1.38028391e+00,  1.97652700e+00,  6.23414979e-01,\n",
              "        5.78668291e-01,  7.25447759e-01,  1.05939676e+00,  5.72215504e-01,\n",
              "        1.15085618e+00,  1.46080695e+00,  1.64336801e-01,  5.37830752e-01,\n",
              "        5.49622862e-01,  8.16361999e-01,  1.14450620e+00,  2.15261975e+00,\n",
              "        2.27700119e+00,  4.27379137e-01,  1.31220099e+00,  1.05055343e+00,\n",
              "        7.07937767e-01,  1.26956096e+00,  1.07588983e+00,  6.26298406e-01,\n",
              "        1.82807453e+00,  1.30264525e+00,  1.29776449e-01,  1.32790141e+00,\n",
              "        1.57747493e+00,  6.62836326e-01,  3.57938180e-01,  3.96936803e-01,\n",
              "        1.05003608e+00,  1.54461097e-01,  1.16527653e+00,  4.37862565e-01,\n",
              "        3.75777452e-01,  8.53861596e-01,  1.64149867e+00, -6.91560006e-02,\n",
              "        1.01136882e+00,  8.68709872e-01,  8.88264422e-01,  1.92140977e-01,\n",
              "        6.71246159e-01,  1.17865138e+00,  9.64950066e-01,  1.21633765e+00,\n",
              "       -5.71638047e-02,  1.20669425e+00,  1.25581603e+00, -4.00536256e-01,\n",
              "        1.14662188e+00, -1.92224744e-02, -1.84196772e-01,  1.13129646e+00,\n",
              "        1.05033839e+00,  2.85378337e-02,  8.43314982e-01, -3.05062397e-02,\n",
              "        1.07620443e+00,  2.02206733e-01,  1.95836023e-01,  6.25324067e-01,\n",
              "        2.31248831e-01,  1.05817664e+00,  6.33744303e-01,  1.41864741e+00,\n",
              "        3.47570272e-01, -2.09574444e-01,  8.00731415e-01, -3.90359979e-01,\n",
              "        1.33190690e+00,  1.09634723e+00,  4.00056162e-01,  7.87648147e-01,\n",
              "        8.15865028e-01,  1.03440053e+00,  9.29233635e-01,  5.12557539e-01,\n",
              "       -2.07685587e-01,  7.71753722e-01,  1.42614786e+00, -1.12372590e-01,\n",
              "        1.36382683e+00,  7.82946483e-01,  1.41635137e+00, -2.61286983e-02])"
            ]
          },
          "metadata": {},
          "execution_count": 61
        }
      ]
    },
    {
      "cell_type": "code",
      "source": [
        "plt.hist(dadosB, bins=20)\n",
        "plt.title('Dados')"
      ],
      "metadata": {
        "colab": {
          "base_uri": "https://localhost:8080/",
          "height": 298
        },
        "id": "g68N1sb7jYF-",
        "outputId": "b218b539-03b3-4b60-b321-48701a12afdc"
      },
      "execution_count": null,
      "outputs": [
        {
          "output_type": "execute_result",
          "data": {
            "text/plain": [
              "Text(0.5, 1.0, 'Dados')"
            ]
          },
          "metadata": {},
          "execution_count": 62
        },
        {
          "output_type": "display_data",
          "data": {
            "text/plain": [
              "<Figure size 432x288 with 1 Axes>"
            ],
            "image/png": "[encoded data removed]"
          },
          "metadata": {
            "needs_background": "light"
          }
        }
      ]
    },
    {
      "cell_type": "code",
      "source": [
        "fig, ax= plt.subplots()\n",
        "stats.probplot(dadosB, fit=True, plot=ax)\n",
        "plt.show()"
      ],
      "metadata": {
        "colab": {
          "base_uri": "https://localhost:8080/",
          "height": 295
        },
        "id": "0POYwnjmj1oq",
        "outputId": "d738018c-91d6-42fb-b478-dd1b1d5ddd80"
      },
      "execution_count": null,
      "outputs": [
        {
          "output_type": "display_data",
          "data": {
            "text/plain": [
              "<Figure size 432x288 with 1 Axes>"
            ],
            "image/png": "[encoded data removed]"
          },
          "metadata": {
            "needs_background": "light"
          }
        }
      ]
    },
    {
      "cell_type": "code",
      "source": [
        "#Teste de Shapiro \n",
        "#p < 0.05 dados não estão normalemente distribuídos\n",
        "#p > 0.05 dados normalemente distribuídos\n",
        "stats.shapiro(dadosB)"
      ],
      "metadata": {
        "colab": {
          "base_uri": "https://localhost:8080/"
        },
        "id": "N-VDX2gakFuf",
        "outputId": "f8e88722-a5bd-457b-ee49-254c3ec66337"
      },
      "execution_count": null,
      "outputs": [
        {
          "output_type": "execute_result",
          "data": {
            "text/plain": [
              "ShapiroResult(statistic=0.9734974503517151, pvalue=1.5366184887011247e-12)"
            ]
          },
          "metadata": {},
          "execution_count": 65
        }
      ]
    }
  ]
}