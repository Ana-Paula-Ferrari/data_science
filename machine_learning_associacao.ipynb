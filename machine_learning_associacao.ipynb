{
  "nbformat": 4,
  "nbformat_minor": 0,
  "metadata": {
    "colab": {
      "provenance": [],
      "authorship_tag": "ABX9TyOrOVSwFigaBWvRoxZY7csw"
    },
    "kernelspec": {
      "name": "python3",
      "display_name": "Python 3"
    },
    "language_info": {
      "name": "python"
    }
  },
  "cells": [
    {
      "cell_type": "markdown",
      "source": [
        "#**Regras de Associação**\n",
        "\n",
        "Busca a relação entre itens"
      ],
      "metadata": {
        "id": "UOJQeNrGOi4L"
      }
    },
    {
      "cell_type": "markdown",
      "source": [
        "Suporte -> Nº de transações que contém todos os itens da transação.\n",
        "\n",
        "Confiança -> Proporção de vees que em uma transação contendo o elemento A também tem B.\n",
        "\n",
        "Lift -> O quanto aumenta a frequência de B com a ocorrência de A."
      ],
      "metadata": {
        "id": "9Z7ShYpsI0gJ"
      }
    },
    {
      "cell_type": "code",
      "source": [
        "#pip install apyori"
      ],
      "metadata": {
        "colab": {
          "base_uri": "https://localhost:8080/"
        },
        "id": "VNTXLGmyEsWX",
        "outputId": "3996db2a-6679-4437-845e-e6b7c2bb4e85"
      },
      "execution_count": null,
      "outputs": [
        {
          "output_type": "stream",
          "name": "stdout",
          "text": [
            "Looking in indexes: https://pypi.org/simple, https://us-python.pkg.dev/colab-wheels/public/simple/\n",
            "Collecting apyori\n",
            "  Downloading apyori-1.1.2.tar.gz (8.6 kB)\n",
            "  Preparing metadata (setup.py) ... \u001b[?25l\u001b[?25hdone\n",
            "Building wheels for collected packages: apyori\n",
            "  Building wheel for apyori (setup.py) ... \u001b[?25l\u001b[?25hdone\n",
            "  Created wheel for apyori: filename=apyori-1.1.2-py3-none-any.whl size=5956 sha256=0af9f1e92e0a043e20dd0f67c5397610071259b2664fd2e667844686f8aa309a\n",
            "  Stored in directory: /root/.cache/pip/wheels/c4/1a/79/20f55c470a50bb3702a8cb7c94d8ada15573538c7f4baebe2d\n",
            "Successfully built apyori\n",
            "Installing collected packages: apyori\n",
            "Successfully installed apyori-1.1.2\n"
          ]
        }
      ]
    },
    {
      "cell_type": "code",
      "execution_count": null,
      "metadata": {
        "id": "Ap6dcxIOOh1X"
      },
      "outputs": [],
      "source": [
        "import pandas as pd\n",
        "from apyori import apriori"
      ]
    },
    {
      "cell_type": "code",
      "source": [
        "dados = pd.read_csv('/transacoes.txt', header=None)\n",
        "dados"
      ],
      "metadata": {
        "colab": {
          "base_uri": "https://localhost:8080/",
          "height": 238
        },
        "id": "GkOQI_7KE05u",
        "outputId": "ed23191f-8ef3-40fe-c2fb-b9ebd6629c07"
      },
      "execution_count": null,
      "outputs": [
        {
          "output_type": "execute_result",
          "data": {
            "text/plain": [
              "         0        1        2\n",
              "0  Cerveja    Pizza  Sorvete\n",
              "1    Pizza  Sorvete      NaN\n",
              "2  Cerveja    Pizza      NaN\n",
              "3  Cerveja    Pizza  Sorvete\n",
              "4  Cerveja    Pizza      NaN\n",
              "5    Pizza      NaN      NaN"
            ],
            "text/html": [
              "\n",
              "  <div id=\"df-0f5d6d6f-4619-4e80-82e3-beaf027cc3c1\">\n",
              "    <div class=\"colab-df-container\">\n",
              "      <div>\n",
              "<style scoped>\n",
              "    .dataframe tbody tr th:only-of-type {\n",
              "        vertical-align: middle;\n",
              "    }\n",
              "\n",
              "    .dataframe tbody tr th {\n",
              "        vertical-align: top;\n",
              "    }\n",
              "\n",
              "    .dataframe thead th {\n",
              "        text-align: right;\n",
              "    }\n",
              "</style>\n",
              "<table border=\"1\" class=\"dataframe\">\n",
              "  <thead>\n",
              "    <tr style=\"text-align: right;\">\n",
              "      <th></th>\n",
              "      <th>0</th>\n",
              "      <th>1</th>\n",
              "      <th>2</th>\n",
              "    </tr>\n",
              "  </thead>\n",
              "  <tbody>\n",
              "    <tr>\n",
              "      <th>0</th>\n",
              "      <td>Cerveja</td>\n",
              "      <td>Pizza</td>\n",
              "      <td>Sorvete</td>\n",
              "    </tr>\n",
              "    <tr>\n",
              "      <th>1</th>\n",
              "      <td>Pizza</td>\n",
              "      <td>Sorvete</td>\n",
              "      <td>NaN</td>\n",
              "    </tr>\n",
              "    <tr>\n",
              "      <th>2</th>\n",
              "      <td>Cerveja</td>\n",
              "      <td>Pizza</td>\n",
              "      <td>NaN</td>\n",
              "    </tr>\n",
              "    <tr>\n",
              "      <th>3</th>\n",
              "      <td>Cerveja</td>\n",
              "      <td>Pizza</td>\n",
              "      <td>Sorvete</td>\n",
              "    </tr>\n",
              "    <tr>\n",
              "      <th>4</th>\n",
              "      <td>Cerveja</td>\n",
              "      <td>Pizza</td>\n",
              "      <td>NaN</td>\n",
              "    </tr>\n",
              "    <tr>\n",
              "      <th>5</th>\n",
              "      <td>Pizza</td>\n",
              "      <td>NaN</td>\n",
              "      <td>NaN</td>\n",
              "    </tr>\n",
              "  </tbody>\n",
              "</table>\n",
              "</div>\n",
              "      <button class=\"colab-df-convert\" onclick=\"convertToInteractive('df-0f5d6d6f-4619-4e80-82e3-beaf027cc3c1')\"\n",
              "              title=\"Convert this dataframe to an interactive table.\"\n",
              "              style=\"display:none;\">\n",
              "        \n",
              "  <svg xmlns=\"http://www.w3.org/2000/svg\" height=\"24px\"viewBox=\"0 0 24 24\"\n",
              "       width=\"24px\">\n",
              "    <path d=\"M0 0h24v24H0V0z\" fill=\"none\"/>\n",
              "    <path d=\"M18.56 5.44l.94 2.06.94-2.06 2.06-.94-2.06-.94-.94-2.06-.94 2.06-2.06.94zm-11 1L8.5 8.5l.94-2.06 2.06-.94-2.06-.94L8.5 2.5l-.94 2.06-2.06.94zm10 10l.94 2.06.94-2.06 2.06-.94-2.06-.94-.94-2.06-.94 2.06-2.06.94z\"/><path d=\"M17.41 7.96l-1.37-1.37c-.4-.4-.92-.59-1.43-.59-.52 0-1.04.2-1.43.59L10.3 9.45l-7.72 7.72c-.78.78-.78 2.05 0 2.83L4 21.41c.39.39.9.59 1.41.59.51 0 1.02-.2 1.41-.59l7.78-7.78 2.81-2.81c.8-.78.8-2.07 0-2.86zM5.41 20L4 18.59l7.72-7.72 1.47 1.35L5.41 20z\"/>\n",
              "  </svg>\n",
              "      </button>\n",
              "      \n",
              "  <style>\n",
              "    .colab-df-container {\n",
              "      display:flex;\n",
              "      flex-wrap:wrap;\n",
              "      gap: 12px;\n",
              "    }\n",
              "\n",
              "    .colab-df-convert {\n",
              "      background-color: #E8F0FE;\n",
              "      border: none;\n",
              "      border-radius: 50%;\n",
              "      cursor: pointer;\n",
              "      display: none;\n",
              "      fill: #1967D2;\n",
              "      height: 32px;\n",
              "      padding: 0 0 0 0;\n",
              "      width: 32px;\n",
              "    }\n",
              "\n",
              "    .colab-df-convert:hover {\n",
              "      background-color: #E2EBFA;\n",
              "      box-shadow: 0px 1px 2px rgba(60, 64, 67, 0.3), 0px 1px 3px 1px rgba(60, 64, 67, 0.15);\n",
              "      fill: #174EA6;\n",
              "    }\n",
              "\n",
              "    [theme=dark] .colab-df-convert {\n",
              "      background-color: #3B4455;\n",
              "      fill: #D2E3FC;\n",
              "    }\n",
              "\n",
              "    [theme=dark] .colab-df-convert:hover {\n",
              "      background-color: #434B5C;\n",
              "      box-shadow: 0px 1px 3px 1px rgba(0, 0, 0, 0.15);\n",
              "      filter: drop-shadow(0px 1px 2px rgba(0, 0, 0, 0.3));\n",
              "      fill: #FFFFFF;\n",
              "    }\n",
              "  </style>\n",
              "\n",
              "      <script>\n",
              "        const buttonEl =\n",
              "          document.querySelector('#df-0f5d6d6f-4619-4e80-82e3-beaf027cc3c1 button.colab-df-convert');\n",
              "        buttonEl.style.display =\n",
              "          google.colab.kernel.accessAllowed ? 'block' : 'none';\n",
              "\n",
              "        async function convertToInteractive(key) {\n",
              "          const element = document.querySelector('#df-0f5d6d6f-4619-4e80-82e3-beaf027cc3c1');\n",
              "          const dataTable =\n",
              "            await google.colab.kernel.invokeFunction('convertToInteractive',\n",
              "                                                     [key], {});\n",
              "          if (!dataTable) return;\n",
              "\n",
              "          const docLinkHtml = 'Like what you see? Visit the ' +\n",
              "            '<a target=\"_blank\" href=https://colab.research.google.com/notebooks/data_table.ipynb>data table notebook</a>'\n",
              "            + ' to learn more about interactive tables.';\n",
              "          element.innerHTML = '';\n",
              "          dataTable['output_type'] = 'display_data';\n",
              "          await google.colab.output.renderOutput(dataTable, element);\n",
              "          const docLink = document.createElement('div');\n",
              "          docLink.innerHTML = docLinkHtml;\n",
              "          element.appendChild(docLink);\n",
              "        }\n",
              "      </script>\n",
              "    </div>\n",
              "  </div>\n",
              "  "
            ]
          },
          "metadata": {},
          "execution_count": 5
        }
      ]
    },
    {
      "cell_type": "code",
      "source": [
        "#transformação para  o fromato de lista, que é exigida pela biblioteca apyori - 6 é a quantidade de itens na base de dados\n",
        "transacoes = []\n",
        "for i in range(0,6):\n",
        "  transacoes.append([str(dados.values[i,j]) for j in range(0,3)])\n",
        "transacoes"
      ],
      "metadata": {
        "colab": {
          "base_uri": "https://localhost:8080/"
        },
        "id": "ScqQfj2gFQ4g",
        "outputId": "89f81fd5-c7bf-4181-b823-b9713b35d087"
      },
      "execution_count": null,
      "outputs": [
        {
          "output_type": "execute_result",
          "data": {
            "text/plain": [
              "[['Cerveja', 'Pizza', 'Sorvete'],\n",
              " ['Pizza', 'Sorvete', 'nan'],\n",
              " ['Cerveja', 'Pizza', 'nan'],\n",
              " ['Cerveja', 'Pizza', 'Sorvete'],\n",
              " ['Cerveja', 'Pizza', 'nan'],\n",
              " ['Pizza', 'nan', 'nan']]"
            ]
          },
          "metadata": {},
          "execution_count": 7
        }
      ]
    },
    {
      "cell_type": "code",
      "source": [
        "#algoritmo apriori - geração de regras de associação, definindo os parâmetros de suporte e confiança\n",
        "regras = apriori(transacoes, min_support= 0.5, min_confidence= 0.5, min_length=2)"
      ],
      "metadata": {
        "id": "F6XKLn10GF_u"
      },
      "execution_count": null,
      "outputs": []
    },
    {
      "cell_type": "code",
      "source": [
        "#Tratamentos para facilitar a compreensão dos dados\n",
        "#criação de nova variável para armazenar somente as regras de associação\n",
        "resultados = list(regras)\n",
        "print(resultados[0])\n",
        "resultados"
      ],
      "metadata": {
        "colab": {
          "base_uri": "https://localhost:8080/"
        },
        "id": "6OZHpflQGyLU",
        "outputId": "90cc2c22-664d-4b5a-f388-63d33c768ca2"
      },
      "execution_count": null,
      "outputs": [
        {
          "output_type": "stream",
          "name": "stdout",
          "text": [
            "RelationRecord(items=frozenset({'Cerveja'}), support=0.6666666666666666, ordered_statistics=[OrderedStatistic(items_base=frozenset(), items_add=frozenset({'Cerveja'}), confidence=0.6666666666666666, lift=1.0)])\n"
          ]
        },
        {
          "output_type": "execute_result",
          "data": {
            "text/plain": [
              "[RelationRecord(items=frozenset({'Cerveja'}), support=0.6666666666666666, ordered_statistics=[OrderedStatistic(items_base=frozenset(), items_add=frozenset({'Cerveja'}), confidence=0.6666666666666666, lift=1.0)]),\n",
              " RelationRecord(items=frozenset({'Pizza'}), support=1.0, ordered_statistics=[OrderedStatistic(items_base=frozenset(), items_add=frozenset({'Pizza'}), confidence=1.0, lift=1.0)]),\n",
              " RelationRecord(items=frozenset({'Sorvete'}), support=0.5, ordered_statistics=[OrderedStatistic(items_base=frozenset(), items_add=frozenset({'Sorvete'}), confidence=0.5, lift=1.0)]),\n",
              " RelationRecord(items=frozenset({'nan'}), support=0.6666666666666666, ordered_statistics=[OrderedStatistic(items_base=frozenset(), items_add=frozenset({'nan'}), confidence=0.6666666666666666, lift=1.0)]),\n",
              " RelationRecord(items=frozenset({'Pizza', 'Cerveja'}), support=0.6666666666666666, ordered_statistics=[OrderedStatistic(items_base=frozenset(), items_add=frozenset({'Pizza', 'Cerveja'}), confidence=0.6666666666666666, lift=1.0), OrderedStatistic(items_base=frozenset({'Cerveja'}), items_add=frozenset({'Pizza'}), confidence=1.0, lift=1.0), OrderedStatistic(items_base=frozenset({'Pizza'}), items_add=frozenset({'Cerveja'}), confidence=0.6666666666666666, lift=1.0)]),\n",
              " RelationRecord(items=frozenset({'Pizza', 'Sorvete'}), support=0.5, ordered_statistics=[OrderedStatistic(items_base=frozenset(), items_add=frozenset({'Pizza', 'Sorvete'}), confidence=0.5, lift=1.0), OrderedStatistic(items_base=frozenset({'Pizza'}), items_add=frozenset({'Sorvete'}), confidence=0.5, lift=1.0), OrderedStatistic(items_base=frozenset({'Sorvete'}), items_add=frozenset({'Pizza'}), confidence=1.0, lift=1.0)]),\n",
              " RelationRecord(items=frozenset({'Pizza', 'nan'}), support=0.6666666666666666, ordered_statistics=[OrderedStatistic(items_base=frozenset(), items_add=frozenset({'Pizza', 'nan'}), confidence=0.6666666666666666, lift=1.0), OrderedStatistic(items_base=frozenset({'Pizza'}), items_add=frozenset({'nan'}), confidence=0.6666666666666666, lift=1.0), OrderedStatistic(items_base=frozenset({'nan'}), items_add=frozenset({'Pizza'}), confidence=1.0, lift=1.0)])]"
            ]
          },
          "metadata": {},
          "execution_count": 9
        }
      ]
    },
    {
      "cell_type": "code",
      "source": [
        "resultados2 = [list(x) for x in resultados]\n",
        "resultados2"
      ],
      "metadata": {
        "colab": {
          "base_uri": "https://localhost:8080/"
        },
        "id": "AQlQiQaiHDtp",
        "outputId": "4c310ee5-c411-4d10-e838-42f79bb0c86c"
      },
      "execution_count": null,
      "outputs": [
        {
          "output_type": "execute_result",
          "data": {
            "text/plain": [
              "[[frozenset({'Cerveja'}),\n",
              "  0.6666666666666666,\n",
              "  [OrderedStatistic(items_base=frozenset(), items_add=frozenset({'Cerveja'}), confidence=0.6666666666666666, lift=1.0)]],\n",
              " [frozenset({'Pizza'}),\n",
              "  1.0,\n",
              "  [OrderedStatistic(items_base=frozenset(), items_add=frozenset({'Pizza'}), confidence=1.0, lift=1.0)]],\n",
              " [frozenset({'Sorvete'}),\n",
              "  0.5,\n",
              "  [OrderedStatistic(items_base=frozenset(), items_add=frozenset({'Sorvete'}), confidence=0.5, lift=1.0)]],\n",
              " [frozenset({'nan'}),\n",
              "  0.6666666666666666,\n",
              "  [OrderedStatistic(items_base=frozenset(), items_add=frozenset({'nan'}), confidence=0.6666666666666666, lift=1.0)]],\n",
              " [frozenset({'Cerveja', 'Pizza'}),\n",
              "  0.6666666666666666,\n",
              "  [OrderedStatistic(items_base=frozenset(), items_add=frozenset({'Pizza', 'Cerveja'}), confidence=0.6666666666666666, lift=1.0),\n",
              "   OrderedStatistic(items_base=frozenset({'Cerveja'}), items_add=frozenset({'Pizza'}), confidence=1.0, lift=1.0),\n",
              "   OrderedStatistic(items_base=frozenset({'Pizza'}), items_add=frozenset({'Cerveja'}), confidence=0.6666666666666666, lift=1.0)]],\n",
              " [frozenset({'Pizza', 'Sorvete'}),\n",
              "  0.5,\n",
              "  [OrderedStatistic(items_base=frozenset(), items_add=frozenset({'Pizza', 'Sorvete'}), confidence=0.5, lift=1.0),\n",
              "   OrderedStatistic(items_base=frozenset({'Pizza'}), items_add=frozenset({'Sorvete'}), confidence=0.5, lift=1.0),\n",
              "   OrderedStatistic(items_base=frozenset({'Sorvete'}), items_add=frozenset({'Pizza'}), confidence=1.0, lift=1.0)]],\n",
              " [frozenset({'Pizza', 'nan'}),\n",
              "  0.6666666666666666,\n",
              "  [OrderedStatistic(items_base=frozenset(), items_add=frozenset({'Pizza', 'nan'}), confidence=0.6666666666666666, lift=1.0),\n",
              "   OrderedStatistic(items_base=frozenset({'Pizza'}), items_add=frozenset({'nan'}), confidence=0.6666666666666666, lift=1.0),\n",
              "   OrderedStatistic(items_base=frozenset({'nan'}), items_add=frozenset({'Pizza'}), confidence=1.0, lift=1.0)]]]"
            ]
          },
          "metadata": {},
          "execution_count": 10
        }
      ]
    },
    {
      "cell_type": "code",
      "source": [
        "resultados3 = []\n",
        "for j in range(0,7):\n",
        "  resultados3.append([list(x) for x in resultados2[j][2]])\n",
        "resultados3\n",
        "#dois ultimos elementos --> confiança e lift"
      ],
      "metadata": {
        "colab": {
          "base_uri": "https://localhost:8080/"
        },
        "id": "CRj6GqWpHiTc",
        "outputId": "04c285e8-3bc2-448e-b6dd-c885ceab20be"
      },
      "execution_count": null,
      "outputs": [
        {
          "output_type": "execute_result",
          "data": {
            "text/plain": [
              "[[[frozenset(), frozenset({'Cerveja'}), 0.6666666666666666, 1.0]],\n",
              " [[frozenset(), frozenset({'Pizza'}), 1.0, 1.0]],\n",
              " [[frozenset(), frozenset({'Sorvete'}), 0.5, 1.0]],\n",
              " [[frozenset(), frozenset({'nan'}), 0.6666666666666666, 1.0]],\n",
              " [[frozenset(), frozenset({'Cerveja', 'Pizza'}), 0.6666666666666666, 1.0],\n",
              "  [frozenset({'Cerveja'}), frozenset({'Pizza'}), 1.0, 1.0],\n",
              "  [frozenset({'Pizza'}), frozenset({'Cerveja'}), 0.6666666666666666, 1.0]],\n",
              " [[frozenset(), frozenset({'Pizza', 'Sorvete'}), 0.5, 1.0],\n",
              "  [frozenset({'Pizza'}), frozenset({'Sorvete'}), 0.5, 1.0],\n",
              "  [frozenset({'Sorvete'}), frozenset({'Pizza'}), 1.0, 1.0]],\n",
              " [[frozenset(), frozenset({'Pizza', 'nan'}), 0.6666666666666666, 1.0],\n",
              "  [frozenset({'Pizza'}), frozenset({'nan'}), 0.6666666666666666, 1.0],\n",
              "  [frozenset({'nan'}), frozenset({'Pizza'}), 1.0, 1.0]]]"
            ]
          },
          "metadata": {},
          "execution_count": 11
        }
      ]
    },
    {
      "cell_type": "markdown",
      "source": [
        "**Algoritmo Eclat**\n",
        "\n",
        "Faz a mineração de regras de associação. Busca a frequência de itens nas transações.\n",
        "\n",
        "https://github.com/Vachik-Dave/Data-Mining/blob/master/Eclat%20Algorithm%20in%20Python/Eclat.py\n"
      ],
      "metadata": {
        "id": "RqRw7utEMElt"
      }
    }
  ]
}